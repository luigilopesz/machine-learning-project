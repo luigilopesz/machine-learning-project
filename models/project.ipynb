{
 "cells": [
  {
   "cell_type": "markdown",
   "metadata": {},
   "source": [
    "# Carregando os dados"
   ]
  },
  {
   "cell_type": "code",
   "execution_count": 25,
   "metadata": {},
   "outputs": [
    {
     "data": {
      "application/vnd.microsoft.datawrangler.viewer.v0+json": {
       "columns": [
        {
         "name": "index",
         "rawType": "int64",
         "type": "integer"
        },
        {
         "name": "Order",
         "rawType": "int64",
         "type": "integer"
        },
        {
         "name": "PID",
         "rawType": "int64",
         "type": "integer"
        },
        {
         "name": "MS.SubClass",
         "rawType": "int64",
         "type": "integer"
        },
        {
         "name": "MS.Zoning",
         "rawType": "object",
         "type": "string"
        },
        {
         "name": "Lot.Frontage",
         "rawType": "float64",
         "type": "float"
        },
        {
         "name": "Lot.Area",
         "rawType": "int64",
         "type": "integer"
        },
        {
         "name": "Street",
         "rawType": "object",
         "type": "string"
        },
        {
         "name": "Alley",
         "rawType": "object",
         "type": "unknown"
        },
        {
         "name": "Lot.Shape",
         "rawType": "object",
         "type": "string"
        },
        {
         "name": "Land.Contour",
         "rawType": "object",
         "type": "string"
        },
        {
         "name": "Utilities",
         "rawType": "object",
         "type": "string"
        },
        {
         "name": "Lot.Config",
         "rawType": "object",
         "type": "string"
        },
        {
         "name": "Land.Slope",
         "rawType": "object",
         "type": "string"
        },
        {
         "name": "Neighborhood",
         "rawType": "object",
         "type": "string"
        },
        {
         "name": "Condition.1",
         "rawType": "object",
         "type": "string"
        },
        {
         "name": "Condition.2",
         "rawType": "object",
         "type": "string"
        },
        {
         "name": "Bldg.Type",
         "rawType": "object",
         "type": "string"
        },
        {
         "name": "House.Style",
         "rawType": "object",
         "type": "string"
        },
        {
         "name": "Overall.Qual",
         "rawType": "int64",
         "type": "integer"
        },
        {
         "name": "Overall.Cond",
         "rawType": "int64",
         "type": "integer"
        },
        {
         "name": "Year.Built",
         "rawType": "int64",
         "type": "integer"
        },
        {
         "name": "Year.Remod.Add",
         "rawType": "int64",
         "type": "integer"
        },
        {
         "name": "Roof.Style",
         "rawType": "object",
         "type": "string"
        },
        {
         "name": "Roof.Matl",
         "rawType": "object",
         "type": "string"
        },
        {
         "name": "Exterior.1st",
         "rawType": "object",
         "type": "string"
        },
        {
         "name": "Exterior.2nd",
         "rawType": "object",
         "type": "string"
        },
        {
         "name": "Mas.Vnr.Type",
         "rawType": "object",
         "type": "unknown"
        },
        {
         "name": "Mas.Vnr.Area",
         "rawType": "float64",
         "type": "float"
        },
        {
         "name": "Exter.Qual",
         "rawType": "object",
         "type": "string"
        },
        {
         "name": "Exter.Cond",
         "rawType": "object",
         "type": "string"
        },
        {
         "name": "Foundation",
         "rawType": "object",
         "type": "string"
        },
        {
         "name": "Bsmt.Qual",
         "rawType": "object",
         "type": "string"
        },
        {
         "name": "Bsmt.Cond",
         "rawType": "object",
         "type": "string"
        },
        {
         "name": "Bsmt.Exposure",
         "rawType": "object",
         "type": "string"
        },
        {
         "name": "BsmtFin.Type.1",
         "rawType": "object",
         "type": "string"
        },
        {
         "name": "BsmtFin.SF.1",
         "rawType": "float64",
         "type": "float"
        },
        {
         "name": "BsmtFin.Type.2",
         "rawType": "object",
         "type": "string"
        },
        {
         "name": "BsmtFin.SF.2",
         "rawType": "float64",
         "type": "float"
        },
        {
         "name": "Bsmt.Unf.SF",
         "rawType": "float64",
         "type": "float"
        },
        {
         "name": "Total.Bsmt.SF",
         "rawType": "float64",
         "type": "float"
        },
        {
         "name": "Heating",
         "rawType": "object",
         "type": "string"
        },
        {
         "name": "Heating.QC",
         "rawType": "object",
         "type": "string"
        },
        {
         "name": "Central.Air",
         "rawType": "object",
         "type": "string"
        },
        {
         "name": "Electrical",
         "rawType": "object",
         "type": "string"
        },
        {
         "name": "X1st.Flr.SF",
         "rawType": "int64",
         "type": "integer"
        },
        {
         "name": "X2nd.Flr.SF",
         "rawType": "int64",
         "type": "integer"
        },
        {
         "name": "Low.Qual.Fin.SF",
         "rawType": "int64",
         "type": "integer"
        },
        {
         "name": "Gr.Liv.Area",
         "rawType": "int64",
         "type": "integer"
        },
        {
         "name": "Bsmt.Full.Bath",
         "rawType": "float64",
         "type": "float"
        },
        {
         "name": "Bsmt.Half.Bath",
         "rawType": "float64",
         "type": "float"
        },
        {
         "name": "Full.Bath",
         "rawType": "int64",
         "type": "integer"
        },
        {
         "name": "Half.Bath",
         "rawType": "int64",
         "type": "integer"
        },
        {
         "name": "Bedroom.AbvGr",
         "rawType": "int64",
         "type": "integer"
        },
        {
         "name": "Kitchen.AbvGr",
         "rawType": "int64",
         "type": "integer"
        },
        {
         "name": "Kitchen.Qual",
         "rawType": "object",
         "type": "string"
        },
        {
         "name": "TotRms.AbvGrd",
         "rawType": "int64",
         "type": "integer"
        },
        {
         "name": "Functional",
         "rawType": "object",
         "type": "string"
        },
        {
         "name": "Fireplaces",
         "rawType": "int64",
         "type": "integer"
        },
        {
         "name": "Fireplace.Qu",
         "rawType": "object",
         "type": "unknown"
        },
        {
         "name": "Garage.Type",
         "rawType": "object",
         "type": "string"
        },
        {
         "name": "Garage.Yr.Blt",
         "rawType": "float64",
         "type": "float"
        },
        {
         "name": "Garage.Finish",
         "rawType": "object",
         "type": "string"
        },
        {
         "name": "Garage.Cars",
         "rawType": "float64",
         "type": "float"
        },
        {
         "name": "Garage.Area",
         "rawType": "float64",
         "type": "float"
        },
        {
         "name": "Garage.Qual",
         "rawType": "object",
         "type": "string"
        },
        {
         "name": "Garage.Cond",
         "rawType": "object",
         "type": "string"
        },
        {
         "name": "Paved.Drive",
         "rawType": "object",
         "type": "string"
        },
        {
         "name": "Wood.Deck.SF",
         "rawType": "int64",
         "type": "integer"
        },
        {
         "name": "Open.Porch.SF",
         "rawType": "int64",
         "type": "integer"
        },
        {
         "name": "Enclosed.Porch",
         "rawType": "int64",
         "type": "integer"
        },
        {
         "name": "X3Ssn.Porch",
         "rawType": "int64",
         "type": "integer"
        },
        {
         "name": "Screen.Porch",
         "rawType": "int64",
         "type": "integer"
        },
        {
         "name": "Pool.Area",
         "rawType": "int64",
         "type": "integer"
        },
        {
         "name": "Pool.QC",
         "rawType": "object",
         "type": "unknown"
        },
        {
         "name": "Fence",
         "rawType": "object",
         "type": "unknown"
        },
        {
         "name": "Misc.Feature",
         "rawType": "object",
         "type": "unknown"
        },
        {
         "name": "Misc.Val",
         "rawType": "int64",
         "type": "integer"
        },
        {
         "name": "Mo.Sold",
         "rawType": "int64",
         "type": "integer"
        },
        {
         "name": "Yr.Sold",
         "rawType": "int64",
         "type": "integer"
        },
        {
         "name": "Sale.Type",
         "rawType": "object",
         "type": "string"
        },
        {
         "name": "Sale.Condition",
         "rawType": "object",
         "type": "string"
        },
        {
         "name": "SalePrice",
         "rawType": "int64",
         "type": "integer"
        }
       ],
       "conversionMethod": "pd.DataFrame",
       "ref": "bfb970b3-a457-4627-bf79-1de9dd671687",
       "rows": [
        [
         "0",
         "1",
         "526301100",
         "20",
         "RL",
         "141.0",
         "31770",
         "Pave",
         null,
         "IR1",
         "Lvl",
         "AllPub",
         "Corner",
         "Gtl",
         "NAmes",
         "Norm",
         "Norm",
         "1Fam",
         "1Story",
         "6",
         "5",
         "1960",
         "1960",
         "Hip",
         "CompShg",
         "BrkFace",
         "Plywood",
         "Stone",
         "112.0",
         "TA",
         "TA",
         "CBlock",
         "TA",
         "Gd",
         "Gd",
         "BLQ",
         "639.0",
         "Unf",
         "0.0",
         "441.0",
         "1080.0",
         "GasA",
         "Fa",
         "Y",
         "SBrkr",
         "1656",
         "0",
         "0",
         "1656",
         "1.0",
         "0.0",
         "1",
         "0",
         "3",
         "1",
         "TA",
         "7",
         "Typ",
         "2",
         "Gd",
         "Attchd",
         "1960.0",
         "Fin",
         "2.0",
         "528.0",
         "TA",
         "TA",
         "P",
         "210",
         "62",
         "0",
         "0",
         "0",
         "0",
         null,
         null,
         null,
         "0",
         "5",
         "2010",
         "WD ",
         "Normal",
         "215000"
        ],
        [
         "1",
         "2",
         "526350040",
         "20",
         "RH",
         "80.0",
         "11622",
         "Pave",
         null,
         "Reg",
         "Lvl",
         "AllPub",
         "Inside",
         "Gtl",
         "NAmes",
         "Feedr",
         "Norm",
         "1Fam",
         "1Story",
         "5",
         "6",
         "1961",
         "1961",
         "Gable",
         "CompShg",
         "VinylSd",
         "VinylSd",
         null,
         "0.0",
         "TA",
         "TA",
         "CBlock",
         "TA",
         "TA",
         "No",
         "Rec",
         "468.0",
         "LwQ",
         "144.0",
         "270.0",
         "882.0",
         "GasA",
         "TA",
         "Y",
         "SBrkr",
         "896",
         "0",
         "0",
         "896",
         "0.0",
         "0.0",
         "1",
         "0",
         "2",
         "1",
         "TA",
         "5",
         "Typ",
         "0",
         null,
         "Attchd",
         "1961.0",
         "Unf",
         "1.0",
         "730.0",
         "TA",
         "TA",
         "Y",
         "140",
         "0",
         "0",
         "0",
         "120",
         "0",
         null,
         "MnPrv",
         null,
         "0",
         "6",
         "2010",
         "WD ",
         "Normal",
         "105000"
        ],
        [
         "2",
         "3",
         "526351010",
         "20",
         "RL",
         "81.0",
         "14267",
         "Pave",
         null,
         "IR1",
         "Lvl",
         "AllPub",
         "Corner",
         "Gtl",
         "NAmes",
         "Norm",
         "Norm",
         "1Fam",
         "1Story",
         "6",
         "6",
         "1958",
         "1958",
         "Hip",
         "CompShg",
         "Wd Sdng",
         "Wd Sdng",
         "BrkFace",
         "108.0",
         "TA",
         "TA",
         "CBlock",
         "TA",
         "TA",
         "No",
         "ALQ",
         "923.0",
         "Unf",
         "0.0",
         "406.0",
         "1329.0",
         "GasA",
         "TA",
         "Y",
         "SBrkr",
         "1329",
         "0",
         "0",
         "1329",
         "0.0",
         "0.0",
         "1",
         "1",
         "3",
         "1",
         "Gd",
         "6",
         "Typ",
         "0",
         null,
         "Attchd",
         "1958.0",
         "Unf",
         "1.0",
         "312.0",
         "TA",
         "TA",
         "Y",
         "393",
         "36",
         "0",
         "0",
         "0",
         "0",
         null,
         null,
         "Gar2",
         "12500",
         "6",
         "2010",
         "WD ",
         "Normal",
         "172000"
        ],
        [
         "3",
         "4",
         "526353030",
         "20",
         "RL",
         "93.0",
         "11160",
         "Pave",
         null,
         "Reg",
         "Lvl",
         "AllPub",
         "Corner",
         "Gtl",
         "NAmes",
         "Norm",
         "Norm",
         "1Fam",
         "1Story",
         "7",
         "5",
         "1968",
         "1968",
         "Hip",
         "CompShg",
         "BrkFace",
         "BrkFace",
         null,
         "0.0",
         "Gd",
         "TA",
         "CBlock",
         "TA",
         "TA",
         "No",
         "ALQ",
         "1065.0",
         "Unf",
         "0.0",
         "1045.0",
         "2110.0",
         "GasA",
         "Ex",
         "Y",
         "SBrkr",
         "2110",
         "0",
         "0",
         "2110",
         "1.0",
         "0.0",
         "2",
         "1",
         "3",
         "1",
         "Ex",
         "8",
         "Typ",
         "2",
         "TA",
         "Attchd",
         "1968.0",
         "Fin",
         "2.0",
         "522.0",
         "TA",
         "TA",
         "Y",
         "0",
         "0",
         "0",
         "0",
         "0",
         "0",
         null,
         null,
         null,
         "0",
         "4",
         "2010",
         "WD ",
         "Normal",
         "244000"
        ],
        [
         "4",
         "5",
         "527105010",
         "60",
         "RL",
         "74.0",
         "13830",
         "Pave",
         null,
         "IR1",
         "Lvl",
         "AllPub",
         "Inside",
         "Gtl",
         "Gilbert",
         "Norm",
         "Norm",
         "1Fam",
         "2Story",
         "5",
         "5",
         "1997",
         "1998",
         "Gable",
         "CompShg",
         "VinylSd",
         "VinylSd",
         null,
         "0.0",
         "TA",
         "TA",
         "PConc",
         "Gd",
         "TA",
         "No",
         "GLQ",
         "791.0",
         "Unf",
         "0.0",
         "137.0",
         "928.0",
         "GasA",
         "Gd",
         "Y",
         "SBrkr",
         "928",
         "701",
         "0",
         "1629",
         "0.0",
         "0.0",
         "2",
         "1",
         "3",
         "1",
         "TA",
         "6",
         "Typ",
         "1",
         "TA",
         "Attchd",
         "1997.0",
         "Fin",
         "2.0",
         "482.0",
         "TA",
         "TA",
         "Y",
         "212",
         "34",
         "0",
         "0",
         "0",
         "0",
         null,
         "MnPrv",
         null,
         "0",
         "3",
         "2010",
         "WD ",
         "Normal",
         "189900"
        ]
       ],
       "shape": {
        "columns": 82,
        "rows": 5
       }
      },
      "text/html": [
       "<div>\n",
       "<style scoped>\n",
       "    .dataframe tbody tr th:only-of-type {\n",
       "        vertical-align: middle;\n",
       "    }\n",
       "\n",
       "    .dataframe tbody tr th {\n",
       "        vertical-align: top;\n",
       "    }\n",
       "\n",
       "    .dataframe thead th {\n",
       "        text-align: right;\n",
       "    }\n",
       "</style>\n",
       "<table border=\"1\" class=\"dataframe\">\n",
       "  <thead>\n",
       "    <tr style=\"text-align: right;\">\n",
       "      <th></th>\n",
       "      <th>Order</th>\n",
       "      <th>PID</th>\n",
       "      <th>MS.SubClass</th>\n",
       "      <th>MS.Zoning</th>\n",
       "      <th>Lot.Frontage</th>\n",
       "      <th>Lot.Area</th>\n",
       "      <th>Street</th>\n",
       "      <th>Alley</th>\n",
       "      <th>Lot.Shape</th>\n",
       "      <th>Land.Contour</th>\n",
       "      <th>...</th>\n",
       "      <th>Pool.Area</th>\n",
       "      <th>Pool.QC</th>\n",
       "      <th>Fence</th>\n",
       "      <th>Misc.Feature</th>\n",
       "      <th>Misc.Val</th>\n",
       "      <th>Mo.Sold</th>\n",
       "      <th>Yr.Sold</th>\n",
       "      <th>Sale.Type</th>\n",
       "      <th>Sale.Condition</th>\n",
       "      <th>SalePrice</th>\n",
       "    </tr>\n",
       "  </thead>\n",
       "  <tbody>\n",
       "    <tr>\n",
       "      <th>0</th>\n",
       "      <td>1</td>\n",
       "      <td>526301100</td>\n",
       "      <td>20</td>\n",
       "      <td>RL</td>\n",
       "      <td>141.0</td>\n",
       "      <td>31770</td>\n",
       "      <td>Pave</td>\n",
       "      <td>NaN</td>\n",
       "      <td>IR1</td>\n",
       "      <td>Lvl</td>\n",
       "      <td>...</td>\n",
       "      <td>0</td>\n",
       "      <td>NaN</td>\n",
       "      <td>NaN</td>\n",
       "      <td>NaN</td>\n",
       "      <td>0</td>\n",
       "      <td>5</td>\n",
       "      <td>2010</td>\n",
       "      <td>WD</td>\n",
       "      <td>Normal</td>\n",
       "      <td>215000</td>\n",
       "    </tr>\n",
       "    <tr>\n",
       "      <th>1</th>\n",
       "      <td>2</td>\n",
       "      <td>526350040</td>\n",
       "      <td>20</td>\n",
       "      <td>RH</td>\n",
       "      <td>80.0</td>\n",
       "      <td>11622</td>\n",
       "      <td>Pave</td>\n",
       "      <td>NaN</td>\n",
       "      <td>Reg</td>\n",
       "      <td>Lvl</td>\n",
       "      <td>...</td>\n",
       "      <td>0</td>\n",
       "      <td>NaN</td>\n",
       "      <td>MnPrv</td>\n",
       "      <td>NaN</td>\n",
       "      <td>0</td>\n",
       "      <td>6</td>\n",
       "      <td>2010</td>\n",
       "      <td>WD</td>\n",
       "      <td>Normal</td>\n",
       "      <td>105000</td>\n",
       "    </tr>\n",
       "    <tr>\n",
       "      <th>2</th>\n",
       "      <td>3</td>\n",
       "      <td>526351010</td>\n",
       "      <td>20</td>\n",
       "      <td>RL</td>\n",
       "      <td>81.0</td>\n",
       "      <td>14267</td>\n",
       "      <td>Pave</td>\n",
       "      <td>NaN</td>\n",
       "      <td>IR1</td>\n",
       "      <td>Lvl</td>\n",
       "      <td>...</td>\n",
       "      <td>0</td>\n",
       "      <td>NaN</td>\n",
       "      <td>NaN</td>\n",
       "      <td>Gar2</td>\n",
       "      <td>12500</td>\n",
       "      <td>6</td>\n",
       "      <td>2010</td>\n",
       "      <td>WD</td>\n",
       "      <td>Normal</td>\n",
       "      <td>172000</td>\n",
       "    </tr>\n",
       "    <tr>\n",
       "      <th>3</th>\n",
       "      <td>4</td>\n",
       "      <td>526353030</td>\n",
       "      <td>20</td>\n",
       "      <td>RL</td>\n",
       "      <td>93.0</td>\n",
       "      <td>11160</td>\n",
       "      <td>Pave</td>\n",
       "      <td>NaN</td>\n",
       "      <td>Reg</td>\n",
       "      <td>Lvl</td>\n",
       "      <td>...</td>\n",
       "      <td>0</td>\n",
       "      <td>NaN</td>\n",
       "      <td>NaN</td>\n",
       "      <td>NaN</td>\n",
       "      <td>0</td>\n",
       "      <td>4</td>\n",
       "      <td>2010</td>\n",
       "      <td>WD</td>\n",
       "      <td>Normal</td>\n",
       "      <td>244000</td>\n",
       "    </tr>\n",
       "    <tr>\n",
       "      <th>4</th>\n",
       "      <td>5</td>\n",
       "      <td>527105010</td>\n",
       "      <td>60</td>\n",
       "      <td>RL</td>\n",
       "      <td>74.0</td>\n",
       "      <td>13830</td>\n",
       "      <td>Pave</td>\n",
       "      <td>NaN</td>\n",
       "      <td>IR1</td>\n",
       "      <td>Lvl</td>\n",
       "      <td>...</td>\n",
       "      <td>0</td>\n",
       "      <td>NaN</td>\n",
       "      <td>MnPrv</td>\n",
       "      <td>NaN</td>\n",
       "      <td>0</td>\n",
       "      <td>3</td>\n",
       "      <td>2010</td>\n",
       "      <td>WD</td>\n",
       "      <td>Normal</td>\n",
       "      <td>189900</td>\n",
       "    </tr>\n",
       "  </tbody>\n",
       "</table>\n",
       "<p>5 rows × 82 columns</p>\n",
       "</div>"
      ],
      "text/plain": [
       "   Order        PID  MS.SubClass MS.Zoning  Lot.Frontage  Lot.Area Street  \\\n",
       "0      1  526301100           20        RL         141.0     31770   Pave   \n",
       "1      2  526350040           20        RH          80.0     11622   Pave   \n",
       "2      3  526351010           20        RL          81.0     14267   Pave   \n",
       "3      4  526353030           20        RL          93.0     11160   Pave   \n",
       "4      5  527105010           60        RL          74.0     13830   Pave   \n",
       "\n",
       "  Alley Lot.Shape Land.Contour  ... Pool.Area Pool.QC  Fence Misc.Feature  \\\n",
       "0   NaN       IR1          Lvl  ...         0     NaN    NaN          NaN   \n",
       "1   NaN       Reg          Lvl  ...         0     NaN  MnPrv          NaN   \n",
       "2   NaN       IR1          Lvl  ...         0     NaN    NaN         Gar2   \n",
       "3   NaN       Reg          Lvl  ...         0     NaN    NaN          NaN   \n",
       "4   NaN       IR1          Lvl  ...         0     NaN  MnPrv          NaN   \n",
       "\n",
       "  Misc.Val Mo.Sold Yr.Sold Sale.Type  Sale.Condition  SalePrice  \n",
       "0        0       5    2010       WD           Normal     215000  \n",
       "1        0       6    2010       WD           Normal     105000  \n",
       "2    12500       6    2010       WD           Normal     172000  \n",
       "3        0       4    2010       WD           Normal     244000  \n",
       "4        0       3    2010       WD           Normal     189900  \n",
       "\n",
       "[5 rows x 82 columns]"
      ]
     },
     "execution_count": 25,
     "metadata": {},
     "output_type": "execute_result"
    }
   ],
   "source": [
    "import pandas as pd\n",
    "import numpy as np\n",
    "\n",
    "def load_data(data_path: str) -> pd.DataFrame:\n",
    "    data = pd.read_csv(data_path)\n",
    "    return data\n",
    "\n",
    "df = load_data(\"../data/ames.csv\")\n",
    "\n",
    "df.head()"
   ]
  },
  {
   "cell_type": "markdown",
   "metadata": {},
   "source": [
    "# Escolhendo features de interesse (15)\n",
    "\n",
    "#### Usamos o site \"American Statistical Association\" para entender melhor o que cada coluna significa\n",
    "##### link (https://jse.amstat.org/v19n3/decock/DataDocumentation.txt)\n",
    "\n",
    "\n",
    "- As features escolhidas foram:\n",
    "\n",
    "    - Numéricas:\n",
    "        - Gr.Liv.Area\n",
    "        - Garage.Cars\n",
    "        - Total.Bsmt.SF\n",
    "        - Mas.Vnr.Area\n",
    "        - Fireplaces\n",
    "        - BsmtFin.SF.1\n",
    "        - Lot.Frontage\n",
    "        - Lot.Area\n",
    "        - TotRms.AbvGrd\n",
    "        - Year.Remod.Add   \n",
    "        - X1st.Flr.SF    \n",
    "        - X2nd.Flr.SF     \n",
    "        - Bsmt.Full.Bath   \n",
    "        - Bsmt.Half.Bath   \n",
    "        - Full.Bath    \n",
    "        - Half.Bath       \n",
    "\n",
    "    - Categóricas:\n",
    "        - Neighborhood\n",
    "        - Overall.Qual\n",
    "        - House.Style\n",
    "        - Foundation\n",
    "\n",
    "### Note que escolhemos mais de 15 features, mas vamos combinar algumas delas na seção \"Feature Engineering\""
   ]
  },
  {
   "cell_type": "markdown",
   "metadata": {},
   "source": [
    "## Features com correlações maiores ao nosso target são mais importantes para o modelo\n",
    "\n",
    "### vamos analisar quais são:"
   ]
  },
  {
   "cell_type": "code",
   "execution_count": 26,
   "metadata": {},
   "outputs": [
    {
     "data": {
      "text/plain": [
       "SalePrice         1.000000\n",
       "Overall.Qual      0.799262\n",
       "Gr.Liv.Area       0.706780\n",
       "Garage.Cars       0.647877\n",
       "Garage.Area       0.640401\n",
       "Total.Bsmt.SF     0.632280\n",
       "X1st.Flr.SF       0.621676\n",
       "Year.Built        0.558426\n",
       "Full.Bath         0.545604\n",
       "Year.Remod.Add    0.532974\n",
       "Garage.Yr.Blt     0.526965\n",
       "Mas.Vnr.Area      0.508285\n",
       "TotRms.AbvGrd     0.495474\n",
       "Fireplaces        0.474558\n",
       "BsmtFin.SF.1      0.432914\n",
       "Lot.Frontage      0.357318\n",
       "Wood.Deck.SF      0.327143\n",
       "Open.Porch.SF     0.312951\n",
       "Half.Bath         0.285056\n",
       "Bsmt.Full.Bath    0.276050\n",
       "X2nd.Flr.SF       0.269373\n",
       "Lot.Area          0.266549\n",
       "Bsmt.Unf.SF       0.182855\n",
       "Bedroom.AbvGr     0.143913\n",
       "Screen.Porch      0.112151\n",
       "Name: SalePrice, dtype: float64"
      ]
     },
     "execution_count": 26,
     "metadata": {},
     "output_type": "execute_result"
    }
   ],
   "source": [
    "top_correlation_features = df.select_dtypes(include=['number']).corr()[\"SalePrice\"].sort_values(ascending=False).head(25)\n",
    "top_correlation_features"
   ]
  },
  {
   "cell_type": "code",
   "execution_count": 27,
   "metadata": {},
   "outputs": [
    {
     "data": {
      "application/vnd.microsoft.datawrangler.viewer.v0+json": {
       "columns": [
        {
         "name": "index",
         "rawType": "int64",
         "type": "integer"
        },
        {
         "name": "Gr.Liv.Area",
         "rawType": "int64",
         "type": "integer"
        },
        {
         "name": "Garage.Cars",
         "rawType": "float64",
         "type": "float"
        },
        {
         "name": "Total.Bsmt.SF",
         "rawType": "float64",
         "type": "float"
        },
        {
         "name": "Mas.Vnr.Area",
         "rawType": "float64",
         "type": "float"
        },
        {
         "name": "Fireplaces",
         "rawType": "int64",
         "type": "integer"
        },
        {
         "name": "BsmtFin.SF.1",
         "rawType": "float64",
         "type": "float"
        },
        {
         "name": "Lot.Frontage",
         "rawType": "float64",
         "type": "float"
        },
        {
         "name": "Lot.Area",
         "rawType": "int64",
         "type": "integer"
        },
        {
         "name": "TotRms.AbvGrd",
         "rawType": "int64",
         "type": "integer"
        },
        {
         "name": "Year.Remod.Add",
         "rawType": "int64",
         "type": "integer"
        },
        {
         "name": "X1st.Flr.SF",
         "rawType": "int64",
         "type": "integer"
        },
        {
         "name": "X2nd.Flr.SF",
         "rawType": "int64",
         "type": "integer"
        },
        {
         "name": "Bsmt.Full.Bath",
         "rawType": "float64",
         "type": "float"
        },
        {
         "name": "Bsmt.Half.Bath",
         "rawType": "float64",
         "type": "float"
        },
        {
         "name": "Full.Bath",
         "rawType": "int64",
         "type": "integer"
        },
        {
         "name": "Half.Bath",
         "rawType": "int64",
         "type": "integer"
        },
        {
         "name": "Neighborhood",
         "rawType": "object",
         "type": "string"
        },
        {
         "name": "Overall.Qual",
         "rawType": "int64",
         "type": "integer"
        },
        {
         "name": "House.Style",
         "rawType": "object",
         "type": "string"
        },
        {
         "name": "Foundation",
         "rawType": "object",
         "type": "string"
        },
        {
         "name": "SalePrice",
         "rawType": "int64",
         "type": "integer"
        }
       ],
       "conversionMethod": "pd.DataFrame",
       "ref": "811b9ab1-b217-45de-b91b-23f2ed666f19",
       "rows": [
        [
         "0",
         "1656",
         "2.0",
         "1080.0",
         "112.0",
         "2",
         "639.0",
         "141.0",
         "31770",
         "7",
         "1960",
         "1656",
         "0",
         "1.0",
         "0.0",
         "1",
         "0",
         "NAmes",
         "6",
         "1Story",
         "CBlock",
         "215000"
        ],
        [
         "1",
         "896",
         "1.0",
         "882.0",
         "0.0",
         "0",
         "468.0",
         "80.0",
         "11622",
         "5",
         "1961",
         "896",
         "0",
         "0.0",
         "0.0",
         "1",
         "0",
         "NAmes",
         "5",
         "1Story",
         "CBlock",
         "105000"
        ],
        [
         "2",
         "1329",
         "1.0",
         "1329.0",
         "108.0",
         "0",
         "923.0",
         "81.0",
         "14267",
         "6",
         "1958",
         "1329",
         "0",
         "0.0",
         "0.0",
         "1",
         "1",
         "NAmes",
         "6",
         "1Story",
         "CBlock",
         "172000"
        ],
        [
         "3",
         "2110",
         "2.0",
         "2110.0",
         "0.0",
         "2",
         "1065.0",
         "93.0",
         "11160",
         "8",
         "1968",
         "2110",
         "0",
         "1.0",
         "0.0",
         "2",
         "1",
         "NAmes",
         "7",
         "1Story",
         "CBlock",
         "244000"
        ],
        [
         "4",
         "1629",
         "2.0",
         "928.0",
         "0.0",
         "1",
         "791.0",
         "74.0",
         "13830",
         "6",
         "1998",
         "928",
         "701",
         "0.0",
         "0.0",
         "2",
         "1",
         "Gilbert",
         "5",
         "2Story",
         "PConc",
         "189900"
        ]
       ],
       "shape": {
        "columns": 21,
        "rows": 5
       }
      },
      "text/html": [
       "<div>\n",
       "<style scoped>\n",
       "    .dataframe tbody tr th:only-of-type {\n",
       "        vertical-align: middle;\n",
       "    }\n",
       "\n",
       "    .dataframe tbody tr th {\n",
       "        vertical-align: top;\n",
       "    }\n",
       "\n",
       "    .dataframe thead th {\n",
       "        text-align: right;\n",
       "    }\n",
       "</style>\n",
       "<table border=\"1\" class=\"dataframe\">\n",
       "  <thead>\n",
       "    <tr style=\"text-align: right;\">\n",
       "      <th></th>\n",
       "      <th>Gr.Liv.Area</th>\n",
       "      <th>Garage.Cars</th>\n",
       "      <th>Total.Bsmt.SF</th>\n",
       "      <th>Mas.Vnr.Area</th>\n",
       "      <th>Fireplaces</th>\n",
       "      <th>BsmtFin.SF.1</th>\n",
       "      <th>Lot.Frontage</th>\n",
       "      <th>Lot.Area</th>\n",
       "      <th>TotRms.AbvGrd</th>\n",
       "      <th>Year.Remod.Add</th>\n",
       "      <th>...</th>\n",
       "      <th>X2nd.Flr.SF</th>\n",
       "      <th>Bsmt.Full.Bath</th>\n",
       "      <th>Bsmt.Half.Bath</th>\n",
       "      <th>Full.Bath</th>\n",
       "      <th>Half.Bath</th>\n",
       "      <th>Neighborhood</th>\n",
       "      <th>Overall.Qual</th>\n",
       "      <th>House.Style</th>\n",
       "      <th>Foundation</th>\n",
       "      <th>SalePrice</th>\n",
       "    </tr>\n",
       "  </thead>\n",
       "  <tbody>\n",
       "    <tr>\n",
       "      <th>0</th>\n",
       "      <td>1656</td>\n",
       "      <td>2.0</td>\n",
       "      <td>1080.0</td>\n",
       "      <td>112.0</td>\n",
       "      <td>2</td>\n",
       "      <td>639.0</td>\n",
       "      <td>141.0</td>\n",
       "      <td>31770</td>\n",
       "      <td>7</td>\n",
       "      <td>1960</td>\n",
       "      <td>...</td>\n",
       "      <td>0</td>\n",
       "      <td>1.0</td>\n",
       "      <td>0.0</td>\n",
       "      <td>1</td>\n",
       "      <td>0</td>\n",
       "      <td>NAmes</td>\n",
       "      <td>6</td>\n",
       "      <td>1Story</td>\n",
       "      <td>CBlock</td>\n",
       "      <td>215000</td>\n",
       "    </tr>\n",
       "    <tr>\n",
       "      <th>1</th>\n",
       "      <td>896</td>\n",
       "      <td>1.0</td>\n",
       "      <td>882.0</td>\n",
       "      <td>0.0</td>\n",
       "      <td>0</td>\n",
       "      <td>468.0</td>\n",
       "      <td>80.0</td>\n",
       "      <td>11622</td>\n",
       "      <td>5</td>\n",
       "      <td>1961</td>\n",
       "      <td>...</td>\n",
       "      <td>0</td>\n",
       "      <td>0.0</td>\n",
       "      <td>0.0</td>\n",
       "      <td>1</td>\n",
       "      <td>0</td>\n",
       "      <td>NAmes</td>\n",
       "      <td>5</td>\n",
       "      <td>1Story</td>\n",
       "      <td>CBlock</td>\n",
       "      <td>105000</td>\n",
       "    </tr>\n",
       "    <tr>\n",
       "      <th>2</th>\n",
       "      <td>1329</td>\n",
       "      <td>1.0</td>\n",
       "      <td>1329.0</td>\n",
       "      <td>108.0</td>\n",
       "      <td>0</td>\n",
       "      <td>923.0</td>\n",
       "      <td>81.0</td>\n",
       "      <td>14267</td>\n",
       "      <td>6</td>\n",
       "      <td>1958</td>\n",
       "      <td>...</td>\n",
       "      <td>0</td>\n",
       "      <td>0.0</td>\n",
       "      <td>0.0</td>\n",
       "      <td>1</td>\n",
       "      <td>1</td>\n",
       "      <td>NAmes</td>\n",
       "      <td>6</td>\n",
       "      <td>1Story</td>\n",
       "      <td>CBlock</td>\n",
       "      <td>172000</td>\n",
       "    </tr>\n",
       "    <tr>\n",
       "      <th>3</th>\n",
       "      <td>2110</td>\n",
       "      <td>2.0</td>\n",
       "      <td>2110.0</td>\n",
       "      <td>0.0</td>\n",
       "      <td>2</td>\n",
       "      <td>1065.0</td>\n",
       "      <td>93.0</td>\n",
       "      <td>11160</td>\n",
       "      <td>8</td>\n",
       "      <td>1968</td>\n",
       "      <td>...</td>\n",
       "      <td>0</td>\n",
       "      <td>1.0</td>\n",
       "      <td>0.0</td>\n",
       "      <td>2</td>\n",
       "      <td>1</td>\n",
       "      <td>NAmes</td>\n",
       "      <td>7</td>\n",
       "      <td>1Story</td>\n",
       "      <td>CBlock</td>\n",
       "      <td>244000</td>\n",
       "    </tr>\n",
       "    <tr>\n",
       "      <th>4</th>\n",
       "      <td>1629</td>\n",
       "      <td>2.0</td>\n",
       "      <td>928.0</td>\n",
       "      <td>0.0</td>\n",
       "      <td>1</td>\n",
       "      <td>791.0</td>\n",
       "      <td>74.0</td>\n",
       "      <td>13830</td>\n",
       "      <td>6</td>\n",
       "      <td>1998</td>\n",
       "      <td>...</td>\n",
       "      <td>701</td>\n",
       "      <td>0.0</td>\n",
       "      <td>0.0</td>\n",
       "      <td>2</td>\n",
       "      <td>1</td>\n",
       "      <td>Gilbert</td>\n",
       "      <td>5</td>\n",
       "      <td>2Story</td>\n",
       "      <td>PConc</td>\n",
       "      <td>189900</td>\n",
       "    </tr>\n",
       "  </tbody>\n",
       "</table>\n",
       "<p>5 rows × 21 columns</p>\n",
       "</div>"
      ],
      "text/plain": [
       "   Gr.Liv.Area  Garage.Cars  Total.Bsmt.SF  Mas.Vnr.Area  Fireplaces  \\\n",
       "0         1656          2.0         1080.0         112.0           2   \n",
       "1          896          1.0          882.0           0.0           0   \n",
       "2         1329          1.0         1329.0         108.0           0   \n",
       "3         2110          2.0         2110.0           0.0           2   \n",
       "4         1629          2.0          928.0           0.0           1   \n",
       "\n",
       "   BsmtFin.SF.1  Lot.Frontage  Lot.Area  TotRms.AbvGrd  Year.Remod.Add  ...  \\\n",
       "0         639.0         141.0     31770              7            1960  ...   \n",
       "1         468.0          80.0     11622              5            1961  ...   \n",
       "2         923.0          81.0     14267              6            1958  ...   \n",
       "3        1065.0          93.0     11160              8            1968  ...   \n",
       "4         791.0          74.0     13830              6            1998  ...   \n",
       "\n",
       "   X2nd.Flr.SF  Bsmt.Full.Bath  Bsmt.Half.Bath  Full.Bath  Half.Bath  \\\n",
       "0            0             1.0             0.0          1          0   \n",
       "1            0             0.0             0.0          1          0   \n",
       "2            0             0.0             0.0          1          1   \n",
       "3            0             1.0             0.0          2          1   \n",
       "4          701             0.0             0.0          2          1   \n",
       "\n",
       "   Neighborhood Overall.Qual  House.Style Foundation SalePrice  \n",
       "0         NAmes            6       1Story     CBlock    215000  \n",
       "1         NAmes            5       1Story     CBlock    105000  \n",
       "2         NAmes            6       1Story     CBlock    172000  \n",
       "3         NAmes            7       1Story     CBlock    244000  \n",
       "4       Gilbert            5       2Story      PConc    189900  \n",
       "\n",
       "[5 rows x 21 columns]"
      ]
     },
     "execution_count": 27,
     "metadata": {},
     "output_type": "execute_result"
    }
   ],
   "source": [
    "def filter_data(df: pd.DataFrame) -> pd.DataFrame:\n",
    "    selected_features = [\n",
    "\n",
    "        # Numéricas:\n",
    "        \"Gr.Liv.Area\",\n",
    "        \"Garage.Cars\",\n",
    "        \"Total.Bsmt.SF\",\n",
    "        \"Mas.Vnr.Area\",\n",
    "        \"Fireplaces\",\n",
    "        \"BsmtFin.SF.1\",\n",
    "        \"Lot.Frontage\",\n",
    "        \"Lot.Area\",\n",
    "        \"TotRms.AbvGrd\",\n",
    "        \"Year.Remod.Add\",   \n",
    "        \"X1st.Flr.SF\",     \n",
    "        \"X2nd.Flr.SF\",     \n",
    "        \"Bsmt.Full.Bath\",   \n",
    "        \"Bsmt.Half.Bath\",   \n",
    "        \"Full.Bath\",       \n",
    "        \"Half.Bath\",       \n",
    "\n",
    "        # Categóricas:\n",
    "        \"Neighborhood\",\n",
    "        \"Overall.Qual\",\n",
    "        \"House.Style\",\n",
    "        \"Foundation\",\n",
    "        \n",
    "        # target:\n",
    "        \"SalePrice\"\n",
    "    ]\n",
    "    \n",
    "    filtered_df = df[selected_features]\n",
    "    \n",
    "    return filtered_df\n",
    "\n",
    "\n",
    "df = filter_data(df)\n",
    "\n",
    "df.head()"
   ]
  },
  {
   "cell_type": "markdown",
   "metadata": {},
   "source": [
    "# Feature engineering "
   ]
  },
  {
   "cell_type": "code",
   "execution_count": 28,
   "metadata": {},
   "outputs": [
    {
     "data": {
      "application/vnd.microsoft.datawrangler.viewer.v0+json": {
       "columns": [
        {
         "name": "index",
         "rawType": "int64",
         "type": "integer"
        },
        {
         "name": "Gr.Liv.Area",
         "rawType": "int64",
         "type": "integer"
        },
        {
         "name": "Garage.Cars",
         "rawType": "float64",
         "type": "float"
        },
        {
         "name": "Mas.Vnr.Area",
         "rawType": "float64",
         "type": "float"
        },
        {
         "name": "Fireplaces",
         "rawType": "int64",
         "type": "integer"
        },
        {
         "name": "BsmtFin.SF.1",
         "rawType": "float64",
         "type": "float"
        },
        {
         "name": "Lot.Frontage",
         "rawType": "float64",
         "type": "float"
        },
        {
         "name": "Lot.Area",
         "rawType": "int64",
         "type": "integer"
        },
        {
         "name": "TotRms.AbvGrd",
         "rawType": "int64",
         "type": "integer"
        },
        {
         "name": "Neighborhood",
         "rawType": "object",
         "type": "string"
        },
        {
         "name": "Overall.Qual",
         "rawType": "int64",
         "type": "integer"
        },
        {
         "name": "House.Style",
         "rawType": "object",
         "type": "string"
        },
        {
         "name": "Foundation",
         "rawType": "object",
         "type": "string"
        },
        {
         "name": "SalePrice",
         "rawType": "int64",
         "type": "integer"
        },
        {
         "name": "Years.Snc.Remod",
         "rawType": "int64",
         "type": "integer"
        },
        {
         "name": "Total.SF",
         "rawType": "float64",
         "type": "float"
        },
        {
         "name": "Total.Bath",
         "rawType": "float64",
         "type": "float"
        }
       ],
       "conversionMethod": "pd.DataFrame",
       "ref": "f6d77739-24aa-4c8d-b6dc-8fd73735c6bf",
       "rows": [
        [
         "0",
         "1656",
         "2.0",
         "112.0",
         "2",
         "639.0",
         "141.0",
         "31770",
         "7",
         "NAmes",
         "6",
         "1Story",
         "CBlock",
         "215000",
         "65",
         "2736.0",
         "2.0"
        ],
        [
         "1",
         "896",
         "1.0",
         "0.0",
         "0",
         "468.0",
         "80.0",
         "11622",
         "5",
         "NAmes",
         "5",
         "1Story",
         "CBlock",
         "105000",
         "64",
         "1778.0",
         "1.0"
        ],
        [
         "2",
         "1329",
         "1.0",
         "108.0",
         "0",
         "923.0",
         "81.0",
         "14267",
         "6",
         "NAmes",
         "6",
         "1Story",
         "CBlock",
         "172000",
         "67",
         "2658.0",
         "1.5"
        ],
        [
         "3",
         "2110",
         "2.0",
         "0.0",
         "2",
         "1065.0",
         "93.0",
         "11160",
         "8",
         "NAmes",
         "7",
         "1Story",
         "CBlock",
         "244000",
         "57",
         "4220.0",
         "3.5"
        ],
        [
         "4",
         "1629",
         "2.0",
         "0.0",
         "1",
         "791.0",
         "74.0",
         "13830",
         "6",
         "Gilbert",
         "5",
         "2Story",
         "PConc",
         "189900",
         "27",
         "2557.0",
         "2.5"
        ]
       ],
       "shape": {
        "columns": 16,
        "rows": 5
       }
      },
      "text/html": [
       "<div>\n",
       "<style scoped>\n",
       "    .dataframe tbody tr th:only-of-type {\n",
       "        vertical-align: middle;\n",
       "    }\n",
       "\n",
       "    .dataframe tbody tr th {\n",
       "        vertical-align: top;\n",
       "    }\n",
       "\n",
       "    .dataframe thead th {\n",
       "        text-align: right;\n",
       "    }\n",
       "</style>\n",
       "<table border=\"1\" class=\"dataframe\">\n",
       "  <thead>\n",
       "    <tr style=\"text-align: right;\">\n",
       "      <th></th>\n",
       "      <th>Gr.Liv.Area</th>\n",
       "      <th>Garage.Cars</th>\n",
       "      <th>Mas.Vnr.Area</th>\n",
       "      <th>Fireplaces</th>\n",
       "      <th>BsmtFin.SF.1</th>\n",
       "      <th>Lot.Frontage</th>\n",
       "      <th>Lot.Area</th>\n",
       "      <th>TotRms.AbvGrd</th>\n",
       "      <th>Neighborhood</th>\n",
       "      <th>Overall.Qual</th>\n",
       "      <th>House.Style</th>\n",
       "      <th>Foundation</th>\n",
       "      <th>SalePrice</th>\n",
       "      <th>Years.Snc.Remod</th>\n",
       "      <th>Total.SF</th>\n",
       "      <th>Total.Bath</th>\n",
       "    </tr>\n",
       "  </thead>\n",
       "  <tbody>\n",
       "    <tr>\n",
       "      <th>0</th>\n",
       "      <td>1656</td>\n",
       "      <td>2.0</td>\n",
       "      <td>112.0</td>\n",
       "      <td>2</td>\n",
       "      <td>639.0</td>\n",
       "      <td>141.0</td>\n",
       "      <td>31770</td>\n",
       "      <td>7</td>\n",
       "      <td>NAmes</td>\n",
       "      <td>6</td>\n",
       "      <td>1Story</td>\n",
       "      <td>CBlock</td>\n",
       "      <td>215000</td>\n",
       "      <td>65</td>\n",
       "      <td>2736.0</td>\n",
       "      <td>2.0</td>\n",
       "    </tr>\n",
       "    <tr>\n",
       "      <th>1</th>\n",
       "      <td>896</td>\n",
       "      <td>1.0</td>\n",
       "      <td>0.0</td>\n",
       "      <td>0</td>\n",
       "      <td>468.0</td>\n",
       "      <td>80.0</td>\n",
       "      <td>11622</td>\n",
       "      <td>5</td>\n",
       "      <td>NAmes</td>\n",
       "      <td>5</td>\n",
       "      <td>1Story</td>\n",
       "      <td>CBlock</td>\n",
       "      <td>105000</td>\n",
       "      <td>64</td>\n",
       "      <td>1778.0</td>\n",
       "      <td>1.0</td>\n",
       "    </tr>\n",
       "    <tr>\n",
       "      <th>2</th>\n",
       "      <td>1329</td>\n",
       "      <td>1.0</td>\n",
       "      <td>108.0</td>\n",
       "      <td>0</td>\n",
       "      <td>923.0</td>\n",
       "      <td>81.0</td>\n",
       "      <td>14267</td>\n",
       "      <td>6</td>\n",
       "      <td>NAmes</td>\n",
       "      <td>6</td>\n",
       "      <td>1Story</td>\n",
       "      <td>CBlock</td>\n",
       "      <td>172000</td>\n",
       "      <td>67</td>\n",
       "      <td>2658.0</td>\n",
       "      <td>1.5</td>\n",
       "    </tr>\n",
       "    <tr>\n",
       "      <th>3</th>\n",
       "      <td>2110</td>\n",
       "      <td>2.0</td>\n",
       "      <td>0.0</td>\n",
       "      <td>2</td>\n",
       "      <td>1065.0</td>\n",
       "      <td>93.0</td>\n",
       "      <td>11160</td>\n",
       "      <td>8</td>\n",
       "      <td>NAmes</td>\n",
       "      <td>7</td>\n",
       "      <td>1Story</td>\n",
       "      <td>CBlock</td>\n",
       "      <td>244000</td>\n",
       "      <td>57</td>\n",
       "      <td>4220.0</td>\n",
       "      <td>3.5</td>\n",
       "    </tr>\n",
       "    <tr>\n",
       "      <th>4</th>\n",
       "      <td>1629</td>\n",
       "      <td>2.0</td>\n",
       "      <td>0.0</td>\n",
       "      <td>1</td>\n",
       "      <td>791.0</td>\n",
       "      <td>74.0</td>\n",
       "      <td>13830</td>\n",
       "      <td>6</td>\n",
       "      <td>Gilbert</td>\n",
       "      <td>5</td>\n",
       "      <td>2Story</td>\n",
       "      <td>PConc</td>\n",
       "      <td>189900</td>\n",
       "      <td>27</td>\n",
       "      <td>2557.0</td>\n",
       "      <td>2.5</td>\n",
       "    </tr>\n",
       "  </tbody>\n",
       "</table>\n",
       "</div>"
      ],
      "text/plain": [
       "   Gr.Liv.Area  Garage.Cars  Mas.Vnr.Area  Fireplaces  BsmtFin.SF.1  \\\n",
       "0         1656          2.0         112.0           2         639.0   \n",
       "1          896          1.0           0.0           0         468.0   \n",
       "2         1329          1.0         108.0           0         923.0   \n",
       "3         2110          2.0           0.0           2        1065.0   \n",
       "4         1629          2.0           0.0           1         791.0   \n",
       "\n",
       "   Lot.Frontage  Lot.Area  TotRms.AbvGrd Neighborhood  Overall.Qual  \\\n",
       "0         141.0     31770              7        NAmes             6   \n",
       "1          80.0     11622              5        NAmes             5   \n",
       "2          81.0     14267              6        NAmes             6   \n",
       "3          93.0     11160              8        NAmes             7   \n",
       "4          74.0     13830              6      Gilbert             5   \n",
       "\n",
       "  House.Style Foundation  SalePrice  Years.Snc.Remod  Total.SF  Total.Bath  \n",
       "0      1Story     CBlock     215000               65    2736.0         2.0  \n",
       "1      1Story     CBlock     105000               64    1778.0         1.0  \n",
       "2      1Story     CBlock     172000               67    2658.0         1.5  \n",
       "3      1Story     CBlock     244000               57    4220.0         3.5  \n",
       "4      2Story      PConc     189900               27    2557.0         2.5  "
      ]
     },
     "execution_count": 28,
     "metadata": {},
     "output_type": "execute_result"
    }
   ],
   "source": [
    "from datetime import datetime\n",
    "\n",
    "def feature_engineering(df: pd.DataFrame) -> pd.DataFrame:\n",
    "    df = df.copy() \n",
    "    \n",
    "    # 2025 :)\n",
    "    current_year = datetime.now().year \n",
    "    df['Years.Snc.Remod'] = current_year - df['Year.Remod.Add']\n",
    "    \n",
    "\n",
    "    df['Total.SF'] = df['Total.Bsmt.SF'].fillna(0) + \\\n",
    "                     df['X1st.Flr.SF'].fillna(0) + \\\n",
    "                     df['X2nd.Flr.SF'].fillna(0)\n",
    "    \n",
    "    \n",
    "    df['Total.Bath'] = df['Bsmt.Full.Bath'].fillna(0) + \\\n",
    "                       (0.5 * df['Bsmt.Half.Bath'].fillna(0)) + \\\n",
    "                       df['Full.Bath'].fillna(0) + \\\n",
    "                       (0.5 * df['Half.Bath'].fillna(0))\n",
    "    \n",
    "\n",
    "    columns_to_drop = [\n",
    "        'Year.Remod.Add',\n",
    "        'Total.Bsmt.SF',\n",
    "        'X1st.Flr.SF',\n",
    "        'X2nd.Flr.SF',\n",
    "        'Bsmt.Full.Bath',\n",
    "        'Bsmt.Half.Bath',\n",
    "        'Full.Bath',\n",
    "        'Half.Bath',\n",
    "    ]\n",
    "    \n",
    "    # Remove as colunas originais\n",
    "    df = df.drop(columns=columns_to_drop)\n",
    "    \n",
    "    return df\n",
    "\n",
    "df = feature_engineering(df)\n",
    "df.head()"
   ]
  },
  {
   "cell_type": "markdown",
   "metadata": {},
   "source": [
    "# Remoção de anomalias e outliers\n",
    "\n",
    "### Nota: \n",
    "\n",
    "#### Por conta da análise contida no site \"American Statistical Association\" citado anteriormente, tivemos uma dica de onde procurar por outliers. A partir disso, fomos atrás de outras formas de detectar esses outliers para evidenciar nosso conhecimento :)\n",
    "\n",
    "#### Análise de \"American Statistical Association\":\n",
    "\"SPECIAL NOTES:\n",
    "There are 5 observations that an instructor may wish to remove from the data set before giving it to students (a plot of SALE PRICE versus GR LIV AREA will indicate them quickly). Three of them are true outliers (Partial Sales that likely don’t represent actual market values) and two of them are simply unusual sales (very large houses priced relatively appropriately). I would recommend removing any houses with more than 4000 square feet from the data set (which eliminates these 5 unusual observations) before assigning it to students.\"\n",
    "    \n",
    "\n"
   ]
  },
  {
   "cell_type": "code",
   "execution_count": 29,
   "metadata": {},
   "outputs": [
    {
     "data": {
      "application/vnd.plotly.v1+json": {
       "config": {
        "plotlyServerURL": "https://plot.ly"
       },
       "data": [
        {
         "hovertemplate": "Gr.Liv.Area=%{x}<br>SalePrice=%{y}<extra></extra>",
         "legendgroup": "",
         "marker": {
          "color": "#636efa",
          "opacity": 0.5,
          "size": 5,
          "symbol": "circle"
         },
         "mode": "markers",
         "name": "",
         "showlegend": false,
         "type": "scattergl",
         "x": {
          "bdata": "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",
          "dtype": "i2"
         },
         "xaxis": "x",
         "y": {
          "bdata": "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",
          "dtype": "i4"
         },
         "yaxis": "y"
        }
       ],
       "layout": {
        "annotations": [
         {
          "arrowhead": 2,
          "showarrow": true,
          "text": "Threshold at 4000",
          "x": 4000,
          "y": 755000
         }
        ],
        "legend": {
         "tracegroupgap": 0
        },
        "margin": {
         "t": 60
        },
        "shapes": [
         {
          "line": {
           "color": "red",
           "dash": "dash",
           "width": 1
          },
          "type": "line",
          "x0": 4000,
          "x1": 4000,
          "y0": 0,
          "y1": 755000
         }
        ],
        "template": {
         "data": {
          "bar": [
           {
            "error_x": {
             "color": "#2a3f5f"
            },
            "error_y": {
             "color": "#2a3f5f"
            },
            "marker": {
             "line": {
              "color": "#E5ECF6",
              "width": 0.5
             },
             "pattern": {
              "fillmode": "overlay",
              "size": 10,
              "solidity": 0.2
             }
            },
            "type": "bar"
           }
          ],
          "barpolar": [
           {
            "marker": {
             "line": {
              "color": "#E5ECF6",
              "width": 0.5
             },
             "pattern": {
              "fillmode": "overlay",
              "size": 10,
              "solidity": 0.2
             }
            },
            "type": "barpolar"
           }
          ],
          "carpet": [
           {
            "aaxis": {
             "endlinecolor": "#2a3f5f",
             "gridcolor": "white",
             "linecolor": "white",
             "minorgridcolor": "white",
             "startlinecolor": "#2a3f5f"
            },
            "baxis": {
             "endlinecolor": "#2a3f5f",
             "gridcolor": "white",
             "linecolor": "white",
             "minorgridcolor": "white",
             "startlinecolor": "#2a3f5f"
            },
            "type": "carpet"
           }
          ],
          "choropleth": [
           {
            "colorbar": {
             "outlinewidth": 0,
             "ticks": ""
            },
            "type": "choropleth"
           }
          ],
          "contour": [
           {
            "colorbar": {
             "outlinewidth": 0,
             "ticks": ""
            },
            "colorscale": [
             [
              0,
              "#0d0887"
             ],
             [
              0.1111111111111111,
              "#46039f"
             ],
             [
              0.2222222222222222,
              "#7201a8"
             ],
             [
              0.3333333333333333,
              "#9c179e"
             ],
             [
              0.4444444444444444,
              "#bd3786"
             ],
             [
              0.5555555555555556,
              "#d8576b"
             ],
             [
              0.6666666666666666,
              "#ed7953"
             ],
             [
              0.7777777777777778,
              "#fb9f3a"
             ],
             [
              0.8888888888888888,
              "#fdca26"
             ],
             [
              1,
              "#f0f921"
             ]
            ],
            "type": "contour"
           }
          ],
          "contourcarpet": [
           {
            "colorbar": {
             "outlinewidth": 0,
             "ticks": ""
            },
            "type": "contourcarpet"
           }
          ],
          "heatmap": [
           {
            "colorbar": {
             "outlinewidth": 0,
             "ticks": ""
            },
            "colorscale": [
             [
              0,
              "#0d0887"
             ],
             [
              0.1111111111111111,
              "#46039f"
             ],
             [
              0.2222222222222222,
              "#7201a8"
             ],
             [
              0.3333333333333333,
              "#9c179e"
             ],
             [
              0.4444444444444444,
              "#bd3786"
             ],
             [
              0.5555555555555556,
              "#d8576b"
             ],
             [
              0.6666666666666666,
              "#ed7953"
             ],
             [
              0.7777777777777778,
              "#fb9f3a"
             ],
             [
              0.8888888888888888,
              "#fdca26"
             ],
             [
              1,
              "#f0f921"
             ]
            ],
            "type": "heatmap"
           }
          ],
          "histogram": [
           {
            "marker": {
             "pattern": {
              "fillmode": "overlay",
              "size": 10,
              "solidity": 0.2
             }
            },
            "type": "histogram"
           }
          ],
          "histogram2d": [
           {
            "colorbar": {
             "outlinewidth": 0,
             "ticks": ""
            },
            "colorscale": [
             [
              0,
              "#0d0887"
             ],
             [
              0.1111111111111111,
              "#46039f"
             ],
             [
              0.2222222222222222,
              "#7201a8"
             ],
             [
              0.3333333333333333,
              "#9c179e"
             ],
             [
              0.4444444444444444,
              "#bd3786"
             ],
             [
              0.5555555555555556,
              "#d8576b"
             ],
             [
              0.6666666666666666,
              "#ed7953"
             ],
             [
              0.7777777777777778,
              "#fb9f3a"
             ],
             [
              0.8888888888888888,
              "#fdca26"
             ],
             [
              1,
              "#f0f921"
             ]
            ],
            "type": "histogram2d"
           }
          ],
          "histogram2dcontour": [
           {
            "colorbar": {
             "outlinewidth": 0,
             "ticks": ""
            },
            "colorscale": [
             [
              0,
              "#0d0887"
             ],
             [
              0.1111111111111111,
              "#46039f"
             ],
             [
              0.2222222222222222,
              "#7201a8"
             ],
             [
              0.3333333333333333,
              "#9c179e"
             ],
             [
              0.4444444444444444,
              "#bd3786"
             ],
             [
              0.5555555555555556,
              "#d8576b"
             ],
             [
              0.6666666666666666,
              "#ed7953"
             ],
             [
              0.7777777777777778,
              "#fb9f3a"
             ],
             [
              0.8888888888888888,
              "#fdca26"
             ],
             [
              1,
              "#f0f921"
             ]
            ],
            "type": "histogram2dcontour"
           }
          ],
          "mesh3d": [
           {
            "colorbar": {
             "outlinewidth": 0,
             "ticks": ""
            },
            "type": "mesh3d"
           }
          ],
          "parcoords": [
           {
            "line": {
             "colorbar": {
              "outlinewidth": 0,
              "ticks": ""
             }
            },
            "type": "parcoords"
           }
          ],
          "pie": [
           {
            "automargin": true,
            "type": "pie"
           }
          ],
          "scatter": [
           {
            "fillpattern": {
             "fillmode": "overlay",
             "size": 10,
             "solidity": 0.2
            },
            "type": "scatter"
           }
          ],
          "scatter3d": [
           {
            "line": {
             "colorbar": {
              "outlinewidth": 0,
              "ticks": ""
             }
            },
            "marker": {
             "colorbar": {
              "outlinewidth": 0,
              "ticks": ""
             }
            },
            "type": "scatter3d"
           }
          ],
          "scattercarpet": [
           {
            "marker": {
             "colorbar": {
              "outlinewidth": 0,
              "ticks": ""
             }
            },
            "type": "scattercarpet"
           }
          ],
          "scattergeo": [
           {
            "marker": {
             "colorbar": {
              "outlinewidth": 0,
              "ticks": ""
             }
            },
            "type": "scattergeo"
           }
          ],
          "scattergl": [
           {
            "marker": {
             "colorbar": {
              "outlinewidth": 0,
              "ticks": ""
             }
            },
            "type": "scattergl"
           }
          ],
          "scattermap": [
           {
            "marker": {
             "colorbar": {
              "outlinewidth": 0,
              "ticks": ""
             }
            },
            "type": "scattermap"
           }
          ],
          "scattermapbox": [
           {
            "marker": {
             "colorbar": {
              "outlinewidth": 0,
              "ticks": ""
             }
            },
            "type": "scattermapbox"
           }
          ],
          "scatterpolar": [
           {
            "marker": {
             "colorbar": {
              "outlinewidth": 0,
              "ticks": ""
             }
            },
            "type": "scatterpolar"
           }
          ],
          "scatterpolargl": [
           {
            "marker": {
             "colorbar": {
              "outlinewidth": 0,
              "ticks": ""
             }
            },
            "type": "scatterpolargl"
           }
          ],
          "scatterternary": [
           {
            "marker": {
             "colorbar": {
              "outlinewidth": 0,
              "ticks": ""
             }
            },
            "type": "scatterternary"
           }
          ],
          "surface": [
           {
            "colorbar": {
             "outlinewidth": 0,
             "ticks": ""
            },
            "colorscale": [
             [
              0,
              "#0d0887"
             ],
             [
              0.1111111111111111,
              "#46039f"
             ],
             [
              0.2222222222222222,
              "#7201a8"
             ],
             [
              0.3333333333333333,
              "#9c179e"
             ],
             [
              0.4444444444444444,
              "#bd3786"
             ],
             [
              0.5555555555555556,
              "#d8576b"
             ],
             [
              0.6666666666666666,
              "#ed7953"
             ],
             [
              0.7777777777777778,
              "#fb9f3a"
             ],
             [
              0.8888888888888888,
              "#fdca26"
             ],
             [
              1,
              "#f0f921"
             ]
            ],
            "type": "surface"
           }
          ],
          "table": [
           {
            "cells": {
             "fill": {
              "color": "#EBF0F8"
             },
             "line": {
              "color": "white"
             }
            },
            "header": {
             "fill": {
              "color": "#C8D4E3"
             },
             "line": {
              "color": "white"
             }
            },
            "type": "table"
           }
          ]
         },
         "layout": {
          "annotationdefaults": {
           "arrowcolor": "#2a3f5f",
           "arrowhead": 0,
           "arrowwidth": 1
          },
          "autotypenumbers": "strict",
          "coloraxis": {
           "colorbar": {
            "outlinewidth": 0,
            "ticks": ""
           }
          },
          "colorscale": {
           "diverging": [
            [
             0,
             "#8e0152"
            ],
            [
             0.1,
             "#c51b7d"
            ],
            [
             0.2,
             "#de77ae"
            ],
            [
             0.3,
             "#f1b6da"
            ],
            [
             0.4,
             "#fde0ef"
            ],
            [
             0.5,
             "#f7f7f7"
            ],
            [
             0.6,
             "#e6f5d0"
            ],
            [
             0.7,
             "#b8e186"
            ],
            [
             0.8,
             "#7fbc41"
            ],
            [
             0.9,
             "#4d9221"
            ],
            [
             1,
             "#276419"
            ]
           ],
           "sequential": [
            [
             0,
             "#0d0887"
            ],
            [
             0.1111111111111111,
             "#46039f"
            ],
            [
             0.2222222222222222,
             "#7201a8"
            ],
            [
             0.3333333333333333,
             "#9c179e"
            ],
            [
             0.4444444444444444,
             "#bd3786"
            ],
            [
             0.5555555555555556,
             "#d8576b"
            ],
            [
             0.6666666666666666,
             "#ed7953"
            ],
            [
             0.7777777777777778,
             "#fb9f3a"
            ],
            [
             0.8888888888888888,
             "#fdca26"
            ],
            [
             1,
             "#f0f921"
            ]
           ],
           "sequentialminus": [
            [
             0,
             "#0d0887"
            ],
            [
             0.1111111111111111,
             "#46039f"
            ],
            [
             0.2222222222222222,
             "#7201a8"
            ],
            [
             0.3333333333333333,
             "#9c179e"
            ],
            [
             0.4444444444444444,
             "#bd3786"
            ],
            [
             0.5555555555555556,
             "#d8576b"
            ],
            [
             0.6666666666666666,
             "#ed7953"
            ],
            [
             0.7777777777777778,
             "#fb9f3a"
            ],
            [
             0.8888888888888888,
             "#fdca26"
            ],
            [
             1,
             "#f0f921"
            ]
           ]
          },
          "colorway": [
           "#636efa",
           "#EF553B",
           "#00cc96",
           "#ab63fa",
           "#FFA15A",
           "#19d3f3",
           "#FF6692",
           "#B6E880",
           "#FF97FF",
           "#FECB52"
          ],
          "font": {
           "color": "#2a3f5f"
          },
          "geo": {
           "bgcolor": "white",
           "lakecolor": "white",
           "landcolor": "#E5ECF6",
           "showlakes": true,
           "showland": true,
           "subunitcolor": "white"
          },
          "hoverlabel": {
           "align": "left"
          },
          "hovermode": "closest",
          "mapbox": {
           "style": "light"
          },
          "paper_bgcolor": "white",
          "plot_bgcolor": "#E5ECF6",
          "polar": {
           "angularaxis": {
            "gridcolor": "white",
            "linecolor": "white",
            "ticks": ""
           },
           "bgcolor": "#E5ECF6",
           "radialaxis": {
            "gridcolor": "white",
            "linecolor": "white",
            "ticks": ""
           }
          },
          "scene": {
           "xaxis": {
            "backgroundcolor": "#E5ECF6",
            "gridcolor": "white",
            "gridwidth": 2,
            "linecolor": "white",
            "showbackground": true,
            "ticks": "",
            "zerolinecolor": "white"
           },
           "yaxis": {
            "backgroundcolor": "#E5ECF6",
            "gridcolor": "white",
            "gridwidth": 2,
            "linecolor": "white",
            "showbackground": true,
            "ticks": "",
            "zerolinecolor": "white"
           },
           "zaxis": {
            "backgroundcolor": "#E5ECF6",
            "gridcolor": "white",
            "gridwidth": 2,
            "linecolor": "white",
            "showbackground": true,
            "ticks": "",
            "zerolinecolor": "white"
           }
          },
          "shapedefaults": {
           "line": {
            "color": "#2a3f5f"
           }
          },
          "ternary": {
           "aaxis": {
            "gridcolor": "white",
            "linecolor": "white",
            "ticks": ""
           },
           "baxis": {
            "gridcolor": "white",
            "linecolor": "white",
            "ticks": ""
           },
           "bgcolor": "#E5ECF6",
           "caxis": {
            "gridcolor": "white",
            "linecolor": "white",
            "ticks": ""
           }
          },
          "title": {
           "x": 0.05
          },
          "xaxis": {
           "automargin": true,
           "gridcolor": "white",
           "linecolor": "white",
           "ticks": "",
           "title": {
            "standoff": 15
           },
           "zerolinecolor": "white",
           "zerolinewidth": 2
          },
          "yaxis": {
           "automargin": true,
           "gridcolor": "white",
           "linecolor": "white",
           "ticks": "",
           "title": {
            "standoff": 15
           },
           "zerolinecolor": "white",
           "zerolinewidth": 2
          }
         }
        },
        "title": {
         "text": "SalePrice vs Gr.Liv.Area"
        },
        "xaxis": {
         "anchor": "y",
         "domain": [
          0,
          1
         ],
         "title": {
          "text": "Gr.Liv.Area"
         }
        },
        "yaxis": {
         "anchor": "x",
         "domain": [
          0,
          1
         ],
         "title": {
          "text": "SalePrice"
         }
        }
       }
      }
     },
     "metadata": {},
     "output_type": "display_data"
    }
   ],
   "source": [
    "import plotly.express as px\n",
    "\n",
    "\n",
    "fig = px.scatter(df, x='Gr.Liv.Area', y='SalePrice')\n",
    "fig.update_traces(marker=dict(size=5, opacity=0.5))\n",
    "fig.update_layout(title='SalePrice vs Gr.Liv.Area',\n",
    "                  xaxis_title='Gr.Liv.Area',\n",
    "                  yaxis_title='SalePrice')\n",
    "fig.add_shape(type=\"line\",\n",
    "                x0=4000, y0=0, x1=4000, y1=df['SalePrice'].max(),\n",
    "                line=dict(color=\"red\", width=1, dash=\"dash\"))\n",
    "fig.add_annotation(text=\"Threshold at 4000\", x=4000, y=df['SalePrice'].max(), showarrow=True, arrowhead=2)\n",
    "\n",
    "fig.show()"
   ]
  },
  {
   "cell_type": "markdown",
   "metadata": {},
   "source": [
    "### Sabendo disso, vamos analisar as correlações de SalePrice com nossas features e plotar as que mais se correlacionam para ver se achamos outliers assim"
   ]
  },
  {
   "cell_type": "code",
   "execution_count": 30,
   "metadata": {},
   "outputs": [
    {
     "data": {
      "text/plain": [
       "SalePrice       1.000000\n",
       "Overall.Qual    0.799262\n",
       "Total.SF        0.793127\n",
       "Name: SalePrice, dtype: float64"
      ]
     },
     "execution_count": 30,
     "metadata": {},
     "output_type": "execute_result"
    }
   ],
   "source": [
    "df.select_dtypes(include=['number']).corr()[\"SalePrice\"].sort_values(ascending=False).head(3)"
   ]
  },
  {
   "cell_type": "code",
   "execution_count": 31,
   "metadata": {},
   "outputs": [
    {
     "data": {
      "application/vnd.plotly.v1+json": {
       "config": {
        "plotlyServerURL": "https://plot.ly"
       },
       "data": [
        {
         "hovertemplate": "Overall.Qual=%{x}<br>SalePrice=%{y}<extra></extra>",
         "legendgroup": "",
         "marker": {
          "color": "#636efa",
          "opacity": 0.5,
          "size": 5,
          "symbol": "circle"
         },
         "mode": "markers",
         "name": "",
         "showlegend": false,
         "type": "scattergl",
         "x": {
          "bdata": "BgUGBwUGCAgIBwYGBgcICAgJBAYGBwcGBQUEBAcGBQYGBgcGCQgJCAcJCAcJBwkICQgHBgcIBwYHBwcJCAcICAcICAcHCAcGBwcHBgYGBgcGBgUGBQUFBQUGBwgIBwcHBwcGBwYGBwcICAgIBgcGBgYGBwYGBQYEBQUGBQYFBQUGBQMFBgUGBQcGBQcFBQUGBQUFBgQFBQUFBAUFBQYGBQcGBQUFBgUGBgQEBQUFAwQFBQYFBQIGCAUIBQYEBAYFBwQGBgUGBQUGBwQGBgUEBQcFBQUGBAUFBAQFBQUFBQYFBQUGBwcEBAcGAwUGBQQFBgcFBAYHBgcGCAcHBwcGBgUHBgUGBQUICAcHBwYGCAcHAwUFBQQGBgQEBgQFBQYDBQYEBQYHBQcHBwgIBwQCBgQEBQQICAYHBgYFBwcFCAcICQUFBgUEBQUEBAQEBQUFBQUFCAYGBggGCAcJBwgICAgHBwYGBgYGBgYGBwcICQgHBQcGBwYHBgcHBggHBwUHCAgIBQYHBgYFBQYFBQQEBAQEBgUFBgYFBgYGBwYGBgYGBwUFCgkJCgkICAkJCQoKCgkJCAgICQgJCQkICAcHCgkICAYGBgcHCggJCQgIBwcHBgYGBwcHBwcHBwYHBwgHBwcHBwgGBwYGBwcGBwcICAgICAcIBwcICAcICAgICAgHCQcIBgcIBwkJCAoICAcIBwcHBwcHBwYHCAcHBQUHBwgHBgYGBwYGBAYFBQUFBQUFBQUIBwcGBgYGBgYHCAgIBwgEBgYGBwcGBgYFBgcGBwgFBQUHBgYEBQYEBQUGBQUFBQYFBgUEBQYGBgUGBQUGBgYHBgYEBQYHBgYGBQUEBgUFBgUFBAUFBQUDBwUGAwUFBAUFBAcCBAUDBgYGBQYGBQYGBQMGBAUFBQUFBQQGBgUGBQYFBgYFBQUFBQQFBwUEBQUEAgMFBQQEBQUHBgYIBAcFBQYGBAMFBgcFBgQGBQYFBgUFBAIFBQUFBgcGBwcGBQYEBgcGBAYEBQUFAQYFBQUGBQUGBQUFBQYFAgQFBAQFAwQGBQUGBAUEBQUGBAcGCAcHBwgFBQUFBQUFBQUHBwcJCAgJCAgICQcHCAcIBgcHBQUFBgcHBQUHBwcGBwcHBwcHBQUFBQUFBQUFBQcICAgJBwcIBwgHBwcHBwYGCAcHBgYEBQQHBgQGCQYFBAUEBQMFBQQGBQUFBQIGBwYEBgYHBgcHBwUGBQUFBQcFBwYFBgYGBgYGBgcGBQUFAwQIAggHBwYGBgUHBQYHCQcJCQgGBgcIBwkJBQUGBgQFBAUEBAQFBgUFBQUFBgUGBgYGBgYGBgUHCAgICAYGBgcGCAgICQkGCQYHBwYHBwcGBgUHBQcGBgcFCAUGBAUEBgYGBgYGBgUGBgcFCAoKCQgICAkJCgkICAoJBwgICAkJBwgJCQgIBwcHBwcHBwcGBgcGBwcHBgcHBwcHCAgICQgHCAgHBwcICAYIBwkIBwgICAgHBwcIBwgHCAcGBwYHBgUGBgcGBgYHBgcGBgYGBQUFBQUGBgUGCQcHBwYHBwcGCQkJCQkHBwcICAoICAgGCQgHBwYGBgcFBgUFBQUFBQcIBgYHBwUEBAUGBgYGBQYFBQYEBQMDBQQFBgUGBQcGBQYGBgUFBQUFBgYGBgYFBQUFBgUFBQUFBAUFBAUEBgUHBgYHBQUFBQUFBQYGBgYFBQUGBgUGBQUFBQYFBgQHBAUHBgUFBQUFAgUEAwcFBQcFBQUGBQcGBggHCgIHBQUFBAUHBQUFBQYGBQYGBgYFBAQFBQcFBwYEBQYHBgUGBggGBgYGBQYGBgUGBQMGBQUFBAUFBQYFBQUGBQUEBQUFBQYFBgUFBQUFBgcHBwQGBwYGBQYGBQUGBQUFBgUHBgcHBwcICQkHCAYGBQUFBwYHBwcHBwcHBwUFBQYFBQUFBQgIBwcIBwgJCAgHBwcIBwYGBgYHBwcHBwgHBwcGBgYGBQUFBQUGBQQHBgYEBQoGBAQEBAQFBQQFBAUEBAUDBQYFBgcFBQYGBgYGBggGBgcGBQUGCAgHBwUGBgYGBgQGBQUFBQUBBAQEAwQICAcIBwgHBgYFBAUHCAgICAUFBwYGBgYIBggICAcHBQYEBQUFBAQFBgQFBQUFBQUGBQUFBgcHCAcGBgYGCAYGBwcGBwcHBgYIBwgICQgJBQkICAoGBgYHBwcHBgYGBwYFBgUGBwcGBQYHBQUFBAQEBAcGBgYGBgUFBgYHBQkJCAgICAkJCAoHCQgJCAgJCggICAgJCAgICAgHCAgGBgYGCAgICQkJCAcGBgYHBgYGBwcHBgYHBwcHCAcHBwcHBwcHBwYHBgcHBgYKCAgKCQgHCgcHBwgICAgHCAkICAoICAcHBwgICAcIBwgIBwgFCAgICAcICAYIBgcFBwYGBwcGBgUFBQUFBQQFBQUFBwcFBQYICAgICAcHCAcHBgYGBgYHCAcHCAgIBwUFCAYGCAUHBgYGBgcHBwUGBwYFBQUFBQQFBgUGBQUFBQUFBwYGBgYGBgUEBgUBAwMFBgUFBQUFBQYFBQYGBQUFBgUGBQYFBQYFBQUFBgYFBQUEBQUEBQQFBQUFBAQEBQUHBQYFBQYGBQUFBQUFBQUFBQYFBQUFBQYFBQUEBQUDBAQEBAUFCAYFBQUGBgUHBgYFBwUEBAUFBQYFBgYFBgUFBQUHBgYGBgYFBgcGBQUHBwYGBgcGBAUEBQcFBAcFBQUFBQQEBQUGBQUFBQUFBQYFBQUFBwYFBAcGBgUFBAYGBgUEBAQFBQUEBQYHBwcHBwcHCAgIBwcICAcHBwcHCAcHBgcHBgYGCAUFBgYGBQUEBgcHBwcHBwUFBQUFBQUFBQQICAcHBwcICAgHCQgGCAcHBwcHBwYHBQUFBAQFBgYGBgUFBQUKCgYFBAQFAwYEBAQEBAYFBgUFBgUHBgcGBwUFBQYFBwUGCAQGBQgGBgcGBgYGBAgHBggFBgUFBAUFBgUFAgUEBQgIBgYGBQcHBwYHBwUGBwgICAgHBwYIBwgGCAcFCAoIBQMGBAUEBQUEBAQEBAQGBQYFBQUFBAQFBQUFBQYGBQYHBgcGBgYGBwcICAcHCAYGBwgHCAkKCQkICgkKBQUJCAkHBwcGBgcHBgcGBwcGBQcGBgUEBAQGBgUGBgYGBgYGBgUFBwYJCQkICgcJCQgICQgJCQgICAkICQkJCQgIBwkHBwkJBwYGBwcHBgYIBwcHCAcHBwcHBwgHBQYIBwgHBgYHBgcHCAgICgkICAgJCAgICAgICAcICAkICAcGBwYHBwYHBgYGBwcGBgYGBgYEBQUFBgUGBQUFBQUFBQUHCAgIBwgHCAcHBwcGBwcHBwgIBggICAgJBQcHBgYGBwcFBQUGBQUFBQUGBQUFBgYGBQYFBQYFBQQEBAUFBQUFBgUFBQYFBwUIBgUFBQYGBQUGBQUGBgUGBQUFBQcFBQYGAwUFAwQFBgQDBQUGBQYGBgUGBgUGBwcFBAQFBAUDAwMFBQUGBQcFBQUEBQQGBwcHBgQGBQUEBgMFBQMGAwMGBAcHBQcGBwYKBQUDBAYGBgUGBQMFBAUFBgUFBQYEBgQEBQUGBQMGBgUGBQUFBQcEBAYFBQYFBQYFBQYFBQUFBQUEBQcFBwUFBwcEBQUGBgYFBQUGBgUFBQYGCAYHBwcHBwcHBgcIBwcHCAUGBwYFBQYHBQcGBwcHBwcHBQYGBQUFBQYIBwYICAcHCAcHBwcHBgYIBwcGBwcHBwcGBgcEBQQGBgUHBgcFBgYHBwYHBwQGBAUFBQQFBAQCBAUGBQYHBQYFBwcFBQcGCAUEBwcGBwYGBQUFBgUGBAQEBgQDAgUDCAgGBggGBgcHBwYIBgcHBggICAkBBwYGBQUFBgUFBAQFBQQEBAQGBQUFBgUFBQc=",
          "dtype": "i1"
         },
         "xaxis": "x",
         "y": {
          "bdata": "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",
          "dtype": "i4"
         },
         "yaxis": "y"
        }
       ],
       "layout": {
        "legend": {
         "tracegroupgap": 0
        },
        "margin": {
         "t": 60
        },
        "shapes": [
         {
          "fillcolor": "rgba(255, 0, 0, 0.2)",
          "line": {
           "color": "red",
           "dash": "dash",
           "width": 1
          },
          "type": "rect",
          "x0": 8.9,
          "x1": 10.1,
          "y0": 0,
          "y1": 250000
         }
        ],
        "template": {
         "data": {
          "bar": [
           {
            "error_x": {
             "color": "#2a3f5f"
            },
            "error_y": {
             "color": "#2a3f5f"
            },
            "marker": {
             "line": {
              "color": "#E5ECF6",
              "width": 0.5
             },
             "pattern": {
              "fillmode": "overlay",
              "size": 10,
              "solidity": 0.2
             }
            },
            "type": "bar"
           }
          ],
          "barpolar": [
           {
            "marker": {
             "line": {
              "color": "#E5ECF6",
              "width": 0.5
             },
             "pattern": {
              "fillmode": "overlay",
              "size": 10,
              "solidity": 0.2
             }
            },
            "type": "barpolar"
           }
          ],
          "carpet": [
           {
            "aaxis": {
             "endlinecolor": "#2a3f5f",
             "gridcolor": "white",
             "linecolor": "white",
             "minorgridcolor": "white",
             "startlinecolor": "#2a3f5f"
            },
            "baxis": {
             "endlinecolor": "#2a3f5f",
             "gridcolor": "white",
             "linecolor": "white",
             "minorgridcolor": "white",
             "startlinecolor": "#2a3f5f"
            },
            "type": "carpet"
           }
          ],
          "choropleth": [
           {
            "colorbar": {
             "outlinewidth": 0,
             "ticks": ""
            },
            "type": "choropleth"
           }
          ],
          "contour": [
           {
            "colorbar": {
             "outlinewidth": 0,
             "ticks": ""
            },
            "colorscale": [
             [
              0,
              "#0d0887"
             ],
             [
              0.1111111111111111,
              "#46039f"
             ],
             [
              0.2222222222222222,
              "#7201a8"
             ],
             [
              0.3333333333333333,
              "#9c179e"
             ],
             [
              0.4444444444444444,
              "#bd3786"
             ],
             [
              0.5555555555555556,
              "#d8576b"
             ],
             [
              0.6666666666666666,
              "#ed7953"
             ],
             [
              0.7777777777777778,
              "#fb9f3a"
             ],
             [
              0.8888888888888888,
              "#fdca26"
             ],
             [
              1,
              "#f0f921"
             ]
            ],
            "type": "contour"
           }
          ],
          "contourcarpet": [
           {
            "colorbar": {
             "outlinewidth": 0,
             "ticks": ""
            },
            "type": "contourcarpet"
           }
          ],
          "heatmap": [
           {
            "colorbar": {
             "outlinewidth": 0,
             "ticks": ""
            },
            "colorscale": [
             [
              0,
              "#0d0887"
             ],
             [
              0.1111111111111111,
              "#46039f"
             ],
             [
              0.2222222222222222,
              "#7201a8"
             ],
             [
              0.3333333333333333,
              "#9c179e"
             ],
             [
              0.4444444444444444,
              "#bd3786"
             ],
             [
              0.5555555555555556,
              "#d8576b"
             ],
             [
              0.6666666666666666,
              "#ed7953"
             ],
             [
              0.7777777777777778,
              "#fb9f3a"
             ],
             [
              0.8888888888888888,
              "#fdca26"
             ],
             [
              1,
              "#f0f921"
             ]
            ],
            "type": "heatmap"
           }
          ],
          "histogram": [
           {
            "marker": {
             "pattern": {
              "fillmode": "overlay",
              "size": 10,
              "solidity": 0.2
             }
            },
            "type": "histogram"
           }
          ],
          "histogram2d": [
           {
            "colorbar": {
             "outlinewidth": 0,
             "ticks": ""
            },
            "colorscale": [
             [
              0,
              "#0d0887"
             ],
             [
              0.1111111111111111,
              "#46039f"
             ],
             [
              0.2222222222222222,
              "#7201a8"
             ],
             [
              0.3333333333333333,
              "#9c179e"
             ],
             [
              0.4444444444444444,
              "#bd3786"
             ],
             [
              0.5555555555555556,
              "#d8576b"
             ],
             [
              0.6666666666666666,
              "#ed7953"
             ],
             [
              0.7777777777777778,
              "#fb9f3a"
             ],
             [
              0.8888888888888888,
              "#fdca26"
             ],
             [
              1,
              "#f0f921"
             ]
            ],
            "type": "histogram2d"
           }
          ],
          "histogram2dcontour": [
           {
            "colorbar": {
             "outlinewidth": 0,
             "ticks": ""
            },
            "colorscale": [
             [
              0,
              "#0d0887"
             ],
             [
              0.1111111111111111,
              "#46039f"
             ],
             [
              0.2222222222222222,
              "#7201a8"
             ],
             [
              0.3333333333333333,
              "#9c179e"
             ],
             [
              0.4444444444444444,
              "#bd3786"
             ],
             [
              0.5555555555555556,
              "#d8576b"
             ],
             [
              0.6666666666666666,
              "#ed7953"
             ],
             [
              0.7777777777777778,
              "#fb9f3a"
             ],
             [
              0.8888888888888888,
              "#fdca26"
             ],
             [
              1,
              "#f0f921"
             ]
            ],
            "type": "histogram2dcontour"
           }
          ],
          "mesh3d": [
           {
            "colorbar": {
             "outlinewidth": 0,
             "ticks": ""
            },
            "type": "mesh3d"
           }
          ],
          "parcoords": [
           {
            "line": {
             "colorbar": {
              "outlinewidth": 0,
              "ticks": ""
             }
            },
            "type": "parcoords"
           }
          ],
          "pie": [
           {
            "automargin": true,
            "type": "pie"
           }
          ],
          "scatter": [
           {
            "fillpattern": {
             "fillmode": "overlay",
             "size": 10,
             "solidity": 0.2
            },
            "type": "scatter"
           }
          ],
          "scatter3d": [
           {
            "line": {
             "colorbar": {
              "outlinewidth": 0,
              "ticks": ""
             }
            },
            "marker": {
             "colorbar": {
              "outlinewidth": 0,
              "ticks": ""
             }
            },
            "type": "scatter3d"
           }
          ],
          "scattercarpet": [
           {
            "marker": {
             "colorbar": {
              "outlinewidth": 0,
              "ticks": ""
             }
            },
            "type": "scattercarpet"
           }
          ],
          "scattergeo": [
           {
            "marker": {
             "colorbar": {
              "outlinewidth": 0,
              "ticks": ""
             }
            },
            "type": "scattergeo"
           }
          ],
          "scattergl": [
           {
            "marker": {
             "colorbar": {
              "outlinewidth": 0,
              "ticks": ""
             }
            },
            "type": "scattergl"
           }
          ],
          "scattermap": [
           {
            "marker": {
             "colorbar": {
              "outlinewidth": 0,
              "ticks": ""
             }
            },
            "type": "scattermap"
           }
          ],
          "scattermapbox": [
           {
            "marker": {
             "colorbar": {
              "outlinewidth": 0,
              "ticks": ""
             }
            },
            "type": "scattermapbox"
           }
          ],
          "scatterpolar": [
           {
            "marker": {
             "colorbar": {
              "outlinewidth": 0,
              "ticks": ""
             }
            },
            "type": "scatterpolar"
           }
          ],
          "scatterpolargl": [
           {
            "marker": {
             "colorbar": {
              "outlinewidth": 0,
              "ticks": ""
             }
            },
            "type": "scatterpolargl"
           }
          ],
          "scatterternary": [
           {
            "marker": {
             "colorbar": {
              "outlinewidth": 0,
              "ticks": ""
             }
            },
            "type": "scatterternary"
           }
          ],
          "surface": [
           {
            "colorbar": {
             "outlinewidth": 0,
             "ticks": ""
            },
            "colorscale": [
             [
              0,
              "#0d0887"
             ],
             [
              0.1111111111111111,
              "#46039f"
             ],
             [
              0.2222222222222222,
              "#7201a8"
             ],
             [
              0.3333333333333333,
              "#9c179e"
             ],
             [
              0.4444444444444444,
              "#bd3786"
             ],
             [
              0.5555555555555556,
              "#d8576b"
             ],
             [
              0.6666666666666666,
              "#ed7953"
             ],
             [
              0.7777777777777778,
              "#fb9f3a"
             ],
             [
              0.8888888888888888,
              "#fdca26"
             ],
             [
              1,
              "#f0f921"
             ]
            ],
            "type": "surface"
           }
          ],
          "table": [
           {
            "cells": {
             "fill": {
              "color": "#EBF0F8"
             },
             "line": {
              "color": "white"
             }
            },
            "header": {
             "fill": {
              "color": "#C8D4E3"
             },
             "line": {
              "color": "white"
             }
            },
            "type": "table"
           }
          ]
         },
         "layout": {
          "annotationdefaults": {
           "arrowcolor": "#2a3f5f",
           "arrowhead": 0,
           "arrowwidth": 1
          },
          "autotypenumbers": "strict",
          "coloraxis": {
           "colorbar": {
            "outlinewidth": 0,
            "ticks": ""
           }
          },
          "colorscale": {
           "diverging": [
            [
             0,
             "#8e0152"
            ],
            [
             0.1,
             "#c51b7d"
            ],
            [
             0.2,
             "#de77ae"
            ],
            [
             0.3,
             "#f1b6da"
            ],
            [
             0.4,
             "#fde0ef"
            ],
            [
             0.5,
             "#f7f7f7"
            ],
            [
             0.6,
             "#e6f5d0"
            ],
            [
             0.7,
             "#b8e186"
            ],
            [
             0.8,
             "#7fbc41"
            ],
            [
             0.9,
             "#4d9221"
            ],
            [
             1,
             "#276419"
            ]
           ],
           "sequential": [
            [
             0,
             "#0d0887"
            ],
            [
             0.1111111111111111,
             "#46039f"
            ],
            [
             0.2222222222222222,
             "#7201a8"
            ],
            [
             0.3333333333333333,
             "#9c179e"
            ],
            [
             0.4444444444444444,
             "#bd3786"
            ],
            [
             0.5555555555555556,
             "#d8576b"
            ],
            [
             0.6666666666666666,
             "#ed7953"
            ],
            [
             0.7777777777777778,
             "#fb9f3a"
            ],
            [
             0.8888888888888888,
             "#fdca26"
            ],
            [
             1,
             "#f0f921"
            ]
           ],
           "sequentialminus": [
            [
             0,
             "#0d0887"
            ],
            [
             0.1111111111111111,
             "#46039f"
            ],
            [
             0.2222222222222222,
             "#7201a8"
            ],
            [
             0.3333333333333333,
             "#9c179e"
            ],
            [
             0.4444444444444444,
             "#bd3786"
            ],
            [
             0.5555555555555556,
             "#d8576b"
            ],
            [
             0.6666666666666666,
             "#ed7953"
            ],
            [
             0.7777777777777778,
             "#fb9f3a"
            ],
            [
             0.8888888888888888,
             "#fdca26"
            ],
            [
             1,
             "#f0f921"
            ]
           ]
          },
          "colorway": [
           "#636efa",
           "#EF553B",
           "#00cc96",
           "#ab63fa",
           "#FFA15A",
           "#19d3f3",
           "#FF6692",
           "#B6E880",
           "#FF97FF",
           "#FECB52"
          ],
          "font": {
           "color": "#2a3f5f"
          },
          "geo": {
           "bgcolor": "white",
           "lakecolor": "white",
           "landcolor": "#E5ECF6",
           "showlakes": true,
           "showland": true,
           "subunitcolor": "white"
          },
          "hoverlabel": {
           "align": "left"
          },
          "hovermode": "closest",
          "mapbox": {
           "style": "light"
          },
          "paper_bgcolor": "white",
          "plot_bgcolor": "#E5ECF6",
          "polar": {
           "angularaxis": {
            "gridcolor": "white",
            "linecolor": "white",
            "ticks": ""
           },
           "bgcolor": "#E5ECF6",
           "radialaxis": {
            "gridcolor": "white",
            "linecolor": "white",
            "ticks": ""
           }
          },
          "scene": {
           "xaxis": {
            "backgroundcolor": "#E5ECF6",
            "gridcolor": "white",
            "gridwidth": 2,
            "linecolor": "white",
            "showbackground": true,
            "ticks": "",
            "zerolinecolor": "white"
           },
           "yaxis": {
            "backgroundcolor": "#E5ECF6",
            "gridcolor": "white",
            "gridwidth": 2,
            "linecolor": "white",
            "showbackground": true,
            "ticks": "",
            "zerolinecolor": "white"
           },
           "zaxis": {
            "backgroundcolor": "#E5ECF6",
            "gridcolor": "white",
            "gridwidth": 2,
            "linecolor": "white",
            "showbackground": true,
            "ticks": "",
            "zerolinecolor": "white"
           }
          },
          "shapedefaults": {
           "line": {
            "color": "#2a3f5f"
           }
          },
          "ternary": {
           "aaxis": {
            "gridcolor": "white",
            "linecolor": "white",
            "ticks": ""
           },
           "baxis": {
            "gridcolor": "white",
            "linecolor": "white",
            "ticks": ""
           },
           "bgcolor": "#E5ECF6",
           "caxis": {
            "gridcolor": "white",
            "linecolor": "white",
            "ticks": ""
           }
          },
          "title": {
           "x": 0.05
          },
          "xaxis": {
           "automargin": true,
           "gridcolor": "white",
           "linecolor": "white",
           "ticks": "",
           "title": {
            "standoff": 15
           },
           "zerolinecolor": "white",
           "zerolinewidth": 2
          },
          "yaxis": {
           "automargin": true,
           "gridcolor": "white",
           "linecolor": "white",
           "ticks": "",
           "title": {
            "standoff": 15
           },
           "zerolinecolor": "white",
           "zerolinewidth": 2
          }
         }
        },
        "title": {
         "text": "SalePrice vs Overall.Qual"
        },
        "xaxis": {
         "anchor": "y",
         "domain": [
          0,
          1
         ],
         "title": {
          "text": "Overall.Qual"
         }
        },
        "yaxis": {
         "anchor": "x",
         "domain": [
          0,
          1
         ],
         "title": {
          "text": "SalePrice"
         }
        }
       }
      }
     },
     "metadata": {},
     "output_type": "display_data"
    }
   ],
   "source": [
    "fig = px.scatter(df, x='Overall.Qual', y='SalePrice')\n",
    "fig.update_traces(marker=dict(size=5, opacity=0.5))\n",
    "fig.update_layout(title='SalePrice vs Overall.Qual',\n",
    "                  xaxis_title='Overall.Qual',\n",
    "                  yaxis_title='SalePrice')\n",
    "\n",
    "# plot square at 200k \n",
    "fig.add_shape(type=\"rect\",\n",
    "                x0=8.9, y0=0, x1=10.1, y1=250000,\n",
    "                line=dict(color=\"red\", width=1, dash=\"dash\"),\n",
    "                fillcolor=\"rgba(255, 0, 0, 0.2)\")\n",
    "\n",
    "fig.show()"
   ]
  },
  {
   "cell_type": "markdown",
   "metadata": {},
   "source": [
    "### Como pudemos ver, temos casas muito bem avaliadas (9 e 10), com preços muito baixos que fogem da distribuição normal"
   ]
  },
  {
   "cell_type": "code",
   "execution_count": 32,
   "metadata": {},
   "outputs": [
    {
     "data": {
      "application/vnd.plotly.v1+json": {
       "config": {
        "plotlyServerURL": "https://plot.ly"
       },
       "data": [
        {
         "hovertemplate": "Total.SF=%{x}<br>SalePrice=%{y}<extra></extra>",
         "legendgroup": "",
         "marker": {
          "color": "#636efa",
          "opacity": 0.5,
          "size": 5,
          "symbol": "circle"
         },
         "mode": "markers",
         "name": "",
         "showlegend": false,
         "type": "scattergl",
         "x": {
          "bdata": "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",
          "dtype": "f8"
         },
         "xaxis": "x",
         "y": {
          "bdata": "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",
          "dtype": "i4"
         },
         "yaxis": "y"
        }
       ],
       "layout": {
        "annotations": [
         {
          "arrowhead": 2,
          "showarrow": true,
          "text": "Threshold at 7000",
          "x": 7000,
          "y": 755000
         }
        ],
        "legend": {
         "tracegroupgap": 0
        },
        "margin": {
         "t": 60
        },
        "shapes": [
         {
          "line": {
           "color": "red",
           "dash": "dash",
           "width": 1
          },
          "type": "line",
          "x0": 7000,
          "x1": 7000,
          "y0": 0,
          "y1": 755000
         }
        ],
        "template": {
         "data": {
          "bar": [
           {
            "error_x": {
             "color": "#2a3f5f"
            },
            "error_y": {
             "color": "#2a3f5f"
            },
            "marker": {
             "line": {
              "color": "#E5ECF6",
              "width": 0.5
             },
             "pattern": {
              "fillmode": "overlay",
              "size": 10,
              "solidity": 0.2
             }
            },
            "type": "bar"
           }
          ],
          "barpolar": [
           {
            "marker": {
             "line": {
              "color": "#E5ECF6",
              "width": 0.5
             },
             "pattern": {
              "fillmode": "overlay",
              "size": 10,
              "solidity": 0.2
             }
            },
            "type": "barpolar"
           }
          ],
          "carpet": [
           {
            "aaxis": {
             "endlinecolor": "#2a3f5f",
             "gridcolor": "white",
             "linecolor": "white",
             "minorgridcolor": "white",
             "startlinecolor": "#2a3f5f"
            },
            "baxis": {
             "endlinecolor": "#2a3f5f",
             "gridcolor": "white",
             "linecolor": "white",
             "minorgridcolor": "white",
             "startlinecolor": "#2a3f5f"
            },
            "type": "carpet"
           }
          ],
          "choropleth": [
           {
            "colorbar": {
             "outlinewidth": 0,
             "ticks": ""
            },
            "type": "choropleth"
           }
          ],
          "contour": [
           {
            "colorbar": {
             "outlinewidth": 0,
             "ticks": ""
            },
            "colorscale": [
             [
              0,
              "#0d0887"
             ],
             [
              0.1111111111111111,
              "#46039f"
             ],
             [
              0.2222222222222222,
              "#7201a8"
             ],
             [
              0.3333333333333333,
              "#9c179e"
             ],
             [
              0.4444444444444444,
              "#bd3786"
             ],
             [
              0.5555555555555556,
              "#d8576b"
             ],
             [
              0.6666666666666666,
              "#ed7953"
             ],
             [
              0.7777777777777778,
              "#fb9f3a"
             ],
             [
              0.8888888888888888,
              "#fdca26"
             ],
             [
              1,
              "#f0f921"
             ]
            ],
            "type": "contour"
           }
          ],
          "contourcarpet": [
           {
            "colorbar": {
             "outlinewidth": 0,
             "ticks": ""
            },
            "type": "contourcarpet"
           }
          ],
          "heatmap": [
           {
            "colorbar": {
             "outlinewidth": 0,
             "ticks": ""
            },
            "colorscale": [
             [
              0,
              "#0d0887"
             ],
             [
              0.1111111111111111,
              "#46039f"
             ],
             [
              0.2222222222222222,
              "#7201a8"
             ],
             [
              0.3333333333333333,
              "#9c179e"
             ],
             [
              0.4444444444444444,
              "#bd3786"
             ],
             [
              0.5555555555555556,
              "#d8576b"
             ],
             [
              0.6666666666666666,
              "#ed7953"
             ],
             [
              0.7777777777777778,
              "#fb9f3a"
             ],
             [
              0.8888888888888888,
              "#fdca26"
             ],
             [
              1,
              "#f0f921"
             ]
            ],
            "type": "heatmap"
           }
          ],
          "histogram": [
           {
            "marker": {
             "pattern": {
              "fillmode": "overlay",
              "size": 10,
              "solidity": 0.2
             }
            },
            "type": "histogram"
           }
          ],
          "histogram2d": [
           {
            "colorbar": {
             "outlinewidth": 0,
             "ticks": ""
            },
            "colorscale": [
             [
              0,
              "#0d0887"
             ],
             [
              0.1111111111111111,
              "#46039f"
             ],
             [
              0.2222222222222222,
              "#7201a8"
             ],
             [
              0.3333333333333333,
              "#9c179e"
             ],
             [
              0.4444444444444444,
              "#bd3786"
             ],
             [
              0.5555555555555556,
              "#d8576b"
             ],
             [
              0.6666666666666666,
              "#ed7953"
             ],
             [
              0.7777777777777778,
              "#fb9f3a"
             ],
             [
              0.8888888888888888,
              "#fdca26"
             ],
             [
              1,
              "#f0f921"
             ]
            ],
            "type": "histogram2d"
           }
          ],
          "histogram2dcontour": [
           {
            "colorbar": {
             "outlinewidth": 0,
             "ticks": ""
            },
            "colorscale": [
             [
              0,
              "#0d0887"
             ],
             [
              0.1111111111111111,
              "#46039f"
             ],
             [
              0.2222222222222222,
              "#7201a8"
             ],
             [
              0.3333333333333333,
              "#9c179e"
             ],
             [
              0.4444444444444444,
              "#bd3786"
             ],
             [
              0.5555555555555556,
              "#d8576b"
             ],
             [
              0.6666666666666666,
              "#ed7953"
             ],
             [
              0.7777777777777778,
              "#fb9f3a"
             ],
             [
              0.8888888888888888,
              "#fdca26"
             ],
             [
              1,
              "#f0f921"
             ]
            ],
            "type": "histogram2dcontour"
           }
          ],
          "mesh3d": [
           {
            "colorbar": {
             "outlinewidth": 0,
             "ticks": ""
            },
            "type": "mesh3d"
           }
          ],
          "parcoords": [
           {
            "line": {
             "colorbar": {
              "outlinewidth": 0,
              "ticks": ""
             }
            },
            "type": "parcoords"
           }
          ],
          "pie": [
           {
            "automargin": true,
            "type": "pie"
           }
          ],
          "scatter": [
           {
            "fillpattern": {
             "fillmode": "overlay",
             "size": 10,
             "solidity": 0.2
            },
            "type": "scatter"
           }
          ],
          "scatter3d": [
           {
            "line": {
             "colorbar": {
              "outlinewidth": 0,
              "ticks": ""
             }
            },
            "marker": {
             "colorbar": {
              "outlinewidth": 0,
              "ticks": ""
             }
            },
            "type": "scatter3d"
           }
          ],
          "scattercarpet": [
           {
            "marker": {
             "colorbar": {
              "outlinewidth": 0,
              "ticks": ""
             }
            },
            "type": "scattercarpet"
           }
          ],
          "scattergeo": [
           {
            "marker": {
             "colorbar": {
              "outlinewidth": 0,
              "ticks": ""
             }
            },
            "type": "scattergeo"
           }
          ],
          "scattergl": [
           {
            "marker": {
             "colorbar": {
              "outlinewidth": 0,
              "ticks": ""
             }
            },
            "type": "scattergl"
           }
          ],
          "scattermap": [
           {
            "marker": {
             "colorbar": {
              "outlinewidth": 0,
              "ticks": ""
             }
            },
            "type": "scattermap"
           }
          ],
          "scattermapbox": [
           {
            "marker": {
             "colorbar": {
              "outlinewidth": 0,
              "ticks": ""
             }
            },
            "type": "scattermapbox"
           }
          ],
          "scatterpolar": [
           {
            "marker": {
             "colorbar": {
              "outlinewidth": 0,
              "ticks": ""
             }
            },
            "type": "scatterpolar"
           }
          ],
          "scatterpolargl": [
           {
            "marker": {
             "colorbar": {
              "outlinewidth": 0,
              "ticks": ""
             }
            },
            "type": "scatterpolargl"
           }
          ],
          "scatterternary": [
           {
            "marker": {
             "colorbar": {
              "outlinewidth": 0,
              "ticks": ""
             }
            },
            "type": "scatterternary"
           }
          ],
          "surface": [
           {
            "colorbar": {
             "outlinewidth": 0,
             "ticks": ""
            },
            "colorscale": [
             [
              0,
              "#0d0887"
             ],
             [
              0.1111111111111111,
              "#46039f"
             ],
             [
              0.2222222222222222,
              "#7201a8"
             ],
             [
              0.3333333333333333,
              "#9c179e"
             ],
             [
              0.4444444444444444,
              "#bd3786"
             ],
             [
              0.5555555555555556,
              "#d8576b"
             ],
             [
              0.6666666666666666,
              "#ed7953"
             ],
             [
              0.7777777777777778,
              "#fb9f3a"
             ],
             [
              0.8888888888888888,
              "#fdca26"
             ],
             [
              1,
              "#f0f921"
             ]
            ],
            "type": "surface"
           }
          ],
          "table": [
           {
            "cells": {
             "fill": {
              "color": "#EBF0F8"
             },
             "line": {
              "color": "white"
             }
            },
            "header": {
             "fill": {
              "color": "#C8D4E3"
             },
             "line": {
              "color": "white"
             }
            },
            "type": "table"
           }
          ]
         },
         "layout": {
          "annotationdefaults": {
           "arrowcolor": "#2a3f5f",
           "arrowhead": 0,
           "arrowwidth": 1
          },
          "autotypenumbers": "strict",
          "coloraxis": {
           "colorbar": {
            "outlinewidth": 0,
            "ticks": ""
           }
          },
          "colorscale": {
           "diverging": [
            [
             0,
             "#8e0152"
            ],
            [
             0.1,
             "#c51b7d"
            ],
            [
             0.2,
             "#de77ae"
            ],
            [
             0.3,
             "#f1b6da"
            ],
            [
             0.4,
             "#fde0ef"
            ],
            [
             0.5,
             "#f7f7f7"
            ],
            [
             0.6,
             "#e6f5d0"
            ],
            [
             0.7,
             "#b8e186"
            ],
            [
             0.8,
             "#7fbc41"
            ],
            [
             0.9,
             "#4d9221"
            ],
            [
             1,
             "#276419"
            ]
           ],
           "sequential": [
            [
             0,
             "#0d0887"
            ],
            [
             0.1111111111111111,
             "#46039f"
            ],
            [
             0.2222222222222222,
             "#7201a8"
            ],
            [
             0.3333333333333333,
             "#9c179e"
            ],
            [
             0.4444444444444444,
             "#bd3786"
            ],
            [
             0.5555555555555556,
             "#d8576b"
            ],
            [
             0.6666666666666666,
             "#ed7953"
            ],
            [
             0.7777777777777778,
             "#fb9f3a"
            ],
            [
             0.8888888888888888,
             "#fdca26"
            ],
            [
             1,
             "#f0f921"
            ]
           ],
           "sequentialminus": [
            [
             0,
             "#0d0887"
            ],
            [
             0.1111111111111111,
             "#46039f"
            ],
            [
             0.2222222222222222,
             "#7201a8"
            ],
            [
             0.3333333333333333,
             "#9c179e"
            ],
            [
             0.4444444444444444,
             "#bd3786"
            ],
            [
             0.5555555555555556,
             "#d8576b"
            ],
            [
             0.6666666666666666,
             "#ed7953"
            ],
            [
             0.7777777777777778,
             "#fb9f3a"
            ],
            [
             0.8888888888888888,
             "#fdca26"
            ],
            [
             1,
             "#f0f921"
            ]
           ]
          },
          "colorway": [
           "#636efa",
           "#EF553B",
           "#00cc96",
           "#ab63fa",
           "#FFA15A",
           "#19d3f3",
           "#FF6692",
           "#B6E880",
           "#FF97FF",
           "#FECB52"
          ],
          "font": {
           "color": "#2a3f5f"
          },
          "geo": {
           "bgcolor": "white",
           "lakecolor": "white",
           "landcolor": "#E5ECF6",
           "showlakes": true,
           "showland": true,
           "subunitcolor": "white"
          },
          "hoverlabel": {
           "align": "left"
          },
          "hovermode": "closest",
          "mapbox": {
           "style": "light"
          },
          "paper_bgcolor": "white",
          "plot_bgcolor": "#E5ECF6",
          "polar": {
           "angularaxis": {
            "gridcolor": "white",
            "linecolor": "white",
            "ticks": ""
           },
           "bgcolor": "#E5ECF6",
           "radialaxis": {
            "gridcolor": "white",
            "linecolor": "white",
            "ticks": ""
           }
          },
          "scene": {
           "xaxis": {
            "backgroundcolor": "#E5ECF6",
            "gridcolor": "white",
            "gridwidth": 2,
            "linecolor": "white",
            "showbackground": true,
            "ticks": "",
            "zerolinecolor": "white"
           },
           "yaxis": {
            "backgroundcolor": "#E5ECF6",
            "gridcolor": "white",
            "gridwidth": 2,
            "linecolor": "white",
            "showbackground": true,
            "ticks": "",
            "zerolinecolor": "white"
           },
           "zaxis": {
            "backgroundcolor": "#E5ECF6",
            "gridcolor": "white",
            "gridwidth": 2,
            "linecolor": "white",
            "showbackground": true,
            "ticks": "",
            "zerolinecolor": "white"
           }
          },
          "shapedefaults": {
           "line": {
            "color": "#2a3f5f"
           }
          },
          "ternary": {
           "aaxis": {
            "gridcolor": "white",
            "linecolor": "white",
            "ticks": ""
           },
           "baxis": {
            "gridcolor": "white",
            "linecolor": "white",
            "ticks": ""
           },
           "bgcolor": "#E5ECF6",
           "caxis": {
            "gridcolor": "white",
            "linecolor": "white",
            "ticks": ""
           }
          },
          "title": {
           "x": 0.05
          },
          "xaxis": {
           "automargin": true,
           "gridcolor": "white",
           "linecolor": "white",
           "ticks": "",
           "title": {
            "standoff": 15
           },
           "zerolinecolor": "white",
           "zerolinewidth": 2
          },
          "yaxis": {
           "automargin": true,
           "gridcolor": "white",
           "linecolor": "white",
           "ticks": "",
           "title": {
            "standoff": 15
           },
           "zerolinecolor": "white",
           "zerolinewidth": 2
          }
         }
        },
        "title": {
         "text": "SalePrice vs Total.SF"
        },
        "xaxis": {
         "anchor": "y",
         "domain": [
          0,
          1
         ],
         "title": {
          "text": "Total.SF"
         }
        },
        "yaxis": {
         "anchor": "x",
         "domain": [
          0,
          1
         ],
         "title": {
          "text": "SalePrice"
         }
        }
       }
      }
     },
     "metadata": {},
     "output_type": "display_data"
    }
   ],
   "source": [
    "fig = px.scatter(df, x='Total.SF', y='SalePrice')\n",
    "fig.update_traces(marker=dict(size=5, opacity=0.5))\n",
    "fig.update_layout(title='SalePrice vs Total.SF',\n",
    "                  xaxis_title='Total.SF',\n",
    "                  yaxis_title='SalePrice')\n",
    "fig.add_shape(type=\"line\",\n",
    "                x0=7000, y0=0, x1=7000, y1=df['SalePrice'].max(),\n",
    "                line=dict(color=\"red\", width=1, dash=\"dash\"))\n",
    "fig.add_annotation(text=\"Threshold at 7000\", x=7000, y=df['SalePrice'].max(), showarrow=True, arrowhead=2)\n",
    "\n",
    "fig.show()"
   ]
  },
  {
   "cell_type": "markdown",
   "metadata": {},
   "source": [
    "### Aqui tambem está bem estranho, casas enormes com preço de banana?!? "
   ]
  },
  {
   "cell_type": "markdown",
   "metadata": {},
   "source": [
    "## Vamos tirar esses outliers para que não afetem nosso modelo preditivo"
   ]
  },
  {
   "cell_type": "code",
   "execution_count": 33,
   "metadata": {},
   "outputs": [],
   "source": [
    "def drop_outliers(df: pd.DataFrame) -> pd.DataFrame:\n",
    "    df = df.copy()\n",
    "    \n",
    "   \n",
    "    items_to_drop = df[(df[\"SalePrice\"] < 200000) & (df[\"Overall.Qual\"] > 8) & (df[\"Total.SF\"] > 7000)]\n",
    "    df = df.drop(items_to_drop.index)\n",
    "    \n",
    "    return df"
   ]
  },
  {
   "cell_type": "markdown",
   "metadata": {},
   "source": [
    "### DataFrame ANTES da remoção de outliers:"
   ]
  },
  {
   "cell_type": "code",
   "execution_count": 34,
   "metadata": {},
   "outputs": [
    {
     "data": {
      "application/vnd.microsoft.datawrangler.viewer.v0+json": {
       "columns": [
        {
         "name": "index",
         "rawType": "object",
         "type": "string"
        },
        {
         "name": "Gr.Liv.Area",
         "rawType": "float64",
         "type": "float"
        },
        {
         "name": "Garage.Cars",
         "rawType": "float64",
         "type": "float"
        },
        {
         "name": "Mas.Vnr.Area",
         "rawType": "float64",
         "type": "float"
        },
        {
         "name": "Fireplaces",
         "rawType": "float64",
         "type": "float"
        },
        {
         "name": "BsmtFin.SF.1",
         "rawType": "float64",
         "type": "float"
        },
        {
         "name": "Lot.Frontage",
         "rawType": "float64",
         "type": "float"
        },
        {
         "name": "Lot.Area",
         "rawType": "float64",
         "type": "float"
        },
        {
         "name": "TotRms.AbvGrd",
         "rawType": "float64",
         "type": "float"
        },
        {
         "name": "Overall.Qual",
         "rawType": "float64",
         "type": "float"
        },
        {
         "name": "SalePrice",
         "rawType": "float64",
         "type": "float"
        },
        {
         "name": "Years.Snc.Remod",
         "rawType": "float64",
         "type": "float"
        },
        {
         "name": "Total.SF",
         "rawType": "float64",
         "type": "float"
        },
        {
         "name": "Total.Bath",
         "rawType": "float64",
         "type": "float"
        }
       ],
       "conversionMethod": "pd.DataFrame",
       "ref": "28daba7c-a166-48d4-ac46-986ff17fc6ad",
       "rows": [
        [
         "count",
         "2930.0",
         "2929.0",
         "2907.0",
         "2930.0",
         "2929.0",
         "2440.0",
         "2930.0",
         "2930.0",
         "2930.0",
         "2930.0",
         "2930.0",
         "2930.0",
         "2930.0"
        ],
        [
         "mean",
         "1499.6904436860068",
         "1.7668146124957322",
         "101.8968008255934",
         "0.5993174061433447",
         "442.6295664049164",
         "69.22459016393442",
         "10147.921843003413",
         "6.443003412969284",
         "6.0948805460750854",
         "180796.0600682594",
         "40.73344709897611",
         "2546.2692832764506",
         "2.217918088737201"
        ],
        [
         "std",
         "505.508887472041",
         "0.7605663649343575",
         "179.11261057727674",
         "0.647920916551218",
         "455.5908390911526",
         "23.3653349745034",
         "7880.017759439091",
         "1.572964396334462",
         "1.4110260835519746",
         "79886.692356665",
         "20.860285876849304",
         "804.3508379943909",
         "0.8074443031001219"
        ],
        [
         "min",
         "334.0",
         "0.0",
         "0.0",
         "0.0",
         "0.0",
         "21.0",
         "1300.0",
         "2.0",
         "1.0",
         "12789.0",
         "15.0",
         "334.0",
         "1.0"
        ],
        [
         "25%",
         "1126.0",
         "1.0",
         "0.0",
         "0.0",
         "0.0",
         "58.0",
         "7440.25",
         "5.0",
         "5.0",
         "129500.0",
         "21.0",
         "2000.0",
         "1.5"
        ],
        [
         "50%",
         "1442.0",
         "2.0",
         "0.0",
         "1.0",
         "370.0",
         "68.0",
         "9436.5",
         "6.0",
         "6.0",
         "160000.0",
         "32.0",
         "2450.0",
         "2.0"
        ],
        [
         "75%",
         "1742.75",
         "2.0",
         "164.0",
         "1.0",
         "734.0",
         "80.0",
         "11555.25",
         "7.0",
         "7.0",
         "213500.0",
         "60.0",
         "2990.0",
         "2.5"
        ],
        [
         "max",
         "5642.0",
         "5.0",
         "1600.0",
         "4.0",
         "5644.0",
         "313.0",
         "215245.0",
         "15.0",
         "10.0",
         "755000.0",
         "75.0",
         "11752.0",
         "7.0"
        ]
       ],
       "shape": {
        "columns": 13,
        "rows": 8
       }
      },
      "text/html": [
       "<div>\n",
       "<style scoped>\n",
       "    .dataframe tbody tr th:only-of-type {\n",
       "        vertical-align: middle;\n",
       "    }\n",
       "\n",
       "    .dataframe tbody tr th {\n",
       "        vertical-align: top;\n",
       "    }\n",
       "\n",
       "    .dataframe thead th {\n",
       "        text-align: right;\n",
       "    }\n",
       "</style>\n",
       "<table border=\"1\" class=\"dataframe\">\n",
       "  <thead>\n",
       "    <tr style=\"text-align: right;\">\n",
       "      <th></th>\n",
       "      <th>Gr.Liv.Area</th>\n",
       "      <th>Garage.Cars</th>\n",
       "      <th>Mas.Vnr.Area</th>\n",
       "      <th>Fireplaces</th>\n",
       "      <th>BsmtFin.SF.1</th>\n",
       "      <th>Lot.Frontage</th>\n",
       "      <th>Lot.Area</th>\n",
       "      <th>TotRms.AbvGrd</th>\n",
       "      <th>Overall.Qual</th>\n",
       "      <th>SalePrice</th>\n",
       "      <th>Years.Snc.Remod</th>\n",
       "      <th>Total.SF</th>\n",
       "      <th>Total.Bath</th>\n",
       "    </tr>\n",
       "  </thead>\n",
       "  <tbody>\n",
       "    <tr>\n",
       "      <th>count</th>\n",
       "      <td>2930.000000</td>\n",
       "      <td>2929.000000</td>\n",
       "      <td>2907.000000</td>\n",
       "      <td>2930.000000</td>\n",
       "      <td>2929.000000</td>\n",
       "      <td>2440.000000</td>\n",
       "      <td>2930.000000</td>\n",
       "      <td>2930.000000</td>\n",
       "      <td>2930.000000</td>\n",
       "      <td>2930.000000</td>\n",
       "      <td>2930.000000</td>\n",
       "      <td>2930.000000</td>\n",
       "      <td>2930.000000</td>\n",
       "    </tr>\n",
       "    <tr>\n",
       "      <th>mean</th>\n",
       "      <td>1499.690444</td>\n",
       "      <td>1.766815</td>\n",
       "      <td>101.896801</td>\n",
       "      <td>0.599317</td>\n",
       "      <td>442.629566</td>\n",
       "      <td>69.224590</td>\n",
       "      <td>10147.921843</td>\n",
       "      <td>6.443003</td>\n",
       "      <td>6.094881</td>\n",
       "      <td>180796.060068</td>\n",
       "      <td>40.733447</td>\n",
       "      <td>2546.269283</td>\n",
       "      <td>2.217918</td>\n",
       "    </tr>\n",
       "    <tr>\n",
       "      <th>std</th>\n",
       "      <td>505.508887</td>\n",
       "      <td>0.760566</td>\n",
       "      <td>179.112611</td>\n",
       "      <td>0.647921</td>\n",
       "      <td>455.590839</td>\n",
       "      <td>23.365335</td>\n",
       "      <td>7880.017759</td>\n",
       "      <td>1.572964</td>\n",
       "      <td>1.411026</td>\n",
       "      <td>79886.692357</td>\n",
       "      <td>20.860286</td>\n",
       "      <td>804.350838</td>\n",
       "      <td>0.807444</td>\n",
       "    </tr>\n",
       "    <tr>\n",
       "      <th>min</th>\n",
       "      <td>334.000000</td>\n",
       "      <td>0.000000</td>\n",
       "      <td>0.000000</td>\n",
       "      <td>0.000000</td>\n",
       "      <td>0.000000</td>\n",
       "      <td>21.000000</td>\n",
       "      <td>1300.000000</td>\n",
       "      <td>2.000000</td>\n",
       "      <td>1.000000</td>\n",
       "      <td>12789.000000</td>\n",
       "      <td>15.000000</td>\n",
       "      <td>334.000000</td>\n",
       "      <td>1.000000</td>\n",
       "    </tr>\n",
       "    <tr>\n",
       "      <th>25%</th>\n",
       "      <td>1126.000000</td>\n",
       "      <td>1.000000</td>\n",
       "      <td>0.000000</td>\n",
       "      <td>0.000000</td>\n",
       "      <td>0.000000</td>\n",
       "      <td>58.000000</td>\n",
       "      <td>7440.250000</td>\n",
       "      <td>5.000000</td>\n",
       "      <td>5.000000</td>\n",
       "      <td>129500.000000</td>\n",
       "      <td>21.000000</td>\n",
       "      <td>2000.000000</td>\n",
       "      <td>1.500000</td>\n",
       "    </tr>\n",
       "    <tr>\n",
       "      <th>50%</th>\n",
       "      <td>1442.000000</td>\n",
       "      <td>2.000000</td>\n",
       "      <td>0.000000</td>\n",
       "      <td>1.000000</td>\n",
       "      <td>370.000000</td>\n",
       "      <td>68.000000</td>\n",
       "      <td>9436.500000</td>\n",
       "      <td>6.000000</td>\n",
       "      <td>6.000000</td>\n",
       "      <td>160000.000000</td>\n",
       "      <td>32.000000</td>\n",
       "      <td>2450.000000</td>\n",
       "      <td>2.000000</td>\n",
       "    </tr>\n",
       "    <tr>\n",
       "      <th>75%</th>\n",
       "      <td>1742.750000</td>\n",
       "      <td>2.000000</td>\n",
       "      <td>164.000000</td>\n",
       "      <td>1.000000</td>\n",
       "      <td>734.000000</td>\n",
       "      <td>80.000000</td>\n",
       "      <td>11555.250000</td>\n",
       "      <td>7.000000</td>\n",
       "      <td>7.000000</td>\n",
       "      <td>213500.000000</td>\n",
       "      <td>60.000000</td>\n",
       "      <td>2990.000000</td>\n",
       "      <td>2.500000</td>\n",
       "    </tr>\n",
       "    <tr>\n",
       "      <th>max</th>\n",
       "      <td>5642.000000</td>\n",
       "      <td>5.000000</td>\n",
       "      <td>1600.000000</td>\n",
       "      <td>4.000000</td>\n",
       "      <td>5644.000000</td>\n",
       "      <td>313.000000</td>\n",
       "      <td>215245.000000</td>\n",
       "      <td>15.000000</td>\n",
       "      <td>10.000000</td>\n",
       "      <td>755000.000000</td>\n",
       "      <td>75.000000</td>\n",
       "      <td>11752.000000</td>\n",
       "      <td>7.000000</td>\n",
       "    </tr>\n",
       "  </tbody>\n",
       "</table>\n",
       "</div>"
      ],
      "text/plain": [
       "       Gr.Liv.Area  Garage.Cars  Mas.Vnr.Area   Fireplaces  BsmtFin.SF.1  \\\n",
       "count  2930.000000  2929.000000   2907.000000  2930.000000   2929.000000   \n",
       "mean   1499.690444     1.766815    101.896801     0.599317    442.629566   \n",
       "std     505.508887     0.760566    179.112611     0.647921    455.590839   \n",
       "min     334.000000     0.000000      0.000000     0.000000      0.000000   \n",
       "25%    1126.000000     1.000000      0.000000     0.000000      0.000000   \n",
       "50%    1442.000000     2.000000      0.000000     1.000000    370.000000   \n",
       "75%    1742.750000     2.000000    164.000000     1.000000    734.000000   \n",
       "max    5642.000000     5.000000   1600.000000     4.000000   5644.000000   \n",
       "\n",
       "       Lot.Frontage       Lot.Area  TotRms.AbvGrd  Overall.Qual  \\\n",
       "count   2440.000000    2930.000000    2930.000000   2930.000000   \n",
       "mean      69.224590   10147.921843       6.443003      6.094881   \n",
       "std       23.365335    7880.017759       1.572964      1.411026   \n",
       "min       21.000000    1300.000000       2.000000      1.000000   \n",
       "25%       58.000000    7440.250000       5.000000      5.000000   \n",
       "50%       68.000000    9436.500000       6.000000      6.000000   \n",
       "75%       80.000000   11555.250000       7.000000      7.000000   \n",
       "max      313.000000  215245.000000      15.000000     10.000000   \n",
       "\n",
       "           SalePrice  Years.Snc.Remod      Total.SF   Total.Bath  \n",
       "count    2930.000000      2930.000000   2930.000000  2930.000000  \n",
       "mean   180796.060068        40.733447   2546.269283     2.217918  \n",
       "std     79886.692357        20.860286    804.350838     0.807444  \n",
       "min     12789.000000        15.000000    334.000000     1.000000  \n",
       "25%    129500.000000        21.000000   2000.000000     1.500000  \n",
       "50%    160000.000000        32.000000   2450.000000     2.000000  \n",
       "75%    213500.000000        60.000000   2990.000000     2.500000  \n",
       "max    755000.000000        75.000000  11752.000000     7.000000  "
      ]
     },
     "execution_count": 34,
     "metadata": {},
     "output_type": "execute_result"
    }
   ],
   "source": [
    "df.describe()"
   ]
  },
  {
   "cell_type": "code",
   "execution_count": 35,
   "metadata": {},
   "outputs": [
    {
     "data": {
      "application/vnd.plotly.v1+json": {
       "config": {
        "plotlyServerURL": "https://plot.ly"
       },
       "data": [
        {
         "hovertemplate": "Gr.Liv.Area=%{x}<br>SalePrice=%{y}<extra></extra>",
         "legendgroup": "",
         "marker": {
          "color": "#636efa",
          "opacity": 0.5,
          "size": 5,
          "symbol": "circle"
         },
         "mode": "markers",
         "name": "",
         "showlegend": false,
         "type": "scattergl",
         "x": {
          "bdata": "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",
          "dtype": "i2"
         },
         "xaxis": "x",
         "y": {
          "bdata": "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",
          "dtype": "i4"
         },
         "yaxis": "y"
        },
        {
         "hovertemplate": "Total.SF=%{x}<br>SalePrice=%{y}<extra></extra>",
         "legendgroup": "",
         "marker": {
          "color": "#636efa",
          "opacity": 0.5,
          "size": 5,
          "symbol": "circle"
         },
         "mode": "markers",
         "name": "",
         "showlegend": false,
         "type": "scattergl",
         "x": {
          "bdata": "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",
          "dtype": "f8"
         },
         "xaxis": "x2",
         "y": {
          "bdata": "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",
          "dtype": "i4"
         },
         "yaxis": "y2"
        }
       ],
       "layout": {
        "annotations": [
         {
          "font": {
           "size": 16
          },
          "showarrow": false,
          "text": "SalePrice vs Gr.Liv.Area",
          "x": 0.225,
          "xanchor": "center",
          "xref": "paper",
          "y": 1,
          "yanchor": "bottom",
          "yref": "paper"
         },
         {
          "font": {
           "size": 16
          },
          "showarrow": false,
          "text": "SalePrice vs Total.SF",
          "x": 0.775,
          "xanchor": "center",
          "xref": "paper",
          "y": 1,
          "yanchor": "bottom",
          "yref": "paper"
         }
        ],
        "height": 600,
        "showlegend": false,
        "template": {
         "data": {
          "bar": [
           {
            "error_x": {
             "color": "#2a3f5f"
            },
            "error_y": {
             "color": "#2a3f5f"
            },
            "marker": {
             "line": {
              "color": "#E5ECF6",
              "width": 0.5
             },
             "pattern": {
              "fillmode": "overlay",
              "size": 10,
              "solidity": 0.2
             }
            },
            "type": "bar"
           }
          ],
          "barpolar": [
           {
            "marker": {
             "line": {
              "color": "#E5ECF6",
              "width": 0.5
             },
             "pattern": {
              "fillmode": "overlay",
              "size": 10,
              "solidity": 0.2
             }
            },
            "type": "barpolar"
           }
          ],
          "carpet": [
           {
            "aaxis": {
             "endlinecolor": "#2a3f5f",
             "gridcolor": "white",
             "linecolor": "white",
             "minorgridcolor": "white",
             "startlinecolor": "#2a3f5f"
            },
            "baxis": {
             "endlinecolor": "#2a3f5f",
             "gridcolor": "white",
             "linecolor": "white",
             "minorgridcolor": "white",
             "startlinecolor": "#2a3f5f"
            },
            "type": "carpet"
           }
          ],
          "choropleth": [
           {
            "colorbar": {
             "outlinewidth": 0,
             "ticks": ""
            },
            "type": "choropleth"
           }
          ],
          "contour": [
           {
            "colorbar": {
             "outlinewidth": 0,
             "ticks": ""
            },
            "colorscale": [
             [
              0,
              "#0d0887"
             ],
             [
              0.1111111111111111,
              "#46039f"
             ],
             [
              0.2222222222222222,
              "#7201a8"
             ],
             [
              0.3333333333333333,
              "#9c179e"
             ],
             [
              0.4444444444444444,
              "#bd3786"
             ],
             [
              0.5555555555555556,
              "#d8576b"
             ],
             [
              0.6666666666666666,
              "#ed7953"
             ],
             [
              0.7777777777777778,
              "#fb9f3a"
             ],
             [
              0.8888888888888888,
              "#fdca26"
             ],
             [
              1,
              "#f0f921"
             ]
            ],
            "type": "contour"
           }
          ],
          "contourcarpet": [
           {
            "colorbar": {
             "outlinewidth": 0,
             "ticks": ""
            },
            "type": "contourcarpet"
           }
          ],
          "heatmap": [
           {
            "colorbar": {
             "outlinewidth": 0,
             "ticks": ""
            },
            "colorscale": [
             [
              0,
              "#0d0887"
             ],
             [
              0.1111111111111111,
              "#46039f"
             ],
             [
              0.2222222222222222,
              "#7201a8"
             ],
             [
              0.3333333333333333,
              "#9c179e"
             ],
             [
              0.4444444444444444,
              "#bd3786"
             ],
             [
              0.5555555555555556,
              "#d8576b"
             ],
             [
              0.6666666666666666,
              "#ed7953"
             ],
             [
              0.7777777777777778,
              "#fb9f3a"
             ],
             [
              0.8888888888888888,
              "#fdca26"
             ],
             [
              1,
              "#f0f921"
             ]
            ],
            "type": "heatmap"
           }
          ],
          "histogram": [
           {
            "marker": {
             "pattern": {
              "fillmode": "overlay",
              "size": 10,
              "solidity": 0.2
             }
            },
            "type": "histogram"
           }
          ],
          "histogram2d": [
           {
            "colorbar": {
             "outlinewidth": 0,
             "ticks": ""
            },
            "colorscale": [
             [
              0,
              "#0d0887"
             ],
             [
              0.1111111111111111,
              "#46039f"
             ],
             [
              0.2222222222222222,
              "#7201a8"
             ],
             [
              0.3333333333333333,
              "#9c179e"
             ],
             [
              0.4444444444444444,
              "#bd3786"
             ],
             [
              0.5555555555555556,
              "#d8576b"
             ],
             [
              0.6666666666666666,
              "#ed7953"
             ],
             [
              0.7777777777777778,
              "#fb9f3a"
             ],
             [
              0.8888888888888888,
              "#fdca26"
             ],
             [
              1,
              "#f0f921"
             ]
            ],
            "type": "histogram2d"
           }
          ],
          "histogram2dcontour": [
           {
            "colorbar": {
             "outlinewidth": 0,
             "ticks": ""
            },
            "colorscale": [
             [
              0,
              "#0d0887"
             ],
             [
              0.1111111111111111,
              "#46039f"
             ],
             [
              0.2222222222222222,
              "#7201a8"
             ],
             [
              0.3333333333333333,
              "#9c179e"
             ],
             [
              0.4444444444444444,
              "#bd3786"
             ],
             [
              0.5555555555555556,
              "#d8576b"
             ],
             [
              0.6666666666666666,
              "#ed7953"
             ],
             [
              0.7777777777777778,
              "#fb9f3a"
             ],
             [
              0.8888888888888888,
              "#fdca26"
             ],
             [
              1,
              "#f0f921"
             ]
            ],
            "type": "histogram2dcontour"
           }
          ],
          "mesh3d": [
           {
            "colorbar": {
             "outlinewidth": 0,
             "ticks": ""
            },
            "type": "mesh3d"
           }
          ],
          "parcoords": [
           {
            "line": {
             "colorbar": {
              "outlinewidth": 0,
              "ticks": ""
             }
            },
            "type": "parcoords"
           }
          ],
          "pie": [
           {
            "automargin": true,
            "type": "pie"
           }
          ],
          "scatter": [
           {
            "fillpattern": {
             "fillmode": "overlay",
             "size": 10,
             "solidity": 0.2
            },
            "type": "scatter"
           }
          ],
          "scatter3d": [
           {
            "line": {
             "colorbar": {
              "outlinewidth": 0,
              "ticks": ""
             }
            },
            "marker": {
             "colorbar": {
              "outlinewidth": 0,
              "ticks": ""
             }
            },
            "type": "scatter3d"
           }
          ],
          "scattercarpet": [
           {
            "marker": {
             "colorbar": {
              "outlinewidth": 0,
              "ticks": ""
             }
            },
            "type": "scattercarpet"
           }
          ],
          "scattergeo": [
           {
            "marker": {
             "colorbar": {
              "outlinewidth": 0,
              "ticks": ""
             }
            },
            "type": "scattergeo"
           }
          ],
          "scattergl": [
           {
            "marker": {
             "colorbar": {
              "outlinewidth": 0,
              "ticks": ""
             }
            },
            "type": "scattergl"
           }
          ],
          "scattermap": [
           {
            "marker": {
             "colorbar": {
              "outlinewidth": 0,
              "ticks": ""
             }
            },
            "type": "scattermap"
           }
          ],
          "scattermapbox": [
           {
            "marker": {
             "colorbar": {
              "outlinewidth": 0,
              "ticks": ""
             }
            },
            "type": "scattermapbox"
           }
          ],
          "scatterpolar": [
           {
            "marker": {
             "colorbar": {
              "outlinewidth": 0,
              "ticks": ""
             }
            },
            "type": "scatterpolar"
           }
          ],
          "scatterpolargl": [
           {
            "marker": {
             "colorbar": {
              "outlinewidth": 0,
              "ticks": ""
             }
            },
            "type": "scatterpolargl"
           }
          ],
          "scatterternary": [
           {
            "marker": {
             "colorbar": {
              "outlinewidth": 0,
              "ticks": ""
             }
            },
            "type": "scatterternary"
           }
          ],
          "surface": [
           {
            "colorbar": {
             "outlinewidth": 0,
             "ticks": ""
            },
            "colorscale": [
             [
              0,
              "#0d0887"
             ],
             [
              0.1111111111111111,
              "#46039f"
             ],
             [
              0.2222222222222222,
              "#7201a8"
             ],
             [
              0.3333333333333333,
              "#9c179e"
             ],
             [
              0.4444444444444444,
              "#bd3786"
             ],
             [
              0.5555555555555556,
              "#d8576b"
             ],
             [
              0.6666666666666666,
              "#ed7953"
             ],
             [
              0.7777777777777778,
              "#fb9f3a"
             ],
             [
              0.8888888888888888,
              "#fdca26"
             ],
             [
              1,
              "#f0f921"
             ]
            ],
            "type": "surface"
           }
          ],
          "table": [
           {
            "cells": {
             "fill": {
              "color": "#EBF0F8"
             },
             "line": {
              "color": "white"
             }
            },
            "header": {
             "fill": {
              "color": "#C8D4E3"
             },
             "line": {
              "color": "white"
             }
            },
            "type": "table"
           }
          ]
         },
         "layout": {
          "annotationdefaults": {
           "arrowcolor": "#2a3f5f",
           "arrowhead": 0,
           "arrowwidth": 1
          },
          "autotypenumbers": "strict",
          "coloraxis": {
           "colorbar": {
            "outlinewidth": 0,
            "ticks": ""
           }
          },
          "colorscale": {
           "diverging": [
            [
             0,
             "#8e0152"
            ],
            [
             0.1,
             "#c51b7d"
            ],
            [
             0.2,
             "#de77ae"
            ],
            [
             0.3,
             "#f1b6da"
            ],
            [
             0.4,
             "#fde0ef"
            ],
            [
             0.5,
             "#f7f7f7"
            ],
            [
             0.6,
             "#e6f5d0"
            ],
            [
             0.7,
             "#b8e186"
            ],
            [
             0.8,
             "#7fbc41"
            ],
            [
             0.9,
             "#4d9221"
            ],
            [
             1,
             "#276419"
            ]
           ],
           "sequential": [
            [
             0,
             "#0d0887"
            ],
            [
             0.1111111111111111,
             "#46039f"
            ],
            [
             0.2222222222222222,
             "#7201a8"
            ],
            [
             0.3333333333333333,
             "#9c179e"
            ],
            [
             0.4444444444444444,
             "#bd3786"
            ],
            [
             0.5555555555555556,
             "#d8576b"
            ],
            [
             0.6666666666666666,
             "#ed7953"
            ],
            [
             0.7777777777777778,
             "#fb9f3a"
            ],
            [
             0.8888888888888888,
             "#fdca26"
            ],
            [
             1,
             "#f0f921"
            ]
           ],
           "sequentialminus": [
            [
             0,
             "#0d0887"
            ],
            [
             0.1111111111111111,
             "#46039f"
            ],
            [
             0.2222222222222222,
             "#7201a8"
            ],
            [
             0.3333333333333333,
             "#9c179e"
            ],
            [
             0.4444444444444444,
             "#bd3786"
            ],
            [
             0.5555555555555556,
             "#d8576b"
            ],
            [
             0.6666666666666666,
             "#ed7953"
            ],
            [
             0.7777777777777778,
             "#fb9f3a"
            ],
            [
             0.8888888888888888,
             "#fdca26"
            ],
            [
             1,
             "#f0f921"
            ]
           ]
          },
          "colorway": [
           "#636efa",
           "#EF553B",
           "#00cc96",
           "#ab63fa",
           "#FFA15A",
           "#19d3f3",
           "#FF6692",
           "#B6E880",
           "#FF97FF",
           "#FECB52"
          ],
          "font": {
           "color": "#2a3f5f"
          },
          "geo": {
           "bgcolor": "white",
           "lakecolor": "white",
           "landcolor": "#E5ECF6",
           "showlakes": true,
           "showland": true,
           "subunitcolor": "white"
          },
          "hoverlabel": {
           "align": "left"
          },
          "hovermode": "closest",
          "mapbox": {
           "style": "light"
          },
          "paper_bgcolor": "white",
          "plot_bgcolor": "#E5ECF6",
          "polar": {
           "angularaxis": {
            "gridcolor": "white",
            "linecolor": "white",
            "ticks": ""
           },
           "bgcolor": "#E5ECF6",
           "radialaxis": {
            "gridcolor": "white",
            "linecolor": "white",
            "ticks": ""
           }
          },
          "scene": {
           "xaxis": {
            "backgroundcolor": "#E5ECF6",
            "gridcolor": "white",
            "gridwidth": 2,
            "linecolor": "white",
            "showbackground": true,
            "ticks": "",
            "zerolinecolor": "white"
           },
           "yaxis": {
            "backgroundcolor": "#E5ECF6",
            "gridcolor": "white",
            "gridwidth": 2,
            "linecolor": "white",
            "showbackground": true,
            "ticks": "",
            "zerolinecolor": "white"
           },
           "zaxis": {
            "backgroundcolor": "#E5ECF6",
            "gridcolor": "white",
            "gridwidth": 2,
            "linecolor": "white",
            "showbackground": true,
            "ticks": "",
            "zerolinecolor": "white"
           }
          },
          "shapedefaults": {
           "line": {
            "color": "#2a3f5f"
           }
          },
          "ternary": {
           "aaxis": {
            "gridcolor": "white",
            "linecolor": "white",
            "ticks": ""
           },
           "baxis": {
            "gridcolor": "white",
            "linecolor": "white",
            "ticks": ""
           },
           "bgcolor": "#E5ECF6",
           "caxis": {
            "gridcolor": "white",
            "linecolor": "white",
            "ticks": ""
           }
          },
          "title": {
           "x": 0.05
          },
          "xaxis": {
           "automargin": true,
           "gridcolor": "white",
           "linecolor": "white",
           "ticks": "",
           "title": {
            "standoff": 15
           },
           "zerolinecolor": "white",
           "zerolinewidth": 2
          },
          "yaxis": {
           "automargin": true,
           "gridcolor": "white",
           "linecolor": "white",
           "ticks": "",
           "title": {
            "standoff": 15
           },
           "zerolinecolor": "white",
           "zerolinewidth": 2
          }
         }
        },
        "width": 1200,
        "xaxis": {
         "anchor": "y",
         "domain": [
          0,
          0.45
         ],
         "title": {
          "text": "Gr.Liv.Area"
         }
        },
        "xaxis2": {
         "anchor": "y2",
         "domain": [
          0.55,
          1
         ],
         "title": {
          "text": "Total.SF"
         }
        },
        "yaxis": {
         "anchor": "x",
         "domain": [
          0,
          1
         ],
         "title": {
          "text": "SalePrice"
         }
        },
        "yaxis2": {
         "anchor": "x2",
         "domain": [
          0,
          1
         ],
         "title": {
          "text": "SalePrice"
         }
        }
       }
      }
     },
     "metadata": {},
     "output_type": "display_data"
    }
   ],
   "source": [
    "from plotly.subplots import make_subplots\n",
    "\n",
    "fig1_px = px.scatter(df, x='Gr.Liv.Area', y='SalePrice')\n",
    "fig1_px.update_traces(marker=dict(size=5, opacity=0.5))\n",
    "\n",
    "\n",
    "fig2_px = px.scatter(df, x='Total.SF', y='SalePrice')\n",
    "fig2_px.update_traces(marker=dict(size=5, opacity=0.5))\n",
    "\n",
    "fig_subplots = make_subplots(\n",
    "    rows=1, cols=2,\n",
    "    subplot_titles=('SalePrice vs Gr.Liv.Area', 'SalePrice vs Total.SF')\n",
    ")\n",
    "\n",
    "\n",
    "fig_subplots = make_subplots(\n",
    "    rows=1, cols=2,\n",
    "    subplot_titles=('SalePrice vs Gr.Liv.Area', 'SalePrice vs Total.SF')\n",
    ")\n",
    "\n",
    "\n",
    "for trace in fig1_px.data:\n",
    "    fig_subplots.add_trace(trace, row=1, col=1)\n",
    "\n",
    "\n",
    "for trace in fig2_px.data:\n",
    "    fig_subplots.add_trace(trace, row=1, col=2)\n",
    "\n",
    "fig_subplots.update_xaxes(title_text='Gr.Liv.Area', row=1, col=1)\n",
    "fig_subplots.update_yaxes(title_text='SalePrice', row=1, col=1)\n",
    "\n",
    "\n",
    "fig_subplots.update_xaxes(title_text='Total.SF', row=1, col=2)\n",
    "fig_subplots.update_yaxes(title_text='SalePrice', row=1, col=2) \n",
    "\n",
    "\n",
    "fig_subplots.update_layout(\n",
    "    height=600, \n",
    "    width=1200, \n",
    "    showlegend=False \n",
    ")\n",
    "\n",
    "\n",
    "fig_subplots.show()"
   ]
  },
  {
   "cell_type": "markdown",
   "metadata": {},
   "source": [
    "### DataFrame DEPOIS da remoção de outliers:"
   ]
  },
  {
   "cell_type": "code",
   "execution_count": 36,
   "metadata": {},
   "outputs": [
    {
     "data": {
      "application/vnd.microsoft.datawrangler.viewer.v0+json": {
       "columns": [
        {
         "name": "index",
         "rawType": "object",
         "type": "string"
        },
        {
         "name": "Gr.Liv.Area",
         "rawType": "float64",
         "type": "float"
        },
        {
         "name": "Garage.Cars",
         "rawType": "float64",
         "type": "float"
        },
        {
         "name": "Mas.Vnr.Area",
         "rawType": "float64",
         "type": "float"
        },
        {
         "name": "Fireplaces",
         "rawType": "float64",
         "type": "float"
        },
        {
         "name": "BsmtFin.SF.1",
         "rawType": "float64",
         "type": "float"
        },
        {
         "name": "Lot.Frontage",
         "rawType": "float64",
         "type": "float"
        },
        {
         "name": "Lot.Area",
         "rawType": "float64",
         "type": "float"
        },
        {
         "name": "TotRms.AbvGrd",
         "rawType": "float64",
         "type": "float"
        },
        {
         "name": "Overall.Qual",
         "rawType": "float64",
         "type": "float"
        },
        {
         "name": "SalePrice",
         "rawType": "float64",
         "type": "float"
        },
        {
         "name": "Years.Snc.Remod",
         "rawType": "float64",
         "type": "float"
        },
        {
         "name": "Total.SF",
         "rawType": "float64",
         "type": "float"
        },
        {
         "name": "Total.Bath",
         "rawType": "float64",
         "type": "float"
        }
       ],
       "conversionMethod": "pd.DataFrame",
       "ref": "fb2644ff-f2b7-4f9f-8505-462e58eeb61f",
       "rows": [
        [
         "count",
         "2927.0",
         "2926.0",
         "2904.0",
         "2927.0",
         "2926.0",
         "2437.0",
         "2927.0",
         "2927.0",
         "2927.0",
         "2927.0",
         "2927.0",
         "2927.0",
         "2927.0"
        ],
        [
         "mean",
         "1495.9617355654254",
         "1.765892002734108",
         "101.04407713498622",
         "0.5978817902289033",
         "439.0116199589884",
         "69.07550266721378",
         "10109.37478647079",
         "6.436624530235736",
         "6.0908780321147935",
         "180800.7707550393",
         "40.75811411001025",
         "2538.71301674069",
         "2.2157499145883155"
        ],
        [
         "std",
         "491.99324099491787",
         "0.7602599694532889",
         "177.09874749749972",
         "0.6461693388395935",
         "439.3557753129323",
         "22.78726587024491",
         "7782.875751001209",
         "1.5601402317878474",
         "1.4061949700276952",
         "79926.65727462101",
         "20.856725261890844",
         "767.5753440064437",
         "0.8049751164597816"
        ],
        [
         "min",
         "334.0",
         "0.0",
         "0.0",
         "0.0",
         "0.0",
         "21.0",
         "1300.0",
         "2.0",
         "1.0",
         "12789.0",
         "15.0",
         "334.0",
         "1.0"
        ],
        [
         "25%",
         "1126.0",
         "1.0",
         "0.0",
         "0.0",
         "0.0",
         "58.0",
         "7439.0",
         "5.0",
         "5.0",
         "129500.0",
         "21.0",
         "2000.0",
         "1.5"
        ],
        [
         "50%",
         "1442.0",
         "2.0",
         "0.0",
         "1.0",
         "370.0",
         "68.0",
         "9430.0",
         "6.0",
         "6.0",
         "160000.0",
         "32.0",
         "2448.0",
         "2.0"
        ],
        [
         "75%",
         "1741.0",
         "2.0",
         "164.0",
         "1.0",
         "734.0",
         "80.0",
         "11523.0",
         "7.0",
         "7.0",
         "213500.0",
         "60.0",
         "2988.5",
         "2.5"
        ],
        [
         "max",
         "4476.0",
         "5.0",
         "1600.0",
         "4.0",
         "2288.0",
         "313.0",
         "215245.0",
         "14.0",
         "10.0",
         "755000.0",
         "75.0",
         "6872.0",
         "7.0"
        ]
       ],
       "shape": {
        "columns": 13,
        "rows": 8
       }
      },
      "text/html": [
       "<div>\n",
       "<style scoped>\n",
       "    .dataframe tbody tr th:only-of-type {\n",
       "        vertical-align: middle;\n",
       "    }\n",
       "\n",
       "    .dataframe tbody tr th {\n",
       "        vertical-align: top;\n",
       "    }\n",
       "\n",
       "    .dataframe thead th {\n",
       "        text-align: right;\n",
       "    }\n",
       "</style>\n",
       "<table border=\"1\" class=\"dataframe\">\n",
       "  <thead>\n",
       "    <tr style=\"text-align: right;\">\n",
       "      <th></th>\n",
       "      <th>Gr.Liv.Area</th>\n",
       "      <th>Garage.Cars</th>\n",
       "      <th>Mas.Vnr.Area</th>\n",
       "      <th>Fireplaces</th>\n",
       "      <th>BsmtFin.SF.1</th>\n",
       "      <th>Lot.Frontage</th>\n",
       "      <th>Lot.Area</th>\n",
       "      <th>TotRms.AbvGrd</th>\n",
       "      <th>Overall.Qual</th>\n",
       "      <th>SalePrice</th>\n",
       "      <th>Years.Snc.Remod</th>\n",
       "      <th>Total.SF</th>\n",
       "      <th>Total.Bath</th>\n",
       "    </tr>\n",
       "  </thead>\n",
       "  <tbody>\n",
       "    <tr>\n",
       "      <th>count</th>\n",
       "      <td>2927.000000</td>\n",
       "      <td>2926.000000</td>\n",
       "      <td>2904.000000</td>\n",
       "      <td>2927.000000</td>\n",
       "      <td>2926.000000</td>\n",
       "      <td>2437.000000</td>\n",
       "      <td>2927.000000</td>\n",
       "      <td>2927.000000</td>\n",
       "      <td>2927.000000</td>\n",
       "      <td>2927.000000</td>\n",
       "      <td>2927.000000</td>\n",
       "      <td>2927.000000</td>\n",
       "      <td>2927.000000</td>\n",
       "    </tr>\n",
       "    <tr>\n",
       "      <th>mean</th>\n",
       "      <td>1495.961736</td>\n",
       "      <td>1.765892</td>\n",
       "      <td>101.044077</td>\n",
       "      <td>0.597882</td>\n",
       "      <td>439.011620</td>\n",
       "      <td>69.075503</td>\n",
       "      <td>10109.374786</td>\n",
       "      <td>6.436625</td>\n",
       "      <td>6.090878</td>\n",
       "      <td>180800.770755</td>\n",
       "      <td>40.758114</td>\n",
       "      <td>2538.713017</td>\n",
       "      <td>2.215750</td>\n",
       "    </tr>\n",
       "    <tr>\n",
       "      <th>std</th>\n",
       "      <td>491.993241</td>\n",
       "      <td>0.760260</td>\n",
       "      <td>177.098747</td>\n",
       "      <td>0.646169</td>\n",
       "      <td>439.355775</td>\n",
       "      <td>22.787266</td>\n",
       "      <td>7782.875751</td>\n",
       "      <td>1.560140</td>\n",
       "      <td>1.406195</td>\n",
       "      <td>79926.657275</td>\n",
       "      <td>20.856725</td>\n",
       "      <td>767.575344</td>\n",
       "      <td>0.804975</td>\n",
       "    </tr>\n",
       "    <tr>\n",
       "      <th>min</th>\n",
       "      <td>334.000000</td>\n",
       "      <td>0.000000</td>\n",
       "      <td>0.000000</td>\n",
       "      <td>0.000000</td>\n",
       "      <td>0.000000</td>\n",
       "      <td>21.000000</td>\n",
       "      <td>1300.000000</td>\n",
       "      <td>2.000000</td>\n",
       "      <td>1.000000</td>\n",
       "      <td>12789.000000</td>\n",
       "      <td>15.000000</td>\n",
       "      <td>334.000000</td>\n",
       "      <td>1.000000</td>\n",
       "    </tr>\n",
       "    <tr>\n",
       "      <th>25%</th>\n",
       "      <td>1126.000000</td>\n",
       "      <td>1.000000</td>\n",
       "      <td>0.000000</td>\n",
       "      <td>0.000000</td>\n",
       "      <td>0.000000</td>\n",
       "      <td>58.000000</td>\n",
       "      <td>7439.000000</td>\n",
       "      <td>5.000000</td>\n",
       "      <td>5.000000</td>\n",
       "      <td>129500.000000</td>\n",
       "      <td>21.000000</td>\n",
       "      <td>2000.000000</td>\n",
       "      <td>1.500000</td>\n",
       "    </tr>\n",
       "    <tr>\n",
       "      <th>50%</th>\n",
       "      <td>1442.000000</td>\n",
       "      <td>2.000000</td>\n",
       "      <td>0.000000</td>\n",
       "      <td>1.000000</td>\n",
       "      <td>370.000000</td>\n",
       "      <td>68.000000</td>\n",
       "      <td>9430.000000</td>\n",
       "      <td>6.000000</td>\n",
       "      <td>6.000000</td>\n",
       "      <td>160000.000000</td>\n",
       "      <td>32.000000</td>\n",
       "      <td>2448.000000</td>\n",
       "      <td>2.000000</td>\n",
       "    </tr>\n",
       "    <tr>\n",
       "      <th>75%</th>\n",
       "      <td>1741.000000</td>\n",
       "      <td>2.000000</td>\n",
       "      <td>164.000000</td>\n",
       "      <td>1.000000</td>\n",
       "      <td>734.000000</td>\n",
       "      <td>80.000000</td>\n",
       "      <td>11523.000000</td>\n",
       "      <td>7.000000</td>\n",
       "      <td>7.000000</td>\n",
       "      <td>213500.000000</td>\n",
       "      <td>60.000000</td>\n",
       "      <td>2988.500000</td>\n",
       "      <td>2.500000</td>\n",
       "    </tr>\n",
       "    <tr>\n",
       "      <th>max</th>\n",
       "      <td>4476.000000</td>\n",
       "      <td>5.000000</td>\n",
       "      <td>1600.000000</td>\n",
       "      <td>4.000000</td>\n",
       "      <td>2288.000000</td>\n",
       "      <td>313.000000</td>\n",
       "      <td>215245.000000</td>\n",
       "      <td>14.000000</td>\n",
       "      <td>10.000000</td>\n",
       "      <td>755000.000000</td>\n",
       "      <td>75.000000</td>\n",
       "      <td>6872.000000</td>\n",
       "      <td>7.000000</td>\n",
       "    </tr>\n",
       "  </tbody>\n",
       "</table>\n",
       "</div>"
      ],
      "text/plain": [
       "       Gr.Liv.Area  Garage.Cars  Mas.Vnr.Area   Fireplaces  BsmtFin.SF.1  \\\n",
       "count  2927.000000  2926.000000   2904.000000  2927.000000   2926.000000   \n",
       "mean   1495.961736     1.765892    101.044077     0.597882    439.011620   \n",
       "std     491.993241     0.760260    177.098747     0.646169    439.355775   \n",
       "min     334.000000     0.000000      0.000000     0.000000      0.000000   \n",
       "25%    1126.000000     1.000000      0.000000     0.000000      0.000000   \n",
       "50%    1442.000000     2.000000      0.000000     1.000000    370.000000   \n",
       "75%    1741.000000     2.000000    164.000000     1.000000    734.000000   \n",
       "max    4476.000000     5.000000   1600.000000     4.000000   2288.000000   \n",
       "\n",
       "       Lot.Frontage       Lot.Area  TotRms.AbvGrd  Overall.Qual  \\\n",
       "count   2437.000000    2927.000000    2927.000000   2927.000000   \n",
       "mean      69.075503   10109.374786       6.436625      6.090878   \n",
       "std       22.787266    7782.875751       1.560140      1.406195   \n",
       "min       21.000000    1300.000000       2.000000      1.000000   \n",
       "25%       58.000000    7439.000000       5.000000      5.000000   \n",
       "50%       68.000000    9430.000000       6.000000      6.000000   \n",
       "75%       80.000000   11523.000000       7.000000      7.000000   \n",
       "max      313.000000  215245.000000      14.000000     10.000000   \n",
       "\n",
       "           SalePrice  Years.Snc.Remod     Total.SF   Total.Bath  \n",
       "count    2927.000000      2927.000000  2927.000000  2927.000000  \n",
       "mean   180800.770755        40.758114  2538.713017     2.215750  \n",
       "std     79926.657275        20.856725   767.575344     0.804975  \n",
       "min     12789.000000        15.000000   334.000000     1.000000  \n",
       "25%    129500.000000        21.000000  2000.000000     1.500000  \n",
       "50%    160000.000000        32.000000  2448.000000     2.000000  \n",
       "75%    213500.000000        60.000000  2988.500000     2.500000  \n",
       "max    755000.000000        75.000000  6872.000000     7.000000  "
      ]
     },
     "execution_count": 36,
     "metadata": {},
     "output_type": "execute_result"
    }
   ],
   "source": [
    "df = drop_outliers(df)\n",
    "df.describe()"
   ]
  },
  {
   "cell_type": "code",
   "execution_count": 37,
   "metadata": {},
   "outputs": [
    {
     "data": {
      "application/vnd.plotly.v1+json": {
       "config": {
        "plotlyServerURL": "https://plot.ly"
       },
       "data": [
        {
         "hovertemplate": "Gr.Liv.Area=%{x}<br>SalePrice=%{y}<extra></extra>",
         "legendgroup": "",
         "marker": {
          "color": "#636efa",
          "opacity": 0.5,
          "size": 5,
          "symbol": "circle"
         },
         "mode": "markers",
         "name": "",
         "showlegend": false,
         "type": "scattergl",
         "x": {
          "bdata": "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",
          "dtype": "i2"
         },
         "xaxis": "x",
         "y": {
          "bdata": "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",
          "dtype": "i4"
         },
         "yaxis": "y"
        },
        {
         "hovertemplate": "Total.SF=%{x}<br>SalePrice=%{y}<extra></extra>",
         "legendgroup": "",
         "marker": {
          "color": "#636efa",
          "opacity": 0.5,
          "size": 5,
          "symbol": "circle"
         },
         "mode": "markers",
         "name": "",
         "showlegend": false,
         "type": "scattergl",
         "x": {
          "bdata": "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",
          "dtype": "f8"
         },
         "xaxis": "x2",
         "y": {
          "bdata": "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",
          "dtype": "i4"
         },
         "yaxis": "y2"
        }
       ],
       "layout": {
        "annotations": [
         {
          "font": {
           "size": 16
          },
          "showarrow": false,
          "text": "SalePrice vs Gr.Liv.Area",
          "x": 0.225,
          "xanchor": "center",
          "xref": "paper",
          "y": 1,
          "yanchor": "bottom",
          "yref": "paper"
         },
         {
          "font": {
           "size": 16
          },
          "showarrow": false,
          "text": "SalePrice vs Total.SF",
          "x": 0.775,
          "xanchor": "center",
          "xref": "paper",
          "y": 1,
          "yanchor": "bottom",
          "yref": "paper"
         }
        ],
        "height": 600,
        "showlegend": false,
        "template": {
         "data": {
          "bar": [
           {
            "error_x": {
             "color": "#2a3f5f"
            },
            "error_y": {
             "color": "#2a3f5f"
            },
            "marker": {
             "line": {
              "color": "#E5ECF6",
              "width": 0.5
             },
             "pattern": {
              "fillmode": "overlay",
              "size": 10,
              "solidity": 0.2
             }
            },
            "type": "bar"
           }
          ],
          "barpolar": [
           {
            "marker": {
             "line": {
              "color": "#E5ECF6",
              "width": 0.5
             },
             "pattern": {
              "fillmode": "overlay",
              "size": 10,
              "solidity": 0.2
             }
            },
            "type": "barpolar"
           }
          ],
          "carpet": [
           {
            "aaxis": {
             "endlinecolor": "#2a3f5f",
             "gridcolor": "white",
             "linecolor": "white",
             "minorgridcolor": "white",
             "startlinecolor": "#2a3f5f"
            },
            "baxis": {
             "endlinecolor": "#2a3f5f",
             "gridcolor": "white",
             "linecolor": "white",
             "minorgridcolor": "white",
             "startlinecolor": "#2a3f5f"
            },
            "type": "carpet"
           }
          ],
          "choropleth": [
           {
            "colorbar": {
             "outlinewidth": 0,
             "ticks": ""
            },
            "type": "choropleth"
           }
          ],
          "contour": [
           {
            "colorbar": {
             "outlinewidth": 0,
             "ticks": ""
            },
            "colorscale": [
             [
              0,
              "#0d0887"
             ],
             [
              0.1111111111111111,
              "#46039f"
             ],
             [
              0.2222222222222222,
              "#7201a8"
             ],
             [
              0.3333333333333333,
              "#9c179e"
             ],
             [
              0.4444444444444444,
              "#bd3786"
             ],
             [
              0.5555555555555556,
              "#d8576b"
             ],
             [
              0.6666666666666666,
              "#ed7953"
             ],
             [
              0.7777777777777778,
              "#fb9f3a"
             ],
             [
              0.8888888888888888,
              "#fdca26"
             ],
             [
              1,
              "#f0f921"
             ]
            ],
            "type": "contour"
           }
          ],
          "contourcarpet": [
           {
            "colorbar": {
             "outlinewidth": 0,
             "ticks": ""
            },
            "type": "contourcarpet"
           }
          ],
          "heatmap": [
           {
            "colorbar": {
             "outlinewidth": 0,
             "ticks": ""
            },
            "colorscale": [
             [
              0,
              "#0d0887"
             ],
             [
              0.1111111111111111,
              "#46039f"
             ],
             [
              0.2222222222222222,
              "#7201a8"
             ],
             [
              0.3333333333333333,
              "#9c179e"
             ],
             [
              0.4444444444444444,
              "#bd3786"
             ],
             [
              0.5555555555555556,
              "#d8576b"
             ],
             [
              0.6666666666666666,
              "#ed7953"
             ],
             [
              0.7777777777777778,
              "#fb9f3a"
             ],
             [
              0.8888888888888888,
              "#fdca26"
             ],
             [
              1,
              "#f0f921"
             ]
            ],
            "type": "heatmap"
           }
          ],
          "histogram": [
           {
            "marker": {
             "pattern": {
              "fillmode": "overlay",
              "size": 10,
              "solidity": 0.2
             }
            },
            "type": "histogram"
           }
          ],
          "histogram2d": [
           {
            "colorbar": {
             "outlinewidth": 0,
             "ticks": ""
            },
            "colorscale": [
             [
              0,
              "#0d0887"
             ],
             [
              0.1111111111111111,
              "#46039f"
             ],
             [
              0.2222222222222222,
              "#7201a8"
             ],
             [
              0.3333333333333333,
              "#9c179e"
             ],
             [
              0.4444444444444444,
              "#bd3786"
             ],
             [
              0.5555555555555556,
              "#d8576b"
             ],
             [
              0.6666666666666666,
              "#ed7953"
             ],
             [
              0.7777777777777778,
              "#fb9f3a"
             ],
             [
              0.8888888888888888,
              "#fdca26"
             ],
             [
              1,
              "#f0f921"
             ]
            ],
            "type": "histogram2d"
           }
          ],
          "histogram2dcontour": [
           {
            "colorbar": {
             "outlinewidth": 0,
             "ticks": ""
            },
            "colorscale": [
             [
              0,
              "#0d0887"
             ],
             [
              0.1111111111111111,
              "#46039f"
             ],
             [
              0.2222222222222222,
              "#7201a8"
             ],
             [
              0.3333333333333333,
              "#9c179e"
             ],
             [
              0.4444444444444444,
              "#bd3786"
             ],
             [
              0.5555555555555556,
              "#d8576b"
             ],
             [
              0.6666666666666666,
              "#ed7953"
             ],
             [
              0.7777777777777778,
              "#fb9f3a"
             ],
             [
              0.8888888888888888,
              "#fdca26"
             ],
             [
              1,
              "#f0f921"
             ]
            ],
            "type": "histogram2dcontour"
           }
          ],
          "mesh3d": [
           {
            "colorbar": {
             "outlinewidth": 0,
             "ticks": ""
            },
            "type": "mesh3d"
           }
          ],
          "parcoords": [
           {
            "line": {
             "colorbar": {
              "outlinewidth": 0,
              "ticks": ""
             }
            },
            "type": "parcoords"
           }
          ],
          "pie": [
           {
            "automargin": true,
            "type": "pie"
           }
          ],
          "scatter": [
           {
            "fillpattern": {
             "fillmode": "overlay",
             "size": 10,
             "solidity": 0.2
            },
            "type": "scatter"
           }
          ],
          "scatter3d": [
           {
            "line": {
             "colorbar": {
              "outlinewidth": 0,
              "ticks": ""
             }
            },
            "marker": {
             "colorbar": {
              "outlinewidth": 0,
              "ticks": ""
             }
            },
            "type": "scatter3d"
           }
          ],
          "scattercarpet": [
           {
            "marker": {
             "colorbar": {
              "outlinewidth": 0,
              "ticks": ""
             }
            },
            "type": "scattercarpet"
           }
          ],
          "scattergeo": [
           {
            "marker": {
             "colorbar": {
              "outlinewidth": 0,
              "ticks": ""
             }
            },
            "type": "scattergeo"
           }
          ],
          "scattergl": [
           {
            "marker": {
             "colorbar": {
              "outlinewidth": 0,
              "ticks": ""
             }
            },
            "type": "scattergl"
           }
          ],
          "scattermap": [
           {
            "marker": {
             "colorbar": {
              "outlinewidth": 0,
              "ticks": ""
             }
            },
            "type": "scattermap"
           }
          ],
          "scattermapbox": [
           {
            "marker": {
             "colorbar": {
              "outlinewidth": 0,
              "ticks": ""
             }
            },
            "type": "scattermapbox"
           }
          ],
          "scatterpolar": [
           {
            "marker": {
             "colorbar": {
              "outlinewidth": 0,
              "ticks": ""
             }
            },
            "type": "scatterpolar"
           }
          ],
          "scatterpolargl": [
           {
            "marker": {
             "colorbar": {
              "outlinewidth": 0,
              "ticks": ""
             }
            },
            "type": "scatterpolargl"
           }
          ],
          "scatterternary": [
           {
            "marker": {
             "colorbar": {
              "outlinewidth": 0,
              "ticks": ""
             }
            },
            "type": "scatterternary"
           }
          ],
          "surface": [
           {
            "colorbar": {
             "outlinewidth": 0,
             "ticks": ""
            },
            "colorscale": [
             [
              0,
              "#0d0887"
             ],
             [
              0.1111111111111111,
              "#46039f"
             ],
             [
              0.2222222222222222,
              "#7201a8"
             ],
             [
              0.3333333333333333,
              "#9c179e"
             ],
             [
              0.4444444444444444,
              "#bd3786"
             ],
             [
              0.5555555555555556,
              "#d8576b"
             ],
             [
              0.6666666666666666,
              "#ed7953"
             ],
             [
              0.7777777777777778,
              "#fb9f3a"
             ],
             [
              0.8888888888888888,
              "#fdca26"
             ],
             [
              1,
              "#f0f921"
             ]
            ],
            "type": "surface"
           }
          ],
          "table": [
           {
            "cells": {
             "fill": {
              "color": "#EBF0F8"
             },
             "line": {
              "color": "white"
             }
            },
            "header": {
             "fill": {
              "color": "#C8D4E3"
             },
             "line": {
              "color": "white"
             }
            },
            "type": "table"
           }
          ]
         },
         "layout": {
          "annotationdefaults": {
           "arrowcolor": "#2a3f5f",
           "arrowhead": 0,
           "arrowwidth": 1
          },
          "autotypenumbers": "strict",
          "coloraxis": {
           "colorbar": {
            "outlinewidth": 0,
            "ticks": ""
           }
          },
          "colorscale": {
           "diverging": [
            [
             0,
             "#8e0152"
            ],
            [
             0.1,
             "#c51b7d"
            ],
            [
             0.2,
             "#de77ae"
            ],
            [
             0.3,
             "#f1b6da"
            ],
            [
             0.4,
             "#fde0ef"
            ],
            [
             0.5,
             "#f7f7f7"
            ],
            [
             0.6,
             "#e6f5d0"
            ],
            [
             0.7,
             "#b8e186"
            ],
            [
             0.8,
             "#7fbc41"
            ],
            [
             0.9,
             "#4d9221"
            ],
            [
             1,
             "#276419"
            ]
           ],
           "sequential": [
            [
             0,
             "#0d0887"
            ],
            [
             0.1111111111111111,
             "#46039f"
            ],
            [
             0.2222222222222222,
             "#7201a8"
            ],
            [
             0.3333333333333333,
             "#9c179e"
            ],
            [
             0.4444444444444444,
             "#bd3786"
            ],
            [
             0.5555555555555556,
             "#d8576b"
            ],
            [
             0.6666666666666666,
             "#ed7953"
            ],
            [
             0.7777777777777778,
             "#fb9f3a"
            ],
            [
             0.8888888888888888,
             "#fdca26"
            ],
            [
             1,
             "#f0f921"
            ]
           ],
           "sequentialminus": [
            [
             0,
             "#0d0887"
            ],
            [
             0.1111111111111111,
             "#46039f"
            ],
            [
             0.2222222222222222,
             "#7201a8"
            ],
            [
             0.3333333333333333,
             "#9c179e"
            ],
            [
             0.4444444444444444,
             "#bd3786"
            ],
            [
             0.5555555555555556,
             "#d8576b"
            ],
            [
             0.6666666666666666,
             "#ed7953"
            ],
            [
             0.7777777777777778,
             "#fb9f3a"
            ],
            [
             0.8888888888888888,
             "#fdca26"
            ],
            [
             1,
             "#f0f921"
            ]
           ]
          },
          "colorway": [
           "#636efa",
           "#EF553B",
           "#00cc96",
           "#ab63fa",
           "#FFA15A",
           "#19d3f3",
           "#FF6692",
           "#B6E880",
           "#FF97FF",
           "#FECB52"
          ],
          "font": {
           "color": "#2a3f5f"
          },
          "geo": {
           "bgcolor": "white",
           "lakecolor": "white",
           "landcolor": "#E5ECF6",
           "showlakes": true,
           "showland": true,
           "subunitcolor": "white"
          },
          "hoverlabel": {
           "align": "left"
          },
          "hovermode": "closest",
          "mapbox": {
           "style": "light"
          },
          "paper_bgcolor": "white",
          "plot_bgcolor": "#E5ECF6",
          "polar": {
           "angularaxis": {
            "gridcolor": "white",
            "linecolor": "white",
            "ticks": ""
           },
           "bgcolor": "#E5ECF6",
           "radialaxis": {
            "gridcolor": "white",
            "linecolor": "white",
            "ticks": ""
           }
          },
          "scene": {
           "xaxis": {
            "backgroundcolor": "#E5ECF6",
            "gridcolor": "white",
            "gridwidth": 2,
            "linecolor": "white",
            "showbackground": true,
            "ticks": "",
            "zerolinecolor": "white"
           },
           "yaxis": {
            "backgroundcolor": "#E5ECF6",
            "gridcolor": "white",
            "gridwidth": 2,
            "linecolor": "white",
            "showbackground": true,
            "ticks": "",
            "zerolinecolor": "white"
           },
           "zaxis": {
            "backgroundcolor": "#E5ECF6",
            "gridcolor": "white",
            "gridwidth": 2,
            "linecolor": "white",
            "showbackground": true,
            "ticks": "",
            "zerolinecolor": "white"
           }
          },
          "shapedefaults": {
           "line": {
            "color": "#2a3f5f"
           }
          },
          "ternary": {
           "aaxis": {
            "gridcolor": "white",
            "linecolor": "white",
            "ticks": ""
           },
           "baxis": {
            "gridcolor": "white",
            "linecolor": "white",
            "ticks": ""
           },
           "bgcolor": "#E5ECF6",
           "caxis": {
            "gridcolor": "white",
            "linecolor": "white",
            "ticks": ""
           }
          },
          "title": {
           "x": 0.05
          },
          "xaxis": {
           "automargin": true,
           "gridcolor": "white",
           "linecolor": "white",
           "ticks": "",
           "title": {
            "standoff": 15
           },
           "zerolinecolor": "white",
           "zerolinewidth": 2
          },
          "yaxis": {
           "automargin": true,
           "gridcolor": "white",
           "linecolor": "white",
           "ticks": "",
           "title": {
            "standoff": 15
           },
           "zerolinecolor": "white",
           "zerolinewidth": 2
          }
         }
        },
        "width": 1200,
        "xaxis": {
         "anchor": "y",
         "domain": [
          0,
          0.45
         ],
         "title": {
          "text": "Gr.Liv.Area"
         }
        },
        "xaxis2": {
         "anchor": "y2",
         "domain": [
          0.55,
          1
         ],
         "title": {
          "text": "Total.SF"
         }
        },
        "yaxis": {
         "anchor": "x",
         "domain": [
          0,
          1
         ],
         "title": {
          "text": "SalePrice"
         }
        },
        "yaxis2": {
         "anchor": "x2",
         "domain": [
          0,
          1
         ],
         "title": {
          "text": "SalePrice"
         }
        }
       }
      }
     },
     "metadata": {},
     "output_type": "display_data"
    }
   ],
   "source": [
    "\n",
    "fig1_px = px.scatter(df, x='Gr.Liv.Area', y='SalePrice')\n",
    "fig1_px.update_traces(marker=dict(size=5, opacity=0.5))\n",
    "\n",
    "\n",
    "fig2_px = px.scatter(df, x='Total.SF', y='SalePrice')\n",
    "fig2_px.update_traces(marker=dict(size=5, opacity=0.5))\n",
    "\n",
    "fig_subplots = make_subplots(\n",
    "    rows=1, cols=2,\n",
    "    subplot_titles=('SalePrice vs Gr.Liv.Area', 'SalePrice vs Total.SF')\n",
    ")\n",
    "\n",
    "\n",
    "fig_subplots = make_subplots(\n",
    "    rows=1, cols=2,\n",
    "    subplot_titles=('SalePrice vs Gr.Liv.Area', 'SalePrice vs Total.SF')\n",
    ")\n",
    "\n",
    "\n",
    "for trace in fig1_px.data:\n",
    "    fig_subplots.add_trace(trace, row=1, col=1)\n",
    "\n",
    "\n",
    "for trace in fig2_px.data:\n",
    "    fig_subplots.add_trace(trace, row=1, col=2)\n",
    "\n",
    "fig_subplots.update_xaxes(title_text='Gr.Liv.Area', row=1, col=1)\n",
    "fig_subplots.update_yaxes(title_text='SalePrice', row=1, col=1)\n",
    "\n",
    "\n",
    "fig_subplots.update_xaxes(title_text='Total.SF', row=1, col=2)\n",
    "fig_subplots.update_yaxes(title_text='SalePrice', row=1, col=2) \n",
    "\n",
    "\n",
    "fig_subplots.update_layout(\n",
    "    height=600, \n",
    "    width=1200, \n",
    "    showlegend=False \n",
    ")\n",
    "\n",
    "\n",
    "fig_subplots.show()"
   ]
  },
  {
   "cell_type": "markdown",
   "metadata": {},
   "source": [
    "# Lidando com dados faltantes\n",
    "\n",
    "### Existem algumas abordagens para lidar com dados faltantes, o ideal seria ter o entendimento completo do dataset para saber se são dados que foram adicionados de forma incorreta. \n",
    "\n",
    "### por exemplo:  se em casas que não tem porão tiverem NaN ao invés de 0 nas fetures relacionadas ao porão \n",
    "\n",
    "### Ou se realmente estão faltantes e não se sabe a informação.\n",
    "\n",
    "\n",
    "## Para tentar entender melhor nossas features, vamos analisar a porcentagem de dados faltantes em cada uma para ver se estamos trabalhando com dados minimamente satisfatórios.\n",
    "\n",
    "\n"
   ]
  },
  {
   "cell_type": "code",
   "execution_count": 38,
   "metadata": {},
   "outputs": [
    {
     "data": {
      "application/vnd.microsoft.datawrangler.viewer.v0+json": {
       "columns": [
        {
         "name": "index",
         "rawType": "int64",
         "type": "integer"
        },
        {
         "name": "Feature",
         "rawType": "object",
         "type": "string"
        },
        {
         "name": "missing %",
         "rawType": "float64",
         "type": "float"
        }
       ],
       "conversionMethod": "pd.DataFrame",
       "ref": "4580b94c-5cab-48d0-865d-d202d5508d2b",
       "rows": [
        [
         "0",
         "Lot.Frontage",
         "16.740690126409294"
        ],
        [
         "1",
         "Mas.Vnr.Area",
         "0.7857874957294158"
        ],
        [
         "2",
         "BsmtFin.SF.1",
         "0.0341646737273659"
        ],
        [
         "3",
         "Garage.Cars",
         "0.0341646737273659"
        ],
        [
         "4",
         "Fireplaces",
         "0.0"
        ],
        [
         "5",
         "Gr.Liv.Area",
         "0.0"
        ],
        [
         "6",
         "Lot.Area",
         "0.0"
        ],
        [
         "7",
         "TotRms.AbvGrd",
         "0.0"
        ],
        [
         "8",
         "Neighborhood",
         "0.0"
        ],
        [
         "9",
         "Overall.Qual",
         "0.0"
        ],
        [
         "10",
         "House.Style",
         "0.0"
        ],
        [
         "11",
         "Foundation",
         "0.0"
        ],
        [
         "12",
         "SalePrice",
         "0.0"
        ],
        [
         "13",
         "Years.Snc.Remod",
         "0.0"
        ],
        [
         "14",
         "Total.SF",
         "0.0"
        ],
        [
         "15",
         "Total.Bath",
         "0.0"
        ]
       ],
       "shape": {
        "columns": 2,
        "rows": 16
       }
      },
      "text/html": [
       "<div>\n",
       "<style scoped>\n",
       "    .dataframe tbody tr th:only-of-type {\n",
       "        vertical-align: middle;\n",
       "    }\n",
       "\n",
       "    .dataframe tbody tr th {\n",
       "        vertical-align: top;\n",
       "    }\n",
       "\n",
       "    .dataframe thead th {\n",
       "        text-align: right;\n",
       "    }\n",
       "</style>\n",
       "<table border=\"1\" class=\"dataframe\">\n",
       "  <thead>\n",
       "    <tr style=\"text-align: right;\">\n",
       "      <th></th>\n",
       "      <th>Feature</th>\n",
       "      <th>missing %</th>\n",
       "    </tr>\n",
       "  </thead>\n",
       "  <tbody>\n",
       "    <tr>\n",
       "      <th>0</th>\n",
       "      <td>Lot.Frontage</td>\n",
       "      <td>16.740690</td>\n",
       "    </tr>\n",
       "    <tr>\n",
       "      <th>1</th>\n",
       "      <td>Mas.Vnr.Area</td>\n",
       "      <td>0.785787</td>\n",
       "    </tr>\n",
       "    <tr>\n",
       "      <th>2</th>\n",
       "      <td>BsmtFin.SF.1</td>\n",
       "      <td>0.034165</td>\n",
       "    </tr>\n",
       "    <tr>\n",
       "      <th>3</th>\n",
       "      <td>Garage.Cars</td>\n",
       "      <td>0.034165</td>\n",
       "    </tr>\n",
       "    <tr>\n",
       "      <th>4</th>\n",
       "      <td>Fireplaces</td>\n",
       "      <td>0.000000</td>\n",
       "    </tr>\n",
       "    <tr>\n",
       "      <th>5</th>\n",
       "      <td>Gr.Liv.Area</td>\n",
       "      <td>0.000000</td>\n",
       "    </tr>\n",
       "    <tr>\n",
       "      <th>6</th>\n",
       "      <td>Lot.Area</td>\n",
       "      <td>0.000000</td>\n",
       "    </tr>\n",
       "    <tr>\n",
       "      <th>7</th>\n",
       "      <td>TotRms.AbvGrd</td>\n",
       "      <td>0.000000</td>\n",
       "    </tr>\n",
       "    <tr>\n",
       "      <th>8</th>\n",
       "      <td>Neighborhood</td>\n",
       "      <td>0.000000</td>\n",
       "    </tr>\n",
       "    <tr>\n",
       "      <th>9</th>\n",
       "      <td>Overall.Qual</td>\n",
       "      <td>0.000000</td>\n",
       "    </tr>\n",
       "    <tr>\n",
       "      <th>10</th>\n",
       "      <td>House.Style</td>\n",
       "      <td>0.000000</td>\n",
       "    </tr>\n",
       "    <tr>\n",
       "      <th>11</th>\n",
       "      <td>Foundation</td>\n",
       "      <td>0.000000</td>\n",
       "    </tr>\n",
       "    <tr>\n",
       "      <th>12</th>\n",
       "      <td>SalePrice</td>\n",
       "      <td>0.000000</td>\n",
       "    </tr>\n",
       "    <tr>\n",
       "      <th>13</th>\n",
       "      <td>Years.Snc.Remod</td>\n",
       "      <td>0.000000</td>\n",
       "    </tr>\n",
       "    <tr>\n",
       "      <th>14</th>\n",
       "      <td>Total.SF</td>\n",
       "      <td>0.000000</td>\n",
       "    </tr>\n",
       "    <tr>\n",
       "      <th>15</th>\n",
       "      <td>Total.Bath</td>\n",
       "      <td>0.000000</td>\n",
       "    </tr>\n",
       "  </tbody>\n",
       "</table>\n",
       "</div>"
      ],
      "text/plain": [
       "            Feature  missing %\n",
       "0      Lot.Frontage  16.740690\n",
       "1      Mas.Vnr.Area   0.785787\n",
       "2      BsmtFin.SF.1   0.034165\n",
       "3       Garage.Cars   0.034165\n",
       "4        Fireplaces   0.000000\n",
       "5       Gr.Liv.Area   0.000000\n",
       "6          Lot.Area   0.000000\n",
       "7     TotRms.AbvGrd   0.000000\n",
       "8      Neighborhood   0.000000\n",
       "9      Overall.Qual   0.000000\n",
       "10      House.Style   0.000000\n",
       "11       Foundation   0.000000\n",
       "12        SalePrice   0.000000\n",
       "13  Years.Snc.Remod   0.000000\n",
       "14         Total.SF   0.000000\n",
       "15       Total.Bath   0.000000"
      ]
     },
     "execution_count": 38,
     "metadata": {},
     "output_type": "execute_result"
    }
   ],
   "source": [
    "import pandas as pd\n",
    "\n",
    "def get_missing_percentage(df: pd.DataFrame) -> pd.DataFrame:\n",
    "\n",
    "  missing_percentage = df.isnull().sum() * 100 / len(df)\n",
    "\n",
    "  missing_df = pd.DataFrame({'Feature': df.columns, 'missing %': missing_percentage})\n",
    "\n",
    "  missing_df = missing_df.sort_values('missing %', ascending=False).reset_index(drop=True)\n",
    "\n",
    "  return missing_df\n",
    "\n",
    "missing_percentage_before = get_missing_percentage(df)\n",
    "\n",
    "missing_percentage_before"
   ]
  },
  {
   "cell_type": "markdown",
   "metadata": {},
   "source": [
    "### Como temos poucas features com dados faltantes, conseguimos analisar melhor como lidar com cada uma delas"
   ]
  },
  {
   "cell_type": "code",
   "execution_count": 39,
   "metadata": {},
   "outputs": [
    {
     "data": {
      "application/vnd.microsoft.datawrangler.viewer.v0+json": {
       "columns": [
        {
         "name": "index",
         "rawType": "int64",
         "type": "integer"
        },
        {
         "name": "Feature",
         "rawType": "object",
         "type": "string"
        },
        {
         "name": "missing %",
         "rawType": "float64",
         "type": "float"
        }
       ],
       "conversionMethod": "pd.DataFrame",
       "ref": "85a82ecd-5c55-4f26-a237-3d01ef390859",
       "rows": [
        [
         "0",
         "Gr.Liv.Area",
         "0.0"
        ],
        [
         "1",
         "Garage.Cars",
         "0.0"
        ],
        [
         "2",
         "Mas.Vnr.Area",
         "0.0"
        ],
        [
         "3",
         "Fireplaces",
         "0.0"
        ],
        [
         "4",
         "BsmtFin.SF.1",
         "0.0"
        ],
        [
         "5",
         "Lot.Frontage",
         "0.0"
        ],
        [
         "6",
         "Lot.Area",
         "0.0"
        ],
        [
         "7",
         "TotRms.AbvGrd",
         "0.0"
        ],
        [
         "8",
         "Neighborhood",
         "0.0"
        ],
        [
         "9",
         "Overall.Qual",
         "0.0"
        ],
        [
         "10",
         "House.Style",
         "0.0"
        ],
        [
         "11",
         "Foundation",
         "0.0"
        ],
        [
         "12",
         "SalePrice",
         "0.0"
        ],
        [
         "13",
         "Years.Snc.Remod",
         "0.0"
        ],
        [
         "14",
         "Total.SF",
         "0.0"
        ],
        [
         "15",
         "Total.Bath",
         "0.0"
        ]
       ],
       "shape": {
        "columns": 2,
        "rows": 16
       }
      },
      "text/html": [
       "<div>\n",
       "<style scoped>\n",
       "    .dataframe tbody tr th:only-of-type {\n",
       "        vertical-align: middle;\n",
       "    }\n",
       "\n",
       "    .dataframe tbody tr th {\n",
       "        vertical-align: top;\n",
       "    }\n",
       "\n",
       "    .dataframe thead th {\n",
       "        text-align: right;\n",
       "    }\n",
       "</style>\n",
       "<table border=\"1\" class=\"dataframe\">\n",
       "  <thead>\n",
       "    <tr style=\"text-align: right;\">\n",
       "      <th></th>\n",
       "      <th>Feature</th>\n",
       "      <th>missing %</th>\n",
       "    </tr>\n",
       "  </thead>\n",
       "  <tbody>\n",
       "    <tr>\n",
       "      <th>0</th>\n",
       "      <td>Gr.Liv.Area</td>\n",
       "      <td>0.0</td>\n",
       "    </tr>\n",
       "    <tr>\n",
       "      <th>1</th>\n",
       "      <td>Garage.Cars</td>\n",
       "      <td>0.0</td>\n",
       "    </tr>\n",
       "    <tr>\n",
       "      <th>2</th>\n",
       "      <td>Mas.Vnr.Area</td>\n",
       "      <td>0.0</td>\n",
       "    </tr>\n",
       "    <tr>\n",
       "      <th>3</th>\n",
       "      <td>Fireplaces</td>\n",
       "      <td>0.0</td>\n",
       "    </tr>\n",
       "    <tr>\n",
       "      <th>4</th>\n",
       "      <td>BsmtFin.SF.1</td>\n",
       "      <td>0.0</td>\n",
       "    </tr>\n",
       "    <tr>\n",
       "      <th>5</th>\n",
       "      <td>Lot.Frontage</td>\n",
       "      <td>0.0</td>\n",
       "    </tr>\n",
       "    <tr>\n",
       "      <th>6</th>\n",
       "      <td>Lot.Area</td>\n",
       "      <td>0.0</td>\n",
       "    </tr>\n",
       "    <tr>\n",
       "      <th>7</th>\n",
       "      <td>TotRms.AbvGrd</td>\n",
       "      <td>0.0</td>\n",
       "    </tr>\n",
       "    <tr>\n",
       "      <th>8</th>\n",
       "      <td>Neighborhood</td>\n",
       "      <td>0.0</td>\n",
       "    </tr>\n",
       "    <tr>\n",
       "      <th>9</th>\n",
       "      <td>Overall.Qual</td>\n",
       "      <td>0.0</td>\n",
       "    </tr>\n",
       "    <tr>\n",
       "      <th>10</th>\n",
       "      <td>House.Style</td>\n",
       "      <td>0.0</td>\n",
       "    </tr>\n",
       "    <tr>\n",
       "      <th>11</th>\n",
       "      <td>Foundation</td>\n",
       "      <td>0.0</td>\n",
       "    </tr>\n",
       "    <tr>\n",
       "      <th>12</th>\n",
       "      <td>SalePrice</td>\n",
       "      <td>0.0</td>\n",
       "    </tr>\n",
       "    <tr>\n",
       "      <th>13</th>\n",
       "      <td>Years.Snc.Remod</td>\n",
       "      <td>0.0</td>\n",
       "    </tr>\n",
       "    <tr>\n",
       "      <th>14</th>\n",
       "      <td>Total.SF</td>\n",
       "      <td>0.0</td>\n",
       "    </tr>\n",
       "    <tr>\n",
       "      <th>15</th>\n",
       "      <td>Total.Bath</td>\n",
       "      <td>0.0</td>\n",
       "    </tr>\n",
       "  </tbody>\n",
       "</table>\n",
       "</div>"
      ],
      "text/plain": [
       "            Feature  missing %\n",
       "0       Gr.Liv.Area        0.0\n",
       "1       Garage.Cars        0.0\n",
       "2      Mas.Vnr.Area        0.0\n",
       "3        Fireplaces        0.0\n",
       "4      BsmtFin.SF.1        0.0\n",
       "5      Lot.Frontage        0.0\n",
       "6          Lot.Area        0.0\n",
       "7     TotRms.AbvGrd        0.0\n",
       "8      Neighborhood        0.0\n",
       "9      Overall.Qual        0.0\n",
       "10      House.Style        0.0\n",
       "11       Foundation        0.0\n",
       "12        SalePrice        0.0\n",
       "13  Years.Snc.Remod        0.0\n",
       "14         Total.SF        0.0\n",
       "15       Total.Bath        0.0"
      ]
     },
     "execution_count": 39,
     "metadata": {},
     "output_type": "execute_result"
    }
   ],
   "source": [
    "# Garage.Cars e BsmtFin.SF.1 tinham somente 1 valor faltando, então vamos tirar eles\n",
    "df = df.dropna(subset=['Garage.Cars'])\n",
    "df = df.dropna(subset=['BsmtFin.SF.1'])\n",
    "\n",
    "# Mas.Vnr.Area e Lot.Frontage tinham 1% < e 17% < de valores faltando, então vamos preencher com a média\n",
    "df['Mas.Vnr.Area'] = df['Mas.Vnr.Area'].fillna(df['Mas.Vnr.Area'].mean())\n",
    "df['Lot.Frontage'] = df['Lot.Frontage'].fillna(df['Lot.Frontage'].mean())\n",
    "\n",
    "missing_percentage = get_missing_percentage(df)\n",
    "missing_percentage"
   ]
  },
  {
   "cell_type": "markdown",
   "metadata": {},
   "source": [
    "## Agora estamos prontos para começar a trabalhar nos modelos!\n",
    "\n",
    "### Iremos fazer a predição do logarítmo de base 10 do valor do imóvel\n",
    "\n"
   ]
  },
  {
   "cell_type": "code",
   "execution_count": 40,
   "metadata": {},
   "outputs": [],
   "source": [
    "df[\"SalePrice\"] = np.log10(df[\"SalePrice\"])"
   ]
  },
  {
   "cell_type": "markdown",
   "metadata": {},
   "source": [
    "## Modelos de Regressão com GridSearchCV\n",
    "\n",
    "A seguir, testaremos diferentes modelos de regressão com pipelines completos e ajuste de hiperparâmetros usando `GridSearchCV`.\n",
    "\n",
    "Modelos avaliados:\n",
    "- Árvore de Decisão\n",
    "- Linear SVR\n",
    "- Random Forest\n",
    "- Dummy Regressor (baseline)\n",
    "\n",
    "Usaremos RMSE como métrica principal para comparação.\n"
   ]
  },
  {
   "cell_type": "code",
   "execution_count": 41,
   "metadata": {},
   "outputs": [],
   "source": [
    "from sklearn.model_selection import train_test_split\n",
    "from sklearn.pipeline import Pipeline\n",
    "from sklearn.preprocessing import StandardScaler, OneHotEncoder\n",
    "from sklearn.compose import ColumnTransformer\n",
    "from sklearn.impute import SimpleImputer\n",
    "\n",
    "target_column = \"SalePrice\"\n",
    "SEED = 42\n",
    "\n",
    "X = df.drop(columns=[target_column])\n",
    "y = df[target_column]\n",
    "\n",
    "num_columns = X.select_dtypes(include=[\"int64\", \"float64\"]).columns.tolist()\n",
    "cat_columns = X.select_dtypes(include=[\"object\"]).columns.tolist()\n",
    "\n",
    "X_train, X_test, y_train, y_test = train_test_split(\n",
    "    X, y,\n",
    "    test_size=0.2,\n",
    "    random_state=SEED\n",
    ")\n",
    "\n",
    "num_pipeline = Pipeline(steps=[\n",
    "    ('imputer', SimpleImputer(strategy='mean')),\n",
    "    ('scaler', StandardScaler())\n",
    "])\n",
    "\n",
    "cat_pipeline = Pipeline(steps=[\n",
    "    ('encoder', OneHotEncoder(handle_unknown='ignore'))\n",
    "])\n",
    "\n",
    "column_transformer = ColumnTransformer(\n",
    "    transformers=[\n",
    "        ('num', num_pipeline, num_columns),\n",
    "        ('cat', cat_pipeline, cat_columns)\n",
    "    ],\n",
    "    remainder='passthrough'\n",
    ")\n"
   ]
  },
  {
   "cell_type": "markdown",
   "metadata": {},
   "source": [
    "### Modelo (a) – Árvore de Decisão com GridSearchCV\n",
    "\n",
    "Vamos ajustar os hiperparâmetros da árvore de decisão:\n",
    "\n",
    "- `max_depth`: profundidade máxima da árvore\n",
    "- `min_samples_split`: mínimo de amostras para uma divisão\n",
    "- `min_samples_leaf`: mínimo de amostras em uma folha\n",
    "\n",
    "A métrica usada é o RMSE (negativo) com validação cruzada (`cv=5`).\n"
   ]
  },
  {
   "cell_type": "code",
   "execution_count": 42,
   "metadata": {},
   "outputs": [],
   "source": [
    "from sklearn.metrics import mean_squared_error, make_scorer\n",
    "def rmse(y_true, y_pred):\n",
    "    return np.sqrt(mean_squared_error(y_true, y_pred))\n",
    "\n",
    "\n",
    "neg_rmse = make_scorer(rmse, greater_is_better=False)\n"
   ]
  },
  {
   "cell_type": "code",
   "execution_count": 43,
   "metadata": {},
   "outputs": [
    {
     "name": "stdout",
     "output_type": "stream",
     "text": [
      "Fitting 3 folds for each of 45 candidates, totalling 135 fits\n",
      "Melhores parâmetros (Decision Tree): {'regressor__max_depth': 8, 'regressor__min_samples_leaf': 4, 'regressor__min_samples_split': 2}\n",
      "Melhor RMSE (validação cruzada): 0.0764338513396595\n"
     ]
    }
   ],
   "source": [
    "from sklearn.tree import DecisionTreeRegressor\n",
    "from sklearn.model_selection import GridSearchCV\n",
    "\n",
    "param_grid = {\n",
    "    'regressor__max_depth': [2, 4, 6, 8, 10],\n",
    "    'regressor__min_samples_split': [2, 4, 6],\n",
    "    'regressor__min_samples_leaf': [1, 2, 4],\n",
    "}\n",
    "\n",
    "tree_pipeline = Pipeline([\n",
    "    ('preprocessor', column_transformer),\n",
    "    ('regressor', DecisionTreeRegressor(random_state=SEED)),\n",
    "])\n",
    "\n",
    "grid_tree = GridSearchCV(\n",
    "    tree_pipeline,\n",
    "    param_grid=param_grid,\n",
    "    scoring=neg_rmse,\n",
    "    cv=3, \n",
    "    error_score='raise',\n",
    "    verbose=1,\n",
    "    n_jobs=-1\n",
    ")\n",
    "\n",
    "grid_tree.fit(X_train, y_train)\n",
    "\n",
    "print(\"Melhores parâmetros (Decision Tree):\", grid_tree.best_params_)\n",
    "print(\"Melhor RMSE (validação cruzada):\", -grid_tree.best_score_)\n"
   ]
  },
  {
   "cell_type": "markdown",
   "metadata": {},
   "source": [
    "### Modelo (b) – LinearSVR com GridSearchCV\n",
    "\n",
    "O modelo `LinearSVR` é uma versão linear do Support Vector Regression, adequada para datasets grandes e esparsos.\n",
    "\n",
    "Vamos ajustar os seguintes hiperparâmetros:\n",
    "\n",
    "- `C`: penalidade do erro (regularização)\n",
    "- `epsilon`: margem de tolerância sem penalidade\n",
    "\n",
    "Usamos `GridSearchCV` com `cv=3` e RMSE como métrica de avaliação.\n"
   ]
  },
  {
   "cell_type": "code",
   "execution_count": 44,
   "metadata": {},
   "outputs": [
    {
     "name": "stdout",
     "output_type": "stream",
     "text": [
      "Fitting 3 folds for each of 16 candidates, totalling 48 fits\n",
      "Melhores parâmetros (LinearSVR): {'regressor__C': 1, 'regressor__epsilon': 0.01}\n",
      "Melhor RMSE (validação cruzada): 0.06250145876121964\n"
     ]
    },
    {
     "name": "stderr",
     "output_type": "stream",
     "text": [
      "c:\\Users\\Lucas\\Documents\\apsML\\machine-learning-project\\venv\\Lib\\site-packages\\sklearn\\svm\\_base.py:1249: ConvergenceWarning:\n",
      "\n",
      "Liblinear failed to converge, increase the number of iterations.\n",
      "\n"
     ]
    }
   ],
   "source": [
    "from sklearn.svm import LinearSVR\n",
    "from sklearn.exceptions import ConvergenceWarning\n",
    "import warnings\n",
    "\n",
    "\n",
    "param_grid = {\n",
    "    'regressor__C': [0.1, 1, 10, 100],\n",
    "    'regressor__epsilon': [0.001, 0.01, 0.1, 1],\n",
    "}\n",
    "\n",
    "svr_pipeline = Pipeline([\n",
    "    ('preprocessor', column_transformer),\n",
    "    ('regressor', LinearSVR(random_state=SEED, max_iter=10000)),\n",
    "])\n",
    "\n",
    "grid_svr = GridSearchCV(\n",
    "    svr_pipeline,\n",
    "    param_grid=param_grid,\n",
    "    scoring=neg_rmse,\n",
    "    cv=3,\n",
    "    verbose=1,\n",
    "    error_score='raise',\n",
    "    n_jobs=-1\n",
    ")\n",
    "\n",
    "grid_svr.fit(X_train, y_train)\n",
    "\n",
    "print(\"Melhores parâmetros (LinearSVR):\", grid_svr.best_params_)\n",
    "print(\"Melhor RMSE (validação cruzada):\", -grid_svr.best_score_)\n"
   ]
  },
  {
   "cell_type": "markdown",
   "metadata": {},
   "source": [
    "### Modelo (c) – Random Forest com GridSearchCV\n",
    "\n",
    "O modelo `RandomForestRegressor` é um ensemble de árvores de decisão, conhecido por lidar bem com dados ruidosos e não-lineares.\n",
    "\n",
    "Vamos ajustar os seguintes hiperparâmetros:\n",
    "\n",
    "- `n_estimators`: número de árvores na floresta\n",
    "- `max_depth`: profundidade máxima das árvores\n",
    "- `min_samples_split`: mínimo de amostras para divisão\n",
    "- `min_samples_leaf`: mínimo de amostras em cada folha\n",
    "\n",
    "A métrica usada é o RMSE, com validação cruzada (cv=3).\n"
   ]
  },
  {
   "cell_type": "code",
   "execution_count": 45,
   "metadata": {},
   "outputs": [
    {
     "name": "stdout",
     "output_type": "stream",
     "text": [
      "Fitting 3 folds for each of 24 candidates, totalling 72 fits\n",
      "Melhores parâmetros (Random Forest): {'regressor__max_depth': 8, 'regressor__min_samples_leaf': 2, 'regressor__min_samples_split': 2, 'regressor__n_estimators': 100}\n",
      "Melhor RMSE (validação cruzada): 0.06445211856534817\n"
     ]
    }
   ],
   "source": [
    "from sklearn.ensemble import RandomForestRegressor\n",
    "\n",
    "param_grid = {\n",
    "    'regressor__n_estimators': [50, 100],\n",
    "    'regressor__max_depth': [4, 6, 8],\n",
    "    'regressor__min_samples_split': [2, 4],\n",
    "    'regressor__min_samples_leaf': [1, 2]\n",
    "}\n",
    "\n",
    "rf_pipeline = Pipeline([\n",
    "    ('preprocessor', column_transformer),\n",
    "    ('regressor', RandomForestRegressor(random_state=SEED))\n",
    "])\n",
    "\n",
    "grid_rf = GridSearchCV(\n",
    "    rf_pipeline,\n",
    "    param_grid=param_grid,\n",
    "    scoring=neg_rmse,\n",
    "    cv=3,\n",
    "    verbose=1,\n",
    "    error_score='raise',\n",
    "    n_jobs=-1\n",
    ")\n",
    "\n",
    "grid_rf.fit(X_train, y_train)\n",
    "\n",
    "print(\"Melhores parâmetros (Random Forest):\", grid_rf.best_params_)\n",
    "print(\"Melhor RMSE (validação cruzada):\", -grid_rf.best_score_)\n"
   ]
  },
  {
   "cell_type": "markdown",
   "metadata": {},
   "source": [
    "### Modelo (d) – Dummy Regressor\n",
    "\n",
    "O `DummyRegressor` é um modelo ingênuo que simplesmente retorna a média (ou outra estratégia simples) como predição.\n",
    "\n",
    "Não faremos ajuste de hiperparâmetros aqui. Utilizaremos `cross_val_score` para avaliar seu desempenho com RMSE.\n"
   ]
  },
  {
   "cell_type": "code",
   "execution_count": 46,
   "metadata": {},
   "outputs": [
    {
     "name": "stdout",
     "output_type": "stream",
     "text": [
      "RMSE médio (Dummy Regressor): 0.17633035697177293\n"
     ]
    }
   ],
   "source": [
    "from sklearn.dummy import DummyRegressor\n",
    "from sklearn.model_selection import cross_val_score\n",
    "\n",
    "dummy_pipeline = Pipeline([\n",
    "    ('preprocessor', column_transformer),\n",
    "    ('regressor', DummyRegressor(strategy='mean'))\n",
    "])\n",
    "\n",
    "scores = cross_val_score(\n",
    "    dummy_pipeline,\n",
    "    X_train,\n",
    "    y_train,\n",
    "    scoring=neg_rmse,\n",
    "    cv=3,\n",
    "    n_jobs=-1\n",
    ")\n",
    "\n",
    "print(\"RMSE médio (Dummy Regressor):\", -scores.mean())\n"
   ]
  },
  {
   "cell_type": "markdown",
   "metadata": {},
   "source": [
    "### Certificação do Melhor Modelo – LinearSVR\n",
    "\n",
    "O melhor modelo da validação cruzada foi o `LinearSVR`.\n",
    "\n",
    "Agora vamos treiná-lo com os dados de treino completos e avaliá-lo no conjunto de teste.\n",
    "\n",
    "Usaremos o RMSE como métrica para avaliar o desempenho fora da amostra.\n"
   ]
  },
  {
   "cell_type": "code",
   "execution_count": 47,
   "metadata": {},
   "outputs": [
    {
     "name": "stdout",
     "output_type": "stream",
     "text": [
      "RMSE no conjunto de teste: 0.053398543223927404\n",
      "RMSE no conjunto de treino: 0.06078398736948238\n"
     ]
    }
   ],
   "source": [
    "best_svr = grid_svr.best_estimator_\n",
    "\n",
    "y_pred_test = best_svr.predict(X_test)\n",
    "\n",
    "rmse_test = rmse(y_test, y_pred_test)\n",
    "print(\"RMSE no conjunto de teste:\", rmse_test)\n",
    "\n",
    "y_pred_train = best_svr.predict(X_train)\n",
    "rmse_train = rmse(y_train, y_pred_train)\n",
    "print(\"RMSE no conjunto de treino:\", rmse_train)\n"
   ]
  },
  {
   "cell_type": "code",
   "execution_count": 48,
   "metadata": {},
   "outputs": [
    {
     "data": {
      "image/png": "[encoded data removed]",
      "text/plain": [
       "<Figure size 800x600 with 1 Axes>"
      ]
     },
     "metadata": {},
     "output_type": "display_data"
    }
   ],
   "source": [
    "import matplotlib.pyplot as plt\n",
    "import seaborn as sns\n",
    "\n",
    "plt.figure(figsize=(8, 6))\n",
    "sns.scatterplot(x=y_test, y=y_pred_test)\n",
    "plt.plot([y_test.min(), y_test.max()], [y_test.min(), y_test.max()], color='red', linestyle='--')\n",
    "plt.xlabel(\"Valor Real (log10)\")\n",
    "plt.ylabel(\"Valor Predito (log10)\")\n",
    "plt.title(\"Predições vs Valores Reais – LinearSVR\")\n",
    "plt.grid(True)\n",
    "plt.tight_layout()\n",
    "plt.show()\n"
   ]
  },
  {
   "cell_type": "markdown",
   "metadata": {},
   "source": [
    "## Conclusões Finais\n",
    "\n",
    "### Desempenho e Aplicação de Negócios\n",
    "\n",
    "O modelo `LinearSVR` apresentou excelente desempenho, com RMSE médio de **0.06** na validação cruzada e **0.05** no conjunto de teste. Isso indica que o modelo é capaz de **predizer o logaritmo do preço dos imóveis com altíssima precisão**, generalizando bem para dados nunca vistos.\n",
    "\n",
    "Em termos práticos, isso significa que:\n",
    "\n",
    "- O modelo pode ser usado como base para um sistema de **precificação automática de imóveis**, com confiabilidade para tomada de decisão.\n",
    "- Pode apoiar **corretores, imobiliárias ou plataformas digitais** que recomendam preços justos de compra/venda, especialmente quando há muitos imóveis para avaliar simultaneamente.\n",
    "- Como o modelo foi treinado com poucas features selecionadas, ele é **leve e eficiente para produção**, mesmo com um número limitado de atributos por imóvel.\n",
    "\n",
    "---\n",
    "\n",
    "### Importância das Features\n",
    "\n",
    "Como utilizamos o modelo `LinearSVR`, que é **linear com regularização L1/L2**, conseguimos analisar as features com base nos coeficientes.\n",
    "\n",
    "As principais variáveis associadas a um maior impacto na precificação foram:\n",
    "\n",
    "- **Gr.Liv.Area** (área útil acima do solo)\n",
    "- **Overall.Qual** (qualidade geral do imóvel)\n",
    "- **Total.SF** (soma das áreas do imóvel)\n",
    "- **Garage.Cars** (capacidade de garagem)\n",
    "- **Neighborhood** (região geográfica)\n",
    "\n",
    "Essas features se destacaram tanto na análise de correlação quanto no desempenho prático dos modelos.\n",
    "\n",
    "---\n",
    "\n",
    "### Considerações Finais\n",
    "\n",
    "- A transformação do target com `log10` ajudou a estabilizar variâncias e melhorar o ajuste.\n",
    "- O pipeline de pré-processamento com `ColumnTransformer` foi fundamental para tratar corretamente dados numéricos e categóricos.\n",
    "- O modelo é explicável, robusto e de fácil manutenção — ideal para aplicações reais.\n",
    "\n"
   ]
  }
 ],
 "metadata": {
  "kernelspec": {
   "display_name": "base",
   "language": "python",
   "name": "python3"
  },
  "language_info": {
   "codemirror_mode": {
    "name": "ipython",
    "version": 3
   },
   "file_extension": ".py",
   "mimetype": "text/x-python",
   "name": "python",
   "nbconvert_exporter": "python",
   "pygments_lexer": "ipython3",
   "version": "3.12.7"
  }
 },
 "nbformat": 4,
 "nbformat_minor": 2
}
